{
 "cells": [
  {
   "cell_type": "markdown",
   "metadata": {
    "colab_type": "text",
    "id": "omhAFd-K1Xmy"
   },
   "source": [
    "### **Aim of the Project**\n",
    "**The aim of the project is to build a Machine Learning\n",
    "Model to predict whether an owner will initiate an auto\n",
    "insurance claim in the next year.**\n",
    "\n",
    "The auto insurance industry is witnessing a paradigm shift. Since auto insurance company consists of homogenous good thereby making it difficult to differentiate product A from product B, also companies are fighting a price war (for insurance price). On top of that, the\n",
    "distribution channel is shifting more from traditional insurance brokers to online purchases,which means that the ability for companies to interact through human touchpoints is limited,\n",
    "and customers should be quoted at a reasonable price. A good price quote is one that makes the customer purchase the policy and helps the company to increase the profits. Also, the insurance premium is calculated based on more than 50+ parameters, which means that traditional business analytics-based algorithms are now limited in their ability to differentiate among customers based on subtle parameters."
   ]
  },
  {
   "cell_type": "code",
   "execution_count": null,
   "metadata": {
    "colab": {
     "base_uri": "https://localhost:8080/",
     "height": 122
    },
    "colab_type": "code",
    "id": "wmYycWIP1yB1",
    "outputId": "ec6d3751-437f-4908-c410-69ddb90d3901"
   },
   "outputs": [],
   "source": []
  },
  {
   "cell_type": "code",
   "execution_count": 1,
   "metadata": {
    "colab": {},
    "colab_type": "code",
    "id": "KxccNADh3AMb"
   },
   "outputs": [],
   "source": [
    "import pandas as pd\n",
    "import numpy as np\n",
    "from sklearn.preprocessing import MinMaxScaler,Normalizer\n",
    "import seaborn as sns\n",
    "import matplotlib.pyplot as plt\n",
    "%matplotlib inline\n",
    "import warnings\n",
    "warnings.filterwarnings(\"ignore\")\n",
    "from sklearn.linear_model import LogisticRegression\n",
    "from sklearn.metrics import f1_score,balanced_accuracy_score,accuracy_score,classification_report,confusion_matrix\n",
    "from sklearn.model_selection import GridSearchCV,RandomizedSearchCV,train_test_split\n",
    "from sklearn.svm import LinearSVC\n",
    "from sklearn.model_selection import cross_val_score\n",
    "import xgboost\n",
    "from scipy import stats"
   ]
  },
  {
   "cell_type": "code",
   "execution_count": 2,
   "metadata": {
    "colab": {
     "base_uri": "https://localhost:8080/",
     "height": 34
    },
    "colab_type": "code",
    "id": "0oEmI5_t3-ZX",
    "outputId": "4c4810cb-e39c-44fd-8509-d1a7898fc075"
   },
   "outputs": [
    {
     "data": {
      "text/plain": [
       "(595212, 58)"
      ]
     },
     "execution_count": 2,
     "metadata": {},
     "output_type": "execute_result"
    }
   ],
   "source": [
    "data=pd.read_csv('train(1).csv')\n",
    "data=data.drop(['id'],axis=1)\n",
    "data.shape"
   ]
  },
  {
   "cell_type": "code",
   "execution_count": 3,
   "metadata": {
    "colab": {
     "base_uri": "https://localhost:8080/",
     "height": 317
    },
    "colab_type": "code",
    "id": "a1DAKfuH5EDB",
    "outputId": "0df1dddf-c7df-461d-f126-680dab10d6b3"
   },
   "outputs": [
    {
     "data": {
      "text/html": [
       "<div>\n",
       "<style scoped>\n",
       "    .dataframe tbody tr th:only-of-type {\n",
       "        vertical-align: middle;\n",
       "    }\n",
       "\n",
       "    .dataframe tbody tr th {\n",
       "        vertical-align: top;\n",
       "    }\n",
       "\n",
       "    .dataframe thead th {\n",
       "        text-align: right;\n",
       "    }\n",
       "</style>\n",
       "<table border=\"1\" class=\"dataframe\">\n",
       "  <thead>\n",
       "    <tr style=\"text-align: right;\">\n",
       "      <th></th>\n",
       "      <th>target</th>\n",
       "      <th>ps_ind_01</th>\n",
       "      <th>ps_ind_02_cat</th>\n",
       "      <th>ps_ind_03</th>\n",
       "      <th>ps_ind_04_cat</th>\n",
       "      <th>ps_ind_05_cat</th>\n",
       "      <th>ps_ind_06_bin</th>\n",
       "      <th>ps_ind_07_bin</th>\n",
       "      <th>ps_ind_08_bin</th>\n",
       "      <th>ps_ind_09_bin</th>\n",
       "      <th>...</th>\n",
       "      <th>ps_calc_11</th>\n",
       "      <th>ps_calc_12</th>\n",
       "      <th>ps_calc_13</th>\n",
       "      <th>ps_calc_14</th>\n",
       "      <th>ps_calc_15_bin</th>\n",
       "      <th>ps_calc_16_bin</th>\n",
       "      <th>ps_calc_17_bin</th>\n",
       "      <th>ps_calc_18_bin</th>\n",
       "      <th>ps_calc_19_bin</th>\n",
       "      <th>ps_calc_20_bin</th>\n",
       "    </tr>\n",
       "  </thead>\n",
       "  <tbody>\n",
       "    <tr>\n",
       "      <th>count</th>\n",
       "      <td>595212.000000</td>\n",
       "      <td>595212.000000</td>\n",
       "      <td>595212.000000</td>\n",
       "      <td>595212.000000</td>\n",
       "      <td>595212.000000</td>\n",
       "      <td>595212.000000</td>\n",
       "      <td>595212.000000</td>\n",
       "      <td>595212.000000</td>\n",
       "      <td>595212.000000</td>\n",
       "      <td>595212.000000</td>\n",
       "      <td>...</td>\n",
       "      <td>595212.000000</td>\n",
       "      <td>595212.000000</td>\n",
       "      <td>595212.000000</td>\n",
       "      <td>595212.000000</td>\n",
       "      <td>595212.000000</td>\n",
       "      <td>595212.000000</td>\n",
       "      <td>595212.000000</td>\n",
       "      <td>595212.000000</td>\n",
       "      <td>595212.000000</td>\n",
       "      <td>595212.000000</td>\n",
       "    </tr>\n",
       "    <tr>\n",
       "      <th>mean</th>\n",
       "      <td>0.036448</td>\n",
       "      <td>1.900378</td>\n",
       "      <td>1.358943</td>\n",
       "      <td>4.423318</td>\n",
       "      <td>0.416794</td>\n",
       "      <td>0.405188</td>\n",
       "      <td>0.393742</td>\n",
       "      <td>0.257033</td>\n",
       "      <td>0.163921</td>\n",
       "      <td>0.185304</td>\n",
       "      <td>...</td>\n",
       "      <td>5.441382</td>\n",
       "      <td>1.441918</td>\n",
       "      <td>2.872288</td>\n",
       "      <td>7.539026</td>\n",
       "      <td>0.122427</td>\n",
       "      <td>0.627840</td>\n",
       "      <td>0.554182</td>\n",
       "      <td>0.287182</td>\n",
       "      <td>0.349024</td>\n",
       "      <td>0.153318</td>\n",
       "    </tr>\n",
       "    <tr>\n",
       "      <th>std</th>\n",
       "      <td>0.187401</td>\n",
       "      <td>1.983789</td>\n",
       "      <td>0.664594</td>\n",
       "      <td>2.699902</td>\n",
       "      <td>0.493311</td>\n",
       "      <td>1.350642</td>\n",
       "      <td>0.488579</td>\n",
       "      <td>0.436998</td>\n",
       "      <td>0.370205</td>\n",
       "      <td>0.388544</td>\n",
       "      <td>...</td>\n",
       "      <td>2.332871</td>\n",
       "      <td>1.202963</td>\n",
       "      <td>1.694887</td>\n",
       "      <td>2.746652</td>\n",
       "      <td>0.327779</td>\n",
       "      <td>0.483381</td>\n",
       "      <td>0.497056</td>\n",
       "      <td>0.452447</td>\n",
       "      <td>0.476662</td>\n",
       "      <td>0.360295</td>\n",
       "    </tr>\n",
       "    <tr>\n",
       "      <th>min</th>\n",
       "      <td>0.000000</td>\n",
       "      <td>0.000000</td>\n",
       "      <td>-1.000000</td>\n",
       "      <td>0.000000</td>\n",
       "      <td>-1.000000</td>\n",
       "      <td>-1.000000</td>\n",
       "      <td>0.000000</td>\n",
       "      <td>0.000000</td>\n",
       "      <td>0.000000</td>\n",
       "      <td>0.000000</td>\n",
       "      <td>...</td>\n",
       "      <td>0.000000</td>\n",
       "      <td>0.000000</td>\n",
       "      <td>0.000000</td>\n",
       "      <td>0.000000</td>\n",
       "      <td>0.000000</td>\n",
       "      <td>0.000000</td>\n",
       "      <td>0.000000</td>\n",
       "      <td>0.000000</td>\n",
       "      <td>0.000000</td>\n",
       "      <td>0.000000</td>\n",
       "    </tr>\n",
       "    <tr>\n",
       "      <th>25%</th>\n",
       "      <td>0.000000</td>\n",
       "      <td>0.000000</td>\n",
       "      <td>1.000000</td>\n",
       "      <td>2.000000</td>\n",
       "      <td>0.000000</td>\n",
       "      <td>0.000000</td>\n",
       "      <td>0.000000</td>\n",
       "      <td>0.000000</td>\n",
       "      <td>0.000000</td>\n",
       "      <td>0.000000</td>\n",
       "      <td>...</td>\n",
       "      <td>4.000000</td>\n",
       "      <td>1.000000</td>\n",
       "      <td>2.000000</td>\n",
       "      <td>6.000000</td>\n",
       "      <td>0.000000</td>\n",
       "      <td>0.000000</td>\n",
       "      <td>0.000000</td>\n",
       "      <td>0.000000</td>\n",
       "      <td>0.000000</td>\n",
       "      <td>0.000000</td>\n",
       "    </tr>\n",
       "    <tr>\n",
       "      <th>50%</th>\n",
       "      <td>0.000000</td>\n",
       "      <td>1.000000</td>\n",
       "      <td>1.000000</td>\n",
       "      <td>4.000000</td>\n",
       "      <td>0.000000</td>\n",
       "      <td>0.000000</td>\n",
       "      <td>0.000000</td>\n",
       "      <td>0.000000</td>\n",
       "      <td>0.000000</td>\n",
       "      <td>0.000000</td>\n",
       "      <td>...</td>\n",
       "      <td>5.000000</td>\n",
       "      <td>1.000000</td>\n",
       "      <td>3.000000</td>\n",
       "      <td>7.000000</td>\n",
       "      <td>0.000000</td>\n",
       "      <td>1.000000</td>\n",
       "      <td>1.000000</td>\n",
       "      <td>0.000000</td>\n",
       "      <td>0.000000</td>\n",
       "      <td>0.000000</td>\n",
       "    </tr>\n",
       "    <tr>\n",
       "      <th>75%</th>\n",
       "      <td>0.000000</td>\n",
       "      <td>3.000000</td>\n",
       "      <td>2.000000</td>\n",
       "      <td>6.000000</td>\n",
       "      <td>1.000000</td>\n",
       "      <td>0.000000</td>\n",
       "      <td>1.000000</td>\n",
       "      <td>1.000000</td>\n",
       "      <td>0.000000</td>\n",
       "      <td>0.000000</td>\n",
       "      <td>...</td>\n",
       "      <td>7.000000</td>\n",
       "      <td>2.000000</td>\n",
       "      <td>4.000000</td>\n",
       "      <td>9.000000</td>\n",
       "      <td>0.000000</td>\n",
       "      <td>1.000000</td>\n",
       "      <td>1.000000</td>\n",
       "      <td>1.000000</td>\n",
       "      <td>1.000000</td>\n",
       "      <td>0.000000</td>\n",
       "    </tr>\n",
       "    <tr>\n",
       "      <th>max</th>\n",
       "      <td>1.000000</td>\n",
       "      <td>7.000000</td>\n",
       "      <td>4.000000</td>\n",
       "      <td>11.000000</td>\n",
       "      <td>1.000000</td>\n",
       "      <td>6.000000</td>\n",
       "      <td>1.000000</td>\n",
       "      <td>1.000000</td>\n",
       "      <td>1.000000</td>\n",
       "      <td>1.000000</td>\n",
       "      <td>...</td>\n",
       "      <td>19.000000</td>\n",
       "      <td>10.000000</td>\n",
       "      <td>13.000000</td>\n",
       "      <td>23.000000</td>\n",
       "      <td>1.000000</td>\n",
       "      <td>1.000000</td>\n",
       "      <td>1.000000</td>\n",
       "      <td>1.000000</td>\n",
       "      <td>1.000000</td>\n",
       "      <td>1.000000</td>\n",
       "    </tr>\n",
       "  </tbody>\n",
       "</table>\n",
       "<p>8 rows × 58 columns</p>\n",
       "</div>"
      ],
      "text/plain": [
       "              target      ps_ind_01  ps_ind_02_cat      ps_ind_03  \\\n",
       "count  595212.000000  595212.000000  595212.000000  595212.000000   \n",
       "mean        0.036448       1.900378       1.358943       4.423318   \n",
       "std         0.187401       1.983789       0.664594       2.699902   \n",
       "min         0.000000       0.000000      -1.000000       0.000000   \n",
       "25%         0.000000       0.000000       1.000000       2.000000   \n",
       "50%         0.000000       1.000000       1.000000       4.000000   \n",
       "75%         0.000000       3.000000       2.000000       6.000000   \n",
       "max         1.000000       7.000000       4.000000      11.000000   \n",
       "\n",
       "       ps_ind_04_cat  ps_ind_05_cat  ps_ind_06_bin  ps_ind_07_bin  \\\n",
       "count  595212.000000  595212.000000  595212.000000  595212.000000   \n",
       "mean        0.416794       0.405188       0.393742       0.257033   \n",
       "std         0.493311       1.350642       0.488579       0.436998   \n",
       "min        -1.000000      -1.000000       0.000000       0.000000   \n",
       "25%         0.000000       0.000000       0.000000       0.000000   \n",
       "50%         0.000000       0.000000       0.000000       0.000000   \n",
       "75%         1.000000       0.000000       1.000000       1.000000   \n",
       "max         1.000000       6.000000       1.000000       1.000000   \n",
       "\n",
       "       ps_ind_08_bin  ps_ind_09_bin  ...     ps_calc_11     ps_calc_12  \\\n",
       "count  595212.000000  595212.000000  ...  595212.000000  595212.000000   \n",
       "mean        0.163921       0.185304  ...       5.441382       1.441918   \n",
       "std         0.370205       0.388544  ...       2.332871       1.202963   \n",
       "min         0.000000       0.000000  ...       0.000000       0.000000   \n",
       "25%         0.000000       0.000000  ...       4.000000       1.000000   \n",
       "50%         0.000000       0.000000  ...       5.000000       1.000000   \n",
       "75%         0.000000       0.000000  ...       7.000000       2.000000   \n",
       "max         1.000000       1.000000  ...      19.000000      10.000000   \n",
       "\n",
       "          ps_calc_13     ps_calc_14  ps_calc_15_bin  ps_calc_16_bin  \\\n",
       "count  595212.000000  595212.000000   595212.000000   595212.000000   \n",
       "mean        2.872288       7.539026        0.122427        0.627840   \n",
       "std         1.694887       2.746652        0.327779        0.483381   \n",
       "min         0.000000       0.000000        0.000000        0.000000   \n",
       "25%         2.000000       6.000000        0.000000        0.000000   \n",
       "50%         3.000000       7.000000        0.000000        1.000000   \n",
       "75%         4.000000       9.000000        0.000000        1.000000   \n",
       "max        13.000000      23.000000        1.000000        1.000000   \n",
       "\n",
       "       ps_calc_17_bin  ps_calc_18_bin  ps_calc_19_bin  ps_calc_20_bin  \n",
       "count   595212.000000   595212.000000   595212.000000   595212.000000  \n",
       "mean         0.554182        0.287182        0.349024        0.153318  \n",
       "std          0.497056        0.452447        0.476662        0.360295  \n",
       "min          0.000000        0.000000        0.000000        0.000000  \n",
       "25%          0.000000        0.000000        0.000000        0.000000  \n",
       "50%          1.000000        0.000000        0.000000        0.000000  \n",
       "75%          1.000000        1.000000        1.000000        0.000000  \n",
       "max          1.000000        1.000000        1.000000        1.000000  \n",
       "\n",
       "[8 rows x 58 columns]"
      ]
     },
     "execution_count": 3,
     "metadata": {},
     "output_type": "execute_result"
    }
   ],
   "source": [
    "data.describe()"
   ]
  },
  {
   "cell_type": "markdown",
   "metadata": {
    "colab_type": "text",
    "id": "OppkGDmkFBu2"
   },
   "source": [
    "From the initial glance of the dataset, it can be observed that the minimum values in some features are -1, indicating the presence of missing values and some features have negative mean,indicating large number of missing values."
   ]
  },
  {
   "cell_type": "code",
   "execution_count": 0,
   "metadata": {
    "colab": {},
    "colab_type": "code",
    "id": "_yfQGu2ddbxZ"
   },
   "outputs": [],
   "source": [
    "#data.info()"
   ]
  },
  {
   "cell_type": "code",
   "execution_count": 5,
   "metadata": {
    "colab": {},
    "colab_type": "code",
    "id": "cBIDGv3EWH7v"
   },
   "outputs": [],
   "source": [
    "# Splitting the columns on the basis of feature type\n",
    "cat_var=[]\n",
    "bin_var=[]\n",
    "intr_var=[]\n",
    "ord_var=[]\n",
    "target=[]\n",
    "for i in data.columns:\n",
    "  if 'cat' in i:\n",
    "    cat_var.append(i)\n",
    "  elif 'bin' in i:\n",
    "    bin_var.append(i)\n",
    "  elif data[i].dtype==float:\n",
    "    intr_var.append(i)\n",
    "  elif (data[i].dtype==int and i!='target'):\n",
    "    ord_var.append(i)\n",
    "  elif i == 'target':\n",
    "    target.append(i)\n",
    "  else:\n",
    "    ord_var.append(i)"
   ]
  },
  {
   "cell_type": "markdown",
   "metadata": {
    "colab_type": "text",
    "id": "HvrHNmKZf8mD"
   },
   "source": [
    "### **INTERVAL DATA**"
   ]
  },
  {
   "cell_type": "code",
   "execution_count": 6,
   "metadata": {
    "colab": {},
    "colab_type": "code",
    "id": "LV8AKnqJGgzt"
   },
   "outputs": [],
   "source": [
    "# Separating the data with target =1\n",
    "target_1=data[data['target']==1]"
   ]
  },
  {
   "cell_type": "code",
   "execution_count": null,
   "metadata": {
    "colab": {
     "base_uri": "https://localhost:8080/",
     "height": 281
    },
    "colab_type": "code",
    "id": "ACp61UyX2pXf",
    "outputId": "005c5cee-9c0a-4da6-bb66-58f929c8d7ff"
   },
   "outputs": [],
   "source": []
  },
  {
   "cell_type": "markdown",
   "metadata": {
    "colab_type": "text",
    "id": "MhcrO368ZXaP"
   },
   "source": [
    "### **CATEGORICAL DATA**"
   ]
  },
  {
   "cell_type": "markdown",
   "metadata": {
    "colab_type": "text",
    "id": "VhZjBHqtd9Vz"
   },
   "source": [
    "#### **Distribution of features**\n"
   ]
  },
  {
   "cell_type": "code",
   "execution_count": 8,
   "metadata": {
    "colab": {
     "base_uri": "https://localhost:8080/",
     "height": 1000
    },
    "colab_type": "code",
    "id": "7wTutLMmLnw9",
    "outputId": "e677a575-7ea9-4cf1-c15d-9d41de671949"
   },
   "outputs": [
    {
     "data": {
      "image/png": "[encoded data removed]",
      "text/plain": [
       "<Figure size 1440x720 with 12 Axes>"
      ]
     },
     "metadata": {},
     "output_type": "display_data"
    },
    {
     "data": {
      "image/png": "[encoded data removed]",
      "text/plain": [
       "<Figure size 720x288 with 2 Axes>"
      ]
     },
     "metadata": {},
     "output_type": "display_data"
    }
   ],
   "source": [
    "plt.style.use('ggplot')\n",
    "plt.subplots(3,4,figsize=(20,10))\n",
    "plt.subplots_adjust(bottom=-0.1)\n",
    "for i in range(len(cat_var[:-2])):\n",
    "  plt.subplot(3,4,i+1)\n",
    "  plt.title(cat_var[i])\n",
    "  data[cat_var[i]].hist(align='left',color='b',label='Overall')\n",
    "  target_1[cat_var[i]].hist(align='left',label='Claimed')\n",
    "  plt.xticks(data[cat_var[i]].unique())\n",
    "  plt.legend()\n",
    "plt.subplots(1,2,figsize=(10,4))\n",
    "plt.subplot(1,2,1)\n",
    "data[cat_var[-2]].hist(align='left',color='b')\n",
    "target_1[cat_var[-2]].hist(align='left')\n",
    "plt.xticks(data[cat_var[-2]].unique())\n",
    "plt.title(cat_var[-2])\n",
    "plt.subplot(1,2,2)\n",
    "data[cat_var[-1]].hist(align='left',color='b')\n",
    "target_1[cat_var[-1]].hist(align='left')\n",
    "plt.xticks(data[cat_var[-1]].unique())\n",
    "plt.title(cat_var[-1])\n",
    "plt.show()"
   ]
  },
  {
   "cell_type": "markdown",
   "metadata": {
    "colab_type": "text",
    "id": "HurlPAD2xJju"
   },
   "source": [
    "- It can be observed that the categorical features have varying labels.\n",
    "- Some of the features such as **ps_ind_05_cat,ps_car_02_cat,ps_car_10_cat,ps_car_07_cat,ps_car_08_cat** are very unbalanced.\n",
    "- The feature **ps_car_11_cat** have 104 unique labels and maximum frequency occuring at 104.\n",
    "- The feature **ps_car_11_cat** looks similar to interval features such as **ps_reg_01** and **ps_car_15** in distribution.\n",
    "- In feature **ps_car_03_cat**, the percentage of -1 i.e. missing values is very high and can't be treated as a label."
   ]
  },
  {
   "cell_type": "markdown",
   "metadata": {
    "colab_type": "text",
    "id": "ENxKr7rXS85c"
   },
   "source": [
    "**Exploring the contribution of each feature towards insurance claim.**"
   ]
  },
  {
   "cell_type": "code",
   "execution_count": 9,
   "metadata": {
    "colab": {},
    "colab_type": "code",
    "id": "7asBBm39qNLd"
   },
   "outputs": [],
   "source": [
    "new_cat_var=target_1[cat_var].nunique().sort_values().index"
   ]
  },
  {
   "cell_type": "code",
   "execution_count": null,
   "metadata": {
    "colab": {
     "base_uri": "https://localhost:8080/",
     "height": 316
    },
    "colab_type": "code",
    "id": "N8VTq0WJ5yUx",
    "outputId": "039d3908-458b-4518-ca56-80aab305e039"
   },
   "outputs": [],
   "source": []
  },
  {
   "cell_type": "markdown",
   "metadata": {
    "colab_type": "text",
    "id": "T2p984YtzQsQ"
   },
   "source": [
    "### **BINARY DATA**"
   ]
  },
  {
   "cell_type": "markdown",
   "metadata": {
    "colab_type": "text",
    "id": "5-wo0oX0OJi7"
   },
   "source": [
    "There are total 17 binary features in the dataset. Let's check the distribution of the features"
   ]
  },
  {
   "cell_type": "code",
   "execution_count": 11,
   "metadata": {
    "colab": {
     "base_uri": "https://localhost:8080/",
     "height": 982
    },
    "colab_type": "code",
    "id": "3pGIIWa9M7KS",
    "outputId": "4fc7e2fc-5d2b-4d6b-e99b-c9414a486200"
   },
   "outputs": [
    {
     "data": {
      "image/png": "[encoded data removed]",
      "text/plain": [
       "<Figure size 1440x720 with 16 Axes>"
      ]
     },
     "metadata": {},
     "output_type": "display_data"
    },
    {
     "data": {
      "image/png": "[encoded data removed]",
      "text/plain": [
       "<Figure size 360x216 with 1 Axes>"
      ]
     },
     "metadata": {},
     "output_type": "display_data"
    }
   ],
   "source": [
    "plt.subplots(4,4,figsize=(20,10))\n",
    "plt.subplots_adjust(bottom=-0.1)\n",
    "plt.style.use('ggplot')\n",
    "for i in range(len(bin_var[:-1])):\n",
    "  plt.subplot(4,4,i+1)\n",
    "  plt.title(bin_var[i])\n",
    "  data[bin_var[i]].hist(align='left')\n",
    "  plt.xticks(data[bin_var[i]].unique())\n",
    "plt.subplots(1,1,figsize=(5,3))\n",
    "plt.subplot(1,1,1)\n",
    "data[bin_var[-1]].hist(align='left')\n",
    "plt.xticks(data[bin_var[-1]].unique())\n",
    "plt.title(bin_var[-1])\n",
    "plt.show()"
   ]
  },
  {
   "cell_type": "markdown",
   "metadata": {
    "colab_type": "text",
    "id": "YuxcmXIGBak2"
   },
   "source": [
    "- The above plots show the distribution of binary features.\n",
    "- In features **ps_ind_10,11,12 & 13** the frequency of class 1 is almost negligible to none. Therefore they will not be able to contribute towards prediction.\n",
    "- There appears to be a significant difference in frequency in some of the features."
   ]
  },
  {
   "cell_type": "code",
   "execution_count": null,
   "metadata": {
    "colab": {
     "base_uri": "https://localhost:8080/",
     "height": 982
    },
    "colab_type": "code",
    "id": "wrgSCtpq-H15",
    "outputId": "d2dc6c55-5e74-4f02-c1d9-7900f10dfb7e"
   },
   "outputs": [],
   "source": []
  },
  {
   "cell_type": "markdown",
   "metadata": {
    "colab_type": "text",
    "id": "b3NQxrTkK6k3"
   },
   "source": [
    "### **ORDINAL DATA**"
   ]
  },
  {
   "cell_type": "markdown",
   "metadata": {
    "colab_type": "text",
    "id": "dNELspMMP9i0"
   },
   "source": [
    "**Visualizing the feature distribution**"
   ]
  },
  {
   "cell_type": "code",
   "execution_count": 23,
   "metadata": {
    "colab": {
     "base_uri": "https://localhost:8080/",
     "height": 912
    },
    "colab_type": "code",
    "id": "z1TsL92wLAut",
    "outputId": "f781f9f5-8003-4379-fd81-0251b9e861f7"
   },
   "outputs": [
    {
     "data": {
      "image/png": "[encoded data removed]",
      "text/plain": [
       "<Figure size 1440x864 with 16 Axes>"
      ]
     },
     "metadata": {
      "tags": []
     },
     "output_type": "display_data"
    }
   ],
   "source": [
    "plt.subplots(4,4,figsize=(20,12))\n",
    "plt.subplots_adjust(bottom=-0.1)\n",
    "plt.style.use('ggplot')\n",
    "for i in range(len(ord_var)):\n",
    "  plt.subplot(4,4,i+1)\n",
    "  plt.title(ord_var[i])\n",
    "  data[ord_var[i]].hist(align='left',color='blue')\n",
    "  plt.xticks(data[ord_var[i]].unique())\n",
    "plt.show()"
   ]
  },
  {
   "cell_type": "markdown",
   "metadata": {
    "colab_type": "text",
    "id": "Np4ug15MQEEh"
   },
   "source": [
    "- It can be observed that in feature **ps_ind_14** is very imbalanced the percentage of one is almost negligible, hence this feature will not have any impact on the prediction. \n",
    "- The features such as **ps_car_11,ps_calc_04,5,8,12** showing skewed distribution.    \n",
    "- The features **ps_calc_07,10,11 and 14** showing approximately normal distribution."
   ]
  },
  {
   "cell_type": "code",
   "execution_count": null,
   "metadata": {
    "colab": {
     "base_uri": "https://localhost:8080/",
     "height": 915
    },
    "colab_type": "code",
    "id": "8uBQr8RuXsgK",
    "outputId": "644d9e70-acb2-49ce-bbd8-ed7ebafbb255"
   },
   "outputs": [],
   "source": []
  },
  {
   "cell_type": "markdown",
   "metadata": {
    "colab_type": "text",
    "id": "7ykLDa2Uhw5E"
   },
   "source": [
    "### **MISSING VALUES**"
   ]
  },
  {
   "cell_type": "code",
   "execution_count": 13,
   "metadata": {
    "colab": {},
    "colab_type": "code",
    "id": "cVuRDnuI4hVS"
   },
   "outputs": [],
   "source": [
    "# CREATING A LIST OF FEATURES\n",
    "features=list(data.columns)"
   ]
  },
  {
   "cell_type": "markdown",
   "metadata": {
    "colab_type": "text",
    "id": "d2BSCT39jyZP"
   },
   "source": [
    "**Computing the percentage of missing values in the original dataset.**"
   ]
  },
  {
   "cell_type": "code",
   "execution_count": 14,
   "metadata": {
    "colab": {
     "base_uri": "https://localhost:8080/",
     "height": 255
    },
    "colab_type": "code",
    "id": "bESWffXwIotC",
    "outputId": "2cd7a6ae-1f0e-4e24-c68e-d00df67ff2ef"
   },
   "outputs": [
    {
     "name": "stdout",
     "output_type": "stream",
     "text": [
      "FEATURE                         COUNT           MISSING VALUES (%)\n",
      "\n",
      "ps_ind_02_cat                   216                     0.04\n",
      "ps_ind_04_cat                    83                     0.01\n",
      "ps_ind_05_cat                  5809                     0.98\n",
      "ps_reg_03                    107772                    18.11\n",
      "ps_car_01_cat                   107                     0.02\n",
      "ps_car_03_cat                411231                    69.09\n",
      "ps_car_05_cat                266551                    44.78\n",
      "ps_car_07_cat                 11489                     1.93\n",
      "ps_car_09_cat                   569                      0.1\n",
      "ps_car_11                         5                      0.0\n",
      "ps_car_12                         1                      0.0\n",
      "ps_car_14                     42620                     7.16\n"
     ]
    }
   ],
   "source": [
    "# CHECK FOR MISSING VALUES IN THE DATA. MISSING VALUES ARE REPRESENTED AS -1\n",
    "print('FEATURE','                        COUNT','          MISSING VALUES (%)')\n",
    "print('')\n",
    "missing_val_feat=[]\n",
    "per1=[]\n",
    "for i in features:\n",
    "  count=0\n",
    "  mylist=list(data[i])\n",
    "  count=mylist.count(-1)\n",
    "  per=round(count*100/data[i].count(),2)\n",
    "  if count!=0:\n",
    "    missing_val_feat.append(i)\n",
    "    per1.append(per)\n",
    "    print(f'{i:{20}}{count:{15}}{per:{25}}')\n",
    " "
   ]
  },
  {
   "cell_type": "markdown",
   "metadata": {
    "colab_type": "text",
    "id": "xnEMnCnfeeT_"
   },
   "source": [
    "- It can be observed that the percentages of missing values are high in **ps_reg_03,ps_car_03_cat and ps_car_05_cat**. Imputing the missing values in these features might not give reliable result so its better to remove these features.\n",
    "- The features having missing values 1% or less can be removed row wise without significant data loss.But first let's check how much these missing values sharing claim percentage.\n",
    "\n"
   ]
  },
  {
   "cell_type": "markdown",
   "metadata": {
    "colab_type": "text",
    "id": "4udSZ-3dj-X8"
   },
   "source": [
    "**Calculating the percentage of missing values when the target feature containing only ones i.e for insurance claimed.** "
   ]
  },
  {
   "cell_type": "code",
   "execution_count": 28,
   "metadata": {
    "colab": {
     "base_uri": "https://localhost:8080/",
     "height": 438
    },
    "colab_type": "code",
    "id": "j4cVXBk3j93k",
    "outputId": "3cf98cfe-3acc-4df2-8303-cdf4c7966faf"
   },
   "outputs": [
    {
     "name": "stdout",
     "output_type": "stream",
     "text": [
      "\n"
     ]
    },
    {
     "data": {
      "text/html": [
       "<div>\n",
       "<style scoped>\n",
       "    .dataframe tbody tr th:only-of-type {\n",
       "        vertical-align: middle;\n",
       "    }\n",
       "\n",
       "    .dataframe tbody tr th {\n",
       "        vertical-align: top;\n",
       "    }\n",
       "\n",
       "    .dataframe thead th {\n",
       "        text-align: right;\n",
       "    }\n",
       "</style>\n",
       "<table border=\"1\" class=\"dataframe\">\n",
       "  <thead>\n",
       "    <tr style=\"text-align: right;\">\n",
       "      <th></th>\n",
       "      <th>Overall %</th>\n",
       "      <th>Within Claimed %</th>\n",
       "    </tr>\n",
       "  </thead>\n",
       "  <tbody>\n",
       "    <tr>\n",
       "      <th>ps_ind_02_cat</th>\n",
       "      <td>0.04</td>\n",
       "      <td>0.18</td>\n",
       "    </tr>\n",
       "    <tr>\n",
       "      <th>ps_ind_04_cat</th>\n",
       "      <td>0.01</td>\n",
       "      <td>0.15</td>\n",
       "    </tr>\n",
       "    <tr>\n",
       "      <th>ps_ind_05_cat</th>\n",
       "      <td>0.98</td>\n",
       "      <td>2.23</td>\n",
       "    </tr>\n",
       "    <tr>\n",
       "      <th>ps_reg_03</th>\n",
       "      <td>18.11</td>\n",
       "      <td>14.11</td>\n",
       "    </tr>\n",
       "    <tr>\n",
       "      <th>ps_car_01_cat</th>\n",
       "      <td>0.02</td>\n",
       "      <td>0.16</td>\n",
       "    </tr>\n",
       "    <tr>\n",
       "      <th>ps_car_03_cat</th>\n",
       "      <td>69.09</td>\n",
       "      <td>62.00</td>\n",
       "    </tr>\n",
       "    <tr>\n",
       "      <th>ps_car_05_cat</th>\n",
       "      <td>44.78</td>\n",
       "      <td>38.96</td>\n",
       "    </tr>\n",
       "    <tr>\n",
       "      <th>ps_car_07_cat</th>\n",
       "      <td>1.93</td>\n",
       "      <td>4.14</td>\n",
       "    </tr>\n",
       "    <tr>\n",
       "      <th>ps_car_09_cat</th>\n",
       "      <td>0.10</td>\n",
       "      <td>0.24</td>\n",
       "    </tr>\n",
       "    <tr>\n",
       "      <th>ps_car_11</th>\n",
       "      <td>0.00</td>\n",
       "      <td>7.94</td>\n",
       "    </tr>\n",
       "    <tr>\n",
       "      <th>ps_car_12</th>\n",
       "      <td>0.00</td>\n",
       "      <td>NaN</td>\n",
       "    </tr>\n",
       "    <tr>\n",
       "      <th>ps_car_14</th>\n",
       "      <td>7.16</td>\n",
       "      <td>NaN</td>\n",
       "    </tr>\n",
       "  </tbody>\n",
       "</table>\n",
       "</div>"
      ],
      "text/plain": [
       "               Overall %  Within Claimed %\n",
       "ps_ind_02_cat       0.04              0.18\n",
       "ps_ind_04_cat       0.01              0.15\n",
       "ps_ind_05_cat       0.98              2.23\n",
       "ps_reg_03          18.11             14.11\n",
       "ps_car_01_cat       0.02              0.16\n",
       "ps_car_03_cat      69.09             62.00\n",
       "ps_car_05_cat      44.78             38.96\n",
       "ps_car_07_cat       1.93              4.14\n",
       "ps_car_09_cat       0.10              0.24\n",
       "ps_car_11           0.00              7.94\n",
       "ps_car_12           0.00               NaN\n",
       "ps_car_14           7.16               NaN"
      ]
     },
     "execution_count": 28,
     "metadata": {
      "tags": []
     },
     "output_type": "execute_result"
    }
   ],
   "source": [
    "#print('FEATURE','                        COUNT','          MISSING VALUES (%)')\n",
    "print('')\n",
    "missing_val_feat1=[]\n",
    "per2=[]\n",
    "for i in features:\n",
    "  count=0\n",
    "  mylist=list(target_1[i])\n",
    "  count=mylist.count(-1)\n",
    "  per=round(count*100/target_1[i].count(),2)\n",
    "  if count!=0:\n",
    "    missing_val_feat1.append(i)\n",
    "    per2.append(per)\n",
    "    #print(f'{i:{20}}{count:{15}}{per:{25}}')\n",
    "pd.DataFrame([per1,per2],index=['Overall %','Within Claimed %'],columns=missing_val_feat).T"
   ]
  },
  {
   "cell_type": "markdown",
   "metadata": {
    "colab_type": "text",
    "id": "gUEJeXOnqZ9J"
   },
   "source": [
    "- On comparing the missing values percentage in overall feature and within claimed, it can be seen that percentage has increased. \n",
    "- Removing these missing values can lead to loss of important claimed data.Hence its better to impute these values with central tendencies."
   ]
  },
  {
   "cell_type": "code",
   "execution_count": 0,
   "metadata": {
    "colab": {},
    "colab_type": "code",
    "id": "Hy5LyAxrC-2f"
   },
   "outputs": [],
   "source": [
    "#Replacing -1 with None\n",
    "data1=data.replace({-1:np.nan})\n",
    "#data1.head(10)"
   ]
  },
  {
   "cell_type": "markdown",
   "metadata": {
    "colab_type": "text",
    "id": "r3Qyj8QfZk6E"
   },
   "source": [
    "**Visualizing the missing values**"
   ]
  },
  {
   "cell_type": "code",
   "execution_count": 30,
   "metadata": {
    "colab": {
     "base_uri": "https://localhost:8080/",
     "height": 277
    },
    "colab_type": "code",
    "id": "pGV6QDXb_nCW",
    "outputId": "b0f4c7ba-cfa2-4c0f-ab79-0f807fa7cf0e"
   },
   "outputs": [
    {
     "data": {
      "image/png": "[encoded data removed]",
      "text/plain": [
       "<Figure size 1800x288 with 1 Axes>"
      ]
     },
     "metadata": {
      "tags": []
     },
     "output_type": "display_data"
    }
   ],
   "source": [
    "data1.isnull().mean().plot.bar(figsize=(25,4))\n",
    "plt.show()"
   ]
  },
  {
   "cell_type": "code",
   "execution_count": 31,
   "metadata": {
    "colab": {
     "base_uri": "https://localhost:8080/",
     "height": 374
    },
    "colab_type": "code",
    "id": "i0gr0Hr3Zf5o",
    "outputId": "4b80b576-65d4-4144-8450-882cde72aed2"
   },
   "outputs": [
    {
     "data": {
      "image/png": "[encoded data removed]",
      "text/plain": [
       "<Figure size 1800x360 with 2 Axes>"
      ]
     },
     "metadata": {
      "tags": []
     },
     "output_type": "display_data"
    }
   ],
   "source": [
    "plt.figure(figsize=(25,5))\n",
    "sns.heatmap(data1.isnull(),yticklabels=False,cmap='plasma')\n",
    "plt.show()"
   ]
  },
  {
   "cell_type": "markdown",
   "metadata": {
    "colab_type": "text",
    "id": "ZBt6UJ5B_gpQ"
   },
   "source": [
    "**Strategy for Missing values**\n",
    "\n",
    "- The percentage of missing values in the features **\"ps_car_03_cat\"** and **\"ps_car_05_cat\"** is very large.Hence dropping these feature columns.\n",
    "\n",
    "- **ps_reg_03** and **ps_car_14** have 18.11 % and 7.16 % of missing values respectively, so imputing missing values on the basis of distribution. \n",
    "\n",
    "- For the remaining features, impute missing values by mean,median or mode. "
   ]
  },
  {
   "cell_type": "code",
   "execution_count": 32,
   "metadata": {
    "colab": {
     "base_uri": "https://localhost:8080/",
     "height": 34
    },
    "colab_type": "code",
    "id": "gPAED9Dy9vC6",
    "outputId": "e9379b4e-3aa7-4200-dc68-b45053ae1771"
   },
   "outputs": [
    {
     "data": {
      "text/plain": [
       "(595212, 56)"
      ]
     },
     "execution_count": 32,
     "metadata": {
      "tags": []
     },
     "output_type": "execute_result"
    }
   ],
   "source": [
    "#Dropping \"ps_car_03_cat\" and \"ps_car_05_cat\"\n",
    "data1=data1.drop([\"ps_car_03_cat\",\"ps_car_05_cat\"],axis=1)\n",
    "data1.shape"
   ]
  },
  {
   "cell_type": "markdown",
   "metadata": {
    "colab_type": "text",
    "id": "xuBXxsopi8QF"
   },
   "source": [
    "**Categorical features**\n",
    "- From the visualizations of categorical features, it can be observe that the missing values in the features **ps_ind_05_cat and ps_car_07_cat** can be safely imputed with their respective modes.\n",
    "- The missing values in the remaining features will be treated as a separate class in order to avoid any bias in the dataset."
   ]
  },
  {
   "cell_type": "code",
   "execution_count": 0,
   "metadata": {
    "colab": {},
    "colab_type": "code",
    "id": "MoQbG2gZgRlc"
   },
   "outputs": [],
   "source": [
    "data1['ps_ind_05_cat'].fillna(int(data1['ps_ind_05_cat'].mode()),inplace=True)\n",
    "data1['ps_car_07_cat'].fillna(int(data1['ps_car_07_cat'].mode()),inplace=True)"
   ]
  },
  {
   "cell_type": "code",
   "execution_count": 0,
   "metadata": {
    "colab": {},
    "colab_type": "code",
    "id": "I4plaQC2p5iL"
   },
   "outputs": [],
   "source": [
    "data1['ps_ind_02_cat'].fillna(-1,inplace=True)\n",
    "data1['ps_ind_04_cat'].fillna(-1,inplace=True)\n",
    "data1['ps_car_01_cat'].fillna(-1,inplace=True)\n",
    "data1['ps_car_09_cat'].fillna(-1,inplace=True)"
   ]
  },
  {
   "cell_type": "markdown",
   "metadata": {
    "colab_type": "text",
    "id": "rVSpdLr1PB4n"
   },
   "source": [
    "**Interval Features**\n",
    "- For ps_reg_03 first, we will analyse the distribution of the features before and after imputation."
   ]
  },
  {
   "cell_type": "code",
   "execution_count": 35,
   "metadata": {
    "colab": {
     "base_uri": "https://localhost:8080/",
     "height": 282
    },
    "colab_type": "code",
    "id": "3KItTY7MqR7_",
    "outputId": "b8eaceb7-d64d-4d9d-a218-edd00cdb0738"
   },
   "outputs": [
    {
     "data": {
      "image/png": "[encoded data removed]",
      "text/plain": [
       "<Figure size 432x288 with 1 Axes>"
      ]
     },
     "metadata": {
      "tags": []
     },
     "output_type": "display_data"
    }
   ],
   "source": [
    "# Distribution of features before imputation.\n",
    "sns.distplot(data1['ps_reg_03'])\n",
    "plt.show()"
   ]
  },
  {
   "cell_type": "code",
   "execution_count": 0,
   "metadata": {
    "colab": {},
    "colab_type": "code",
    "id": "cqoRj0TCPp9w"
   },
   "outputs": [],
   "source": [
    "reg_03_mean=data1['ps_reg_03'].fillna(data1['ps_reg_03'].mean())\n",
    "reg_03_mode=data1['ps_reg_03'].fillna(0.633936)\n",
    "reg_03_median=data1['ps_reg_03'].fillna(data1['ps_reg_03'].median())"
   ]
  },
  {
   "cell_type": "code",
   "execution_count": null,
   "metadata": {
    "colab": {
     "base_uri": "https://localhost:8080/",
     "height": 391
    },
    "colab_type": "code",
    "id": "R4BL0CryTm14",
    "outputId": "6b38fad6-cce7-4702-c4fe-8735a78498b7"
   },
   "outputs": [],
   "source": []
  },
  {
   "cell_type": "code",
   "execution_count": 38,
   "metadata": {
    "colab": {
     "base_uri": "https://localhost:8080/",
     "height": 282
    },
    "colab_type": "code",
    "id": "9zAEkWXmP86B",
    "outputId": "d68989eb-d424-4668-8b2c-76d687606760"
   },
   "outputs": [
    {
     "data": {
      "image/png": "[encoded data removed]",
      "text/plain": [
       "<Figure size 432x288 with 1 Axes>"
      ]
     },
     "metadata": {
      "tags": []
     },
     "output_type": "display_data"
    }
   ],
   "source": [
    "reg_03_ffill=data1['ps_reg_03'].fillna(method='ffill')\n",
    "sns.distplot(reg_03_ffill,color='r',kde_kws={\"color\": \"r\", \"lw\": 3,\"label\":\"ffill\"})\n",
    "sns.distplot(data1['ps_reg_03'],color='blue',kde_kws={\"color\": \"k\", \"lw\": 3,\"label\":\"Original\"})\n",
    "plt.show()"
   ]
  },
  {
   "cell_type": "markdown",
   "metadata": {
    "colab_type": "text",
    "id": "5CCQR_8StbQa"
   },
   "source": [
    "- By using fillna() method, the distribution is completely preserved."
   ]
  },
  {
   "cell_type": "markdown",
   "metadata": {
    "colab_type": "text",
    "id": "8Hm4xfC0NVEP"
   },
   "source": [
    "#### **2-Sample Kolmogorov–Smirnov test to check the similarity of distributions**"
   ]
  },
  {
   "cell_type": "code",
   "execution_count": 155,
   "metadata": {
    "colab": {
     "base_uri": "https://localhost:8080/",
     "height": 85
    },
    "colab_type": "code",
    "id": "9Rk-eVrabL1w",
    "outputId": "7e505ff8-f7b9-4e78-a9ff-c5e4483bb864"
   },
   "outputs": [
    {
     "name": "stdout",
     "output_type": "stream",
     "text": [
      "Ks_2sampResult(statistic=0.10930793980011037, pvalue=1.0)\n",
      "Ks_2sampResult(statistic=0.09053133455988141, pvalue=1.0)\n",
      "Ks_2sampResult(statistic=0.1357214095480126, pvalue=1.0)\n",
      "Ks_2sampResult(statistic=0.0008336574692568939, pvalue=1.0)\n"
     ]
    }
   ],
   "source": [
    "# Dropping null values for KS-test\n",
    "ps_reg_03_dropped=data1['ps_reg_03'].dropna()\n",
    "from scipy import stats\n",
    "print(stats.ks_2samp(reg_03_mean,ps_reg_03_dropped,alternative='two-sided',mode='exact'))\n",
    "print(stats.ks_2samp(reg_03_median,ps_reg_03_dropped,alternative='two-sided',mode='exact'))\n",
    "print(stats.ks_2samp(reg_03_mode,ps_reg_03_dropped,alternative='two-sided',mode='exact'))\n",
    "print(stats.ks_2samp(reg_03_ffill,ps_reg_03_dropped,alternative='two-sided',mode='exact'))"
   ]
  },
  {
   "cell_type": "markdown",
   "metadata": {
    "colab_type": "text",
    "id": "aD5fgG82ateD"
   },
   "source": [
    "Null Hypothesis.......**H0:** Distributions are same <br/>\n",
    "Alternate Hypothesis **H1:** Distributions are different\n",
    "- Surprisingly, from the KS-test the p-values of **mean,median and mode & ffill** comes out to be exact 1.0 which means that the distribution of the feature before and after imputation of missing values is same. Hence we accept the null hypothesis.\n",
    "\n",
    "- However, in order to preserve the shape of the distribution the Fillna method with **ffill** strategy will be used.Therefore,imputing missing values with ffill (forward fill). "
   ]
  },
  {
   "cell_type": "code",
   "execution_count": 0,
   "metadata": {
    "colab": {},
    "colab_type": "code",
    "id": "7SAtuYepRnZq"
   },
   "outputs": [],
   "source": [
    "data1['ps_reg_03'].fillna(method='ffill',inplace=True)"
   ]
  },
  {
   "cell_type": "markdown",
   "metadata": {
    "colab_type": "text",
    "id": "YgHzd12CjA4I"
   },
   "source": [
    "#### **Missing value imputation of ps_car_14 feature.**"
   ]
  },
  {
   "cell_type": "code",
   "execution_count": 40,
   "metadata": {
    "colab": {
     "base_uri": "https://localhost:8080/",
     "height": 282
    },
    "colab_type": "code",
    "id": "UggoSef2jHVX",
    "outputId": "9ce9879c-a662-49d9-8383-0dc45c90d43c"
   },
   "outputs": [
    {
     "data": {
      "image/png": "[encoded data removed]",
      "text/plain": [
       "<Figure size 432x288 with 1 Axes>"
      ]
     },
     "metadata": {
      "tags": []
     },
     "output_type": "display_data"
    }
   ],
   "source": [
    "sns.distplot(data1['ps_car_14'],kde_kws={\"color\": \"k\", \"lw\": 3,\"label\":\"Original\"})\n",
    "plt.show()"
   ]
  },
  {
   "cell_type": "code",
   "execution_count": 0,
   "metadata": {
    "colab": {},
    "colab_type": "code",
    "id": "DBPRCS9BjVGG"
   },
   "outputs": [],
   "source": [
    "car_14_mean=data1['ps_car_14'].fillna(data1['ps_car_14'].mean())\n",
    "car_14_median=data1['ps_car_14'].fillna(data1['ps_car_14'].median())\n",
    "car_14_mode=data1['ps_car_14'].fillna(0.361525)\n",
    "car_14_ffill=data1['ps_car_14'].fillna(method='ffill')"
   ]
  },
  {
   "cell_type": "code",
   "execution_count": 42,
   "metadata": {
    "colab": {
     "base_uri": "https://localhost:8080/",
     "height": 282
    },
    "colab_type": "code",
    "id": "Cpi39M21j7Pq",
    "outputId": "7e995822-5d27-4d64-b17f-96230208b8fd"
   },
   "outputs": [
    {
     "data": {
      "image/png": "[encoded data removed]",
      "text/plain": [
       "<Figure size 1440x288 with 4 Axes>"
      ]
     },
     "metadata": {
      "tags": []
     },
     "output_type": "display_data"
    }
   ],
   "source": [
    "plt.subplots(1,4,figsize=(20,4))\n",
    "plt.subplot(1,4,1)\n",
    "sns.distplot(car_14_mean,color='green',kde_kws={\"color\": \"green\", \"lw\": 3,\"label\":\"Mean\"})\n",
    "sns.distplot(data1['ps_car_14'],color='blue',kde_kws={\"color\": \"k\", \"lw\": 3,\"label\":\"Original\"})\n",
    "plt.subplot(1,4,2)\n",
    "sns.distplot(car_14_median,color='orange',kde_kws={\"color\": \"orange\", \"lw\": 3,\"label\":\"Median\"})\n",
    "sns.distplot(data1['ps_car_14'],color='blue',kde_kws={\"color\": \"k\", \"lw\": 3,\"label\":\"Original\"})\n",
    "plt.subplot(1,4,3)\n",
    "sns.distplot(car_14_mode,color='red',kde_kws={\"color\": \"red\", \"lw\": 3,\"label\":\"Mode\"})\n",
    "sns.distplot(data1['ps_car_14'],color='blue',kde_kws={\"color\": \"k\", \"lw\": 3,\"label\":\"Original\"})\n",
    "plt.subplot(1,4,4)\n",
    "sns.distplot(car_14_ffill,color='cyan',kde_kws={\"color\": \"cyan\", \"lw\": 3,\"label\":\"ffill\"})\n",
    "sns.distplot(data1['ps_car_14'],color='blue',kde_kws={\"color\": \"k\", \"lw\": 3,\"label\":\"Original\"})\n",
    "plt.show()\n"
   ]
  },
  {
   "cell_type": "markdown",
   "metadata": {
    "colab_type": "text",
    "id": "GlNQy_2izJoi"
   },
   "source": [
    "#### **2-Sample Kolmogorov–Smirnov test to check the similarity of distributions**"
   ]
  },
  {
   "cell_type": "code",
   "execution_count": 160,
   "metadata": {
    "colab": {
     "base_uri": "https://localhost:8080/",
     "height": 85
    },
    "colab_type": "code",
    "id": "ITVpZBJ4kVQr",
    "outputId": "1d81db84-178f-442f-e86c-46b947e27d86"
   },
   "outputs": [
    {
     "name": "stdout",
     "output_type": "stream",
     "text": [
      "Ks_2sampResult(statistic=0.03745723270040663, pvalue=0.0)\n",
      "Ks_2sampResult(statistic=0.03568367451503618, pvalue=2.3552e-317)\n",
      "Ks_2sampResult(statistic=0.04529110671624298, pvalue=0.0)\n",
      "Ks_2sampResult(statistic=0.0002952186805807999, pvalue=1.0)\n"
     ]
    }
   ],
   "source": [
    "ps_car_14_dropped=data1['ps_car_14'].dropna()\n",
    "print(stats.ks_2samp(car_14_mean,ps_car_14_dropped,mode='asymp'))\n",
    "print(stats.ks_2samp(car_14_median,ps_car_14_dropped,mode='asymp'))\n",
    "print(stats.ks_2samp(car_14_mode,ps_car_14_dropped,mode='asymp'))\n",
    "print(stats.ks_2samp(car_14_ffill,ps_car_14_dropped,mode='asymp'))"
   ]
  },
  {
   "cell_type": "markdown",
   "metadata": {
    "colab_type": "text",
    "id": "UhAHPU6ezwJc"
   },
   "source": [
    "From the visualizations of the distributions and KS-test, it can be seen that filling the missing values with forward fill method in fillna(), best preserved the distribution of the feature with p-value as 1.0"
   ]
  },
  {
   "cell_type": "code",
   "execution_count": 0,
   "metadata": {
    "colab": {},
    "colab_type": "code",
    "id": "i3zVaVrl0a2w"
   },
   "outputs": [],
   "source": [
    "# Imputing the missing values\n",
    "data1['ps_car_14'].fillna(method='ffill',inplace=True)"
   ]
  },
  {
   "cell_type": "code",
   "execution_count": 0,
   "metadata": {
    "colab": {},
    "colab_type": "code",
    "id": "_b99sEWG0tgA"
   },
   "outputs": [],
   "source": [
    "# Imputing missing values of the remaining features with mode and mean respectively.\n",
    "data1['ps_car_11'].fillna(int(data1['ps_car_11'].mode()),inplace=True)\n",
    "data1['ps_car_12'].fillna(data1['ps_car_12'].mean(),inplace=True)"
   ]
  },
  {
   "cell_type": "code",
   "execution_count": 45,
   "metadata": {
    "colab": {
     "base_uri": "https://localhost:8080/",
     "height": 34
    },
    "colab_type": "code",
    "id": "nFY0rk-Yo-ln",
    "outputId": "10c9bdb5-a053-492c-c9be-8044e795b2eb"
   },
   "outputs": [
    {
     "data": {
      "text/plain": [
       "0"
      ]
     },
     "execution_count": 45,
     "metadata": {
      "tags": []
     },
     "output_type": "execute_result"
    }
   ],
   "source": [
    "# Final check for missing values\n",
    "data1.isna().sum().sum()"
   ]
  },
  {
   "cell_type": "code",
   "execution_count": 0,
   "metadata": {
    "colab": {},
    "colab_type": "code",
    "id": "XxkHNX2S2dQI"
   },
   "outputs": [],
   "source": [
    "# Creating a copy of the dataset\n",
    "data2=data1.copy()"
   ]
  },
  {
   "cell_type": "markdown",
   "metadata": {
    "colab_type": "text",
    "id": "ZZIkOF6_PXMn"
   },
   "source": [
    "#### **Restoring the original dtypes of the features.**"
   ]
  },
  {
   "cell_type": "code",
   "execution_count": 0,
   "metadata": {
    "colab": {},
    "colab_type": "code",
    "id": "sLMr-2JF2YBs"
   },
   "outputs": [],
   "source": [
    "# Separating the data types into two categories\n",
    "int_feat=[]\n",
    "float_feat=[]\n",
    "for i in data1.columns:\n",
    "  if data[i].dtypes=='int64':\n",
    "    int_feat.append(i)\n",
    "  else:\n",
    "    float_feat.append(i)"
   ]
  },
  {
   "cell_type": "code",
   "execution_count": 0,
   "metadata": {
    "colab": {},
    "colab_type": "code",
    "id": "Zp1H-qUe3T8J"
   },
   "outputs": [],
   "source": [
    "for i in int_feat:\n",
    "  data2[i]=data2[i].astype('int64')\n",
    "for i in float_feat:\n",
    "  data2[i]=data2[i].astype('float64')"
   ]
  },
  {
   "cell_type": "code",
   "execution_count": 0,
   "metadata": {
    "colab": {},
    "colab_type": "code",
    "id": "PCwEV-_t8IkQ"
   },
   "outputs": [],
   "source": [
    "#data2.info()"
   ]
  },
  {
   "cell_type": "code",
   "execution_count": 0,
   "metadata": {
    "colab": {},
    "colab_type": "code",
    "id": "7-TYlWPyA_Rp"
   },
   "outputs": [],
   "source": [
    "# Splitting the columns\n",
    "categorical=[]\n",
    "binary=[]\n",
    "interval=[]\n",
    "ordinal=[]\n",
    "target=[]\n",
    "for i in data2.columns:\n",
    "  if 'cat' in i:\n",
    "    categorical.append(i)\n",
    "  elif 'bin' in i:\n",
    "    binary.append(i)\n",
    "  elif data2[i].dtype==float:\n",
    "    interval.append(i)\n",
    "  elif (data2[i].dtype==int and i!='target'):\n",
    "    ordinal.append(i)\n",
    "  elif i == 'target':\n",
    "    target.append(i)"
   ]
  },
  {
   "cell_type": "markdown",
   "metadata": {
    "colab_type": "text",
    "id": "wBVJJZWr367m"
   },
   "source": [
    "### **One Hot Encoding of Categorical Variables**"
   ]
  },
  {
   "cell_type": "code",
   "execution_count": 0,
   "metadata": {
    "colab": {},
    "colab_type": "code",
    "id": "u-7qTL0r4Pz6"
   },
   "outputs": [],
   "source": [
    "dummy_df=pd.DataFrame()\n",
    "for i in range(len(categorical)):\n",
    "  dummy=pd.get_dummies(data2[categorical[i]],prefix=categorical[i],drop_first=True,dtype='int64')\n",
    "  for i in range(len(dummy.columns)):\n",
    "    dummy_df[dummy.columns[i]]=dummy.iloc[:,i]"
   ]
  },
  {
   "cell_type": "code",
   "execution_count": 52,
   "metadata": {
    "colab": {
     "base_uri": "https://localhost:8080/",
     "height": 160
    },
    "colab_type": "code",
    "id": "quZqC4xQ68CF",
    "outputId": "a5b3d8d2-974d-495a-d131-8ee93721579b"
   },
   "outputs": [
    {
     "data": {
      "text/html": [
       "<div>\n",
       "<style scoped>\n",
       "    .dataframe tbody tr th:only-of-type {\n",
       "        vertical-align: middle;\n",
       "    }\n",
       "\n",
       "    .dataframe tbody tr th {\n",
       "        vertical-align: top;\n",
       "    }\n",
       "\n",
       "    .dataframe thead th {\n",
       "        text-align: right;\n",
       "    }\n",
       "</style>\n",
       "<table border=\"1\" class=\"dataframe\">\n",
       "  <thead>\n",
       "    <tr style=\"text-align: right;\">\n",
       "      <th></th>\n",
       "      <th>ps_ind_02_cat_1</th>\n",
       "      <th>ps_ind_02_cat_2</th>\n",
       "      <th>ps_ind_02_cat_3</th>\n",
       "      <th>ps_ind_02_cat_4</th>\n",
       "      <th>ps_ind_04_cat_0</th>\n",
       "      <th>ps_ind_04_cat_1</th>\n",
       "      <th>ps_ind_05_cat_1</th>\n",
       "      <th>ps_ind_05_cat_2</th>\n",
       "      <th>ps_ind_05_cat_3</th>\n",
       "      <th>ps_ind_05_cat_4</th>\n",
       "      <th>ps_ind_05_cat_5</th>\n",
       "      <th>ps_ind_05_cat_6</th>\n",
       "      <th>ps_car_01_cat_0</th>\n",
       "      <th>ps_car_01_cat_1</th>\n",
       "      <th>ps_car_01_cat_2</th>\n",
       "      <th>ps_car_01_cat_3</th>\n",
       "      <th>ps_car_01_cat_4</th>\n",
       "      <th>ps_car_01_cat_5</th>\n",
       "      <th>ps_car_01_cat_6</th>\n",
       "      <th>ps_car_01_cat_7</th>\n",
       "      <th>ps_car_01_cat_8</th>\n",
       "      <th>ps_car_01_cat_9</th>\n",
       "      <th>ps_car_01_cat_10</th>\n",
       "      <th>ps_car_01_cat_11</th>\n",
       "      <th>ps_car_02_cat_1</th>\n",
       "      <th>ps_car_04_cat_1</th>\n",
       "      <th>ps_car_04_cat_2</th>\n",
       "      <th>ps_car_04_cat_3</th>\n",
       "      <th>ps_car_04_cat_4</th>\n",
       "      <th>ps_car_04_cat_5</th>\n",
       "      <th>ps_car_04_cat_6</th>\n",
       "      <th>ps_car_04_cat_7</th>\n",
       "      <th>ps_car_04_cat_8</th>\n",
       "      <th>ps_car_04_cat_9</th>\n",
       "      <th>ps_car_06_cat_1</th>\n",
       "      <th>ps_car_06_cat_2</th>\n",
       "      <th>ps_car_06_cat_3</th>\n",
       "      <th>ps_car_06_cat_4</th>\n",
       "      <th>ps_car_06_cat_5</th>\n",
       "      <th>ps_car_06_cat_6</th>\n",
       "      <th>...</th>\n",
       "      <th>ps_car_11_cat_65</th>\n",
       "      <th>ps_car_11_cat_66</th>\n",
       "      <th>ps_car_11_cat_67</th>\n",
       "      <th>ps_car_11_cat_68</th>\n",
       "      <th>ps_car_11_cat_69</th>\n",
       "      <th>ps_car_11_cat_70</th>\n",
       "      <th>ps_car_11_cat_71</th>\n",
       "      <th>ps_car_11_cat_72</th>\n",
       "      <th>ps_car_11_cat_73</th>\n",
       "      <th>ps_car_11_cat_74</th>\n",
       "      <th>ps_car_11_cat_75</th>\n",
       "      <th>ps_car_11_cat_76</th>\n",
       "      <th>ps_car_11_cat_77</th>\n",
       "      <th>ps_car_11_cat_78</th>\n",
       "      <th>ps_car_11_cat_79</th>\n",
       "      <th>ps_car_11_cat_80</th>\n",
       "      <th>ps_car_11_cat_81</th>\n",
       "      <th>ps_car_11_cat_82</th>\n",
       "      <th>ps_car_11_cat_83</th>\n",
       "      <th>ps_car_11_cat_84</th>\n",
       "      <th>ps_car_11_cat_85</th>\n",
       "      <th>ps_car_11_cat_86</th>\n",
       "      <th>ps_car_11_cat_87</th>\n",
       "      <th>ps_car_11_cat_88</th>\n",
       "      <th>ps_car_11_cat_89</th>\n",
       "      <th>ps_car_11_cat_90</th>\n",
       "      <th>ps_car_11_cat_91</th>\n",
       "      <th>ps_car_11_cat_92</th>\n",
       "      <th>ps_car_11_cat_93</th>\n",
       "      <th>ps_car_11_cat_94</th>\n",
       "      <th>ps_car_11_cat_95</th>\n",
       "      <th>ps_car_11_cat_96</th>\n",
       "      <th>ps_car_11_cat_97</th>\n",
       "      <th>ps_car_11_cat_98</th>\n",
       "      <th>ps_car_11_cat_99</th>\n",
       "      <th>ps_car_11_cat_100</th>\n",
       "      <th>ps_car_11_cat_101</th>\n",
       "      <th>ps_car_11_cat_102</th>\n",
       "      <th>ps_car_11_cat_103</th>\n",
       "      <th>ps_car_11_cat_104</th>\n",
       "    </tr>\n",
       "  </thead>\n",
       "  <tbody>\n",
       "    <tr>\n",
       "      <th>0</th>\n",
       "      <td>0</td>\n",
       "      <td>1</td>\n",
       "      <td>0</td>\n",
       "      <td>0</td>\n",
       "      <td>0</td>\n",
       "      <td>1</td>\n",
       "      <td>0</td>\n",
       "      <td>0</td>\n",
       "      <td>0</td>\n",
       "      <td>0</td>\n",
       "      <td>0</td>\n",
       "      <td>0</td>\n",
       "      <td>0</td>\n",
       "      <td>0</td>\n",
       "      <td>0</td>\n",
       "      <td>0</td>\n",
       "      <td>0</td>\n",
       "      <td>0</td>\n",
       "      <td>0</td>\n",
       "      <td>0</td>\n",
       "      <td>0</td>\n",
       "      <td>0</td>\n",
       "      <td>1</td>\n",
       "      <td>0</td>\n",
       "      <td>1</td>\n",
       "      <td>0</td>\n",
       "      <td>0</td>\n",
       "      <td>0</td>\n",
       "      <td>0</td>\n",
       "      <td>0</td>\n",
       "      <td>0</td>\n",
       "      <td>0</td>\n",
       "      <td>0</td>\n",
       "      <td>0</td>\n",
       "      <td>0</td>\n",
       "      <td>0</td>\n",
       "      <td>0</td>\n",
       "      <td>1</td>\n",
       "      <td>0</td>\n",
       "      <td>0</td>\n",
       "      <td>...</td>\n",
       "      <td>0</td>\n",
       "      <td>0</td>\n",
       "      <td>0</td>\n",
       "      <td>0</td>\n",
       "      <td>0</td>\n",
       "      <td>0</td>\n",
       "      <td>0</td>\n",
       "      <td>0</td>\n",
       "      <td>0</td>\n",
       "      <td>0</td>\n",
       "      <td>0</td>\n",
       "      <td>0</td>\n",
       "      <td>0</td>\n",
       "      <td>0</td>\n",
       "      <td>0</td>\n",
       "      <td>0</td>\n",
       "      <td>0</td>\n",
       "      <td>0</td>\n",
       "      <td>0</td>\n",
       "      <td>0</td>\n",
       "      <td>0</td>\n",
       "      <td>0</td>\n",
       "      <td>0</td>\n",
       "      <td>0</td>\n",
       "      <td>0</td>\n",
       "      <td>0</td>\n",
       "      <td>0</td>\n",
       "      <td>0</td>\n",
       "      <td>0</td>\n",
       "      <td>0</td>\n",
       "      <td>0</td>\n",
       "      <td>0</td>\n",
       "      <td>0</td>\n",
       "      <td>0</td>\n",
       "      <td>0</td>\n",
       "      <td>0</td>\n",
       "      <td>0</td>\n",
       "      <td>0</td>\n",
       "      <td>0</td>\n",
       "      <td>0</td>\n",
       "    </tr>\n",
       "    <tr>\n",
       "      <th>1</th>\n",
       "      <td>1</td>\n",
       "      <td>0</td>\n",
       "      <td>0</td>\n",
       "      <td>0</td>\n",
       "      <td>1</td>\n",
       "      <td>0</td>\n",
       "      <td>0</td>\n",
       "      <td>0</td>\n",
       "      <td>0</td>\n",
       "      <td>0</td>\n",
       "      <td>0</td>\n",
       "      <td>0</td>\n",
       "      <td>0</td>\n",
       "      <td>0</td>\n",
       "      <td>0</td>\n",
       "      <td>0</td>\n",
       "      <td>0</td>\n",
       "      <td>0</td>\n",
       "      <td>0</td>\n",
       "      <td>0</td>\n",
       "      <td>0</td>\n",
       "      <td>0</td>\n",
       "      <td>0</td>\n",
       "      <td>1</td>\n",
       "      <td>1</td>\n",
       "      <td>0</td>\n",
       "      <td>0</td>\n",
       "      <td>0</td>\n",
       "      <td>0</td>\n",
       "      <td>0</td>\n",
       "      <td>0</td>\n",
       "      <td>0</td>\n",
       "      <td>0</td>\n",
       "      <td>0</td>\n",
       "      <td>0</td>\n",
       "      <td>0</td>\n",
       "      <td>0</td>\n",
       "      <td>0</td>\n",
       "      <td>0</td>\n",
       "      <td>0</td>\n",
       "      <td>...</td>\n",
       "      <td>0</td>\n",
       "      <td>0</td>\n",
       "      <td>0</td>\n",
       "      <td>0</td>\n",
       "      <td>0</td>\n",
       "      <td>0</td>\n",
       "      <td>0</td>\n",
       "      <td>0</td>\n",
       "      <td>0</td>\n",
       "      <td>0</td>\n",
       "      <td>0</td>\n",
       "      <td>0</td>\n",
       "      <td>0</td>\n",
       "      <td>0</td>\n",
       "      <td>0</td>\n",
       "      <td>0</td>\n",
       "      <td>0</td>\n",
       "      <td>0</td>\n",
       "      <td>0</td>\n",
       "      <td>0</td>\n",
       "      <td>0</td>\n",
       "      <td>0</td>\n",
       "      <td>0</td>\n",
       "      <td>0</td>\n",
       "      <td>0</td>\n",
       "      <td>0</td>\n",
       "      <td>0</td>\n",
       "      <td>0</td>\n",
       "      <td>0</td>\n",
       "      <td>0</td>\n",
       "      <td>0</td>\n",
       "      <td>0</td>\n",
       "      <td>0</td>\n",
       "      <td>0</td>\n",
       "      <td>0</td>\n",
       "      <td>0</td>\n",
       "      <td>0</td>\n",
       "      <td>0</td>\n",
       "      <td>0</td>\n",
       "      <td>0</td>\n",
       "    </tr>\n",
       "  </tbody>\n",
       "</table>\n",
       "<p>2 rows × 163 columns</p>\n",
       "</div>"
      ],
      "text/plain": [
       "   ps_ind_02_cat_1  ps_ind_02_cat_2  ...  ps_car_11_cat_103  ps_car_11_cat_104\n",
       "0                0                1  ...                  0                  0\n",
       "1                1                0  ...                  0                  0\n",
       "\n",
       "[2 rows x 163 columns]"
      ]
     },
     "execution_count": 52,
     "metadata": {
      "tags": []
     },
     "output_type": "execute_result"
    }
   ],
   "source": [
    "dummy_df.head(2)"
   ]
  },
  {
   "cell_type": "markdown",
   "metadata": {
    "colab_type": "text",
    "id": "5kQ9wfwyDMgI"
   },
   "source": [
    "### **Scaling of Interval and Ordinal features**"
   ]
  },
  {
   "cell_type": "code",
   "execution_count": 53,
   "metadata": {
    "colab": {
     "base_uri": "https://localhost:8080/",
     "height": 111
    },
    "colab_type": "code",
    "id": "6a0KrnDUDLpc",
    "outputId": "ad3751cf-96ae-492f-d8a1-2a33aee56420"
   },
   "outputs": [
    {
     "data": {
      "text/html": [
       "<div>\n",
       "<style scoped>\n",
       "    .dataframe tbody tr th:only-of-type {\n",
       "        vertical-align: middle;\n",
       "    }\n",
       "\n",
       "    .dataframe tbody tr th {\n",
       "        vertical-align: top;\n",
       "    }\n",
       "\n",
       "    .dataframe thead th {\n",
       "        text-align: right;\n",
       "    }\n",
       "</style>\n",
       "<table border=\"1\" class=\"dataframe\">\n",
       "  <thead>\n",
       "    <tr style=\"text-align: right;\">\n",
       "      <th></th>\n",
       "      <th>ps_reg_01</th>\n",
       "      <th>ps_reg_02</th>\n",
       "      <th>ps_reg_03</th>\n",
       "      <th>ps_car_12</th>\n",
       "      <th>ps_car_13</th>\n",
       "      <th>ps_car_14</th>\n",
       "      <th>ps_car_15</th>\n",
       "      <th>ps_calc_01</th>\n",
       "      <th>ps_calc_02</th>\n",
       "      <th>ps_calc_03</th>\n",
       "    </tr>\n",
       "  </thead>\n",
       "  <tbody>\n",
       "    <tr>\n",
       "      <th>0</th>\n",
       "      <td>0.777778</td>\n",
       "      <td>0.111111</td>\n",
       "      <td>0.165170</td>\n",
       "      <td>0.257530</td>\n",
       "      <td>0.182438</td>\n",
       "      <td>0.495899</td>\n",
       "      <td>0.963624</td>\n",
       "      <td>0.666667</td>\n",
       "      <td>0.555556</td>\n",
       "      <td>0.222222</td>\n",
       "    </tr>\n",
       "    <tr>\n",
       "      <th>1</th>\n",
       "      <td>0.888889</td>\n",
       "      <td>0.222222</td>\n",
       "      <td>0.177242</td>\n",
       "      <td>0.185617</td>\n",
       "      <td>0.106109</td>\n",
       "      <td>0.529886</td>\n",
       "      <td>0.654654</td>\n",
       "      <td>0.333333</td>\n",
       "      <td>0.111111</td>\n",
       "      <td>0.333333</td>\n",
       "    </tr>\n",
       "  </tbody>\n",
       "</table>\n",
       "</div>"
      ],
      "text/plain": [
       "   ps_reg_01  ps_reg_02  ps_reg_03  ...  ps_calc_01  ps_calc_02  ps_calc_03\n",
       "0   0.777778   0.111111   0.165170  ...    0.666667    0.555556    0.222222\n",
       "1   0.888889   0.222222   0.177242  ...    0.333333    0.111111    0.333333\n",
       "\n",
       "[2 rows x 10 columns]"
      ]
     },
     "execution_count": 53,
     "metadata": {
      "tags": []
     },
     "output_type": "execute_result"
    }
   ],
   "source": [
    "scaler=MinMaxScaler()\n",
    "interval_scaled=scaler.fit_transform(data2[interval])\n",
    "interval_scaled=pd.DataFrame(interval_scaled,columns=interval)\n",
    "interval_scaled.head(2)"
   ]
  },
  {
   "cell_type": "code",
   "execution_count": 54,
   "metadata": {
    "colab": {
     "base_uri": "https://localhost:8080/",
     "height": 131
    },
    "colab_type": "code",
    "id": "aFGuGdZRD8px",
    "outputId": "e667c00e-58f3-4f18-b57d-d313286e77f3"
   },
   "outputs": [
    {
     "data": {
      "text/html": [
       "<div>\n",
       "<style scoped>\n",
       "    .dataframe tbody tr th:only-of-type {\n",
       "        vertical-align: middle;\n",
       "    }\n",
       "\n",
       "    .dataframe tbody tr th {\n",
       "        vertical-align: top;\n",
       "    }\n",
       "\n",
       "    .dataframe thead th {\n",
       "        text-align: right;\n",
       "    }\n",
       "</style>\n",
       "<table border=\"1\" class=\"dataframe\">\n",
       "  <thead>\n",
       "    <tr style=\"text-align: right;\">\n",
       "      <th></th>\n",
       "      <th>ps_ind_01</th>\n",
       "      <th>ps_ind_03</th>\n",
       "      <th>ps_ind_14</th>\n",
       "      <th>ps_ind_15</th>\n",
       "      <th>ps_car_11</th>\n",
       "      <th>ps_calc_04</th>\n",
       "      <th>ps_calc_05</th>\n",
       "      <th>ps_calc_06</th>\n",
       "      <th>ps_calc_07</th>\n",
       "      <th>ps_calc_08</th>\n",
       "      <th>ps_calc_09</th>\n",
       "      <th>ps_calc_10</th>\n",
       "      <th>ps_calc_11</th>\n",
       "      <th>ps_calc_12</th>\n",
       "      <th>ps_calc_13</th>\n",
       "      <th>ps_calc_14</th>\n",
       "    </tr>\n",
       "  </thead>\n",
       "  <tbody>\n",
       "    <tr>\n",
       "      <th>0</th>\n",
       "      <td>0.285714</td>\n",
       "      <td>0.454545</td>\n",
       "      <td>0.0</td>\n",
       "      <td>0.846154</td>\n",
       "      <td>0.666667</td>\n",
       "      <td>0.6</td>\n",
       "      <td>0.166667</td>\n",
       "      <td>1.0</td>\n",
       "      <td>0.111111</td>\n",
       "      <td>0.8</td>\n",
       "      <td>0.142857</td>\n",
       "      <td>0.20</td>\n",
       "      <td>0.473684</td>\n",
       "      <td>0.1</td>\n",
       "      <td>0.384615</td>\n",
       "      <td>0.347826</td>\n",
       "    </tr>\n",
       "    <tr>\n",
       "      <th>1</th>\n",
       "      <td>0.142857</td>\n",
       "      <td>0.636364</td>\n",
       "      <td>0.0</td>\n",
       "      <td>0.230769</td>\n",
       "      <td>1.000000</td>\n",
       "      <td>0.4</td>\n",
       "      <td>0.166667</td>\n",
       "      <td>0.9</td>\n",
       "      <td>0.555556</td>\n",
       "      <td>0.6</td>\n",
       "      <td>0.142857</td>\n",
       "      <td>0.28</td>\n",
       "      <td>0.157895</td>\n",
       "      <td>0.1</td>\n",
       "      <td>0.076923</td>\n",
       "      <td>0.391304</td>\n",
       "    </tr>\n",
       "  </tbody>\n",
       "</table>\n",
       "</div>"
      ],
      "text/plain": [
       "   ps_ind_01  ps_ind_03  ps_ind_14  ...  ps_calc_12  ps_calc_13  ps_calc_14\n",
       "0   0.285714   0.454545        0.0  ...         0.1    0.384615    0.347826\n",
       "1   0.142857   0.636364        0.0  ...         0.1    0.076923    0.391304\n",
       "\n",
       "[2 rows x 16 columns]"
      ]
     },
     "execution_count": 54,
     "metadata": {
      "tags": []
     },
     "output_type": "execute_result"
    }
   ],
   "source": [
    "ordinal_scaled=scaler.fit_transform(data2[ordinal])\n",
    "ordinal_scaled=pd.DataFrame(ordinal_scaled,columns=ordinal)\n",
    "ordinal_scaled.head(2)"
   ]
  },
  {
   "cell_type": "markdown",
   "metadata": {
    "colab_type": "text",
    "id": "PgylWdWkFfdf"
   },
   "source": [
    "### **Merging all the features**"
   ]
  },
  {
   "cell_type": "code",
   "execution_count": 55,
   "metadata": {
    "colab": {
     "base_uri": "https://localhost:8080/",
     "height": 160
    },
    "colab_type": "code",
    "id": "fbo43N7bEugm",
    "outputId": "6f00a3a6-aa5b-407f-c109-211a94a5d5b4"
   },
   "outputs": [
    {
     "data": {
      "text/html": [
       "<div>\n",
       "<style scoped>\n",
       "    .dataframe tbody tr th:only-of-type {\n",
       "        vertical-align: middle;\n",
       "    }\n",
       "\n",
       "    .dataframe tbody tr th {\n",
       "        vertical-align: top;\n",
       "    }\n",
       "\n",
       "    .dataframe thead th {\n",
       "        text-align: right;\n",
       "    }\n",
       "</style>\n",
       "<table border=\"1\" class=\"dataframe\">\n",
       "  <thead>\n",
       "    <tr style=\"text-align: right;\">\n",
       "      <th></th>\n",
       "      <th>target</th>\n",
       "      <th>ps_reg_01</th>\n",
       "      <th>ps_reg_02</th>\n",
       "      <th>ps_reg_03</th>\n",
       "      <th>ps_car_12</th>\n",
       "      <th>ps_car_13</th>\n",
       "      <th>ps_car_14</th>\n",
       "      <th>ps_car_15</th>\n",
       "      <th>ps_calc_01</th>\n",
       "      <th>ps_calc_02</th>\n",
       "      <th>ps_calc_03</th>\n",
       "      <th>ps_ind_01</th>\n",
       "      <th>ps_ind_03</th>\n",
       "      <th>ps_ind_14</th>\n",
       "      <th>ps_ind_15</th>\n",
       "      <th>ps_car_11</th>\n",
       "      <th>ps_calc_04</th>\n",
       "      <th>ps_calc_05</th>\n",
       "      <th>ps_calc_06</th>\n",
       "      <th>ps_calc_07</th>\n",
       "      <th>ps_calc_08</th>\n",
       "      <th>ps_calc_09</th>\n",
       "      <th>ps_calc_10</th>\n",
       "      <th>ps_calc_11</th>\n",
       "      <th>ps_calc_12</th>\n",
       "      <th>ps_calc_13</th>\n",
       "      <th>ps_calc_14</th>\n",
       "      <th>ps_ind_02_cat_1</th>\n",
       "      <th>ps_ind_02_cat_2</th>\n",
       "      <th>ps_ind_02_cat_3</th>\n",
       "      <th>ps_ind_02_cat_4</th>\n",
       "      <th>ps_ind_04_cat_0</th>\n",
       "      <th>ps_ind_04_cat_1</th>\n",
       "      <th>ps_ind_05_cat_1</th>\n",
       "      <th>ps_ind_05_cat_2</th>\n",
       "      <th>ps_ind_05_cat_3</th>\n",
       "      <th>ps_ind_05_cat_4</th>\n",
       "      <th>ps_ind_05_cat_5</th>\n",
       "      <th>ps_ind_05_cat_6</th>\n",
       "      <th>ps_car_01_cat_0</th>\n",
       "      <th>...</th>\n",
       "      <th>ps_car_11_cat_82</th>\n",
       "      <th>ps_car_11_cat_83</th>\n",
       "      <th>ps_car_11_cat_84</th>\n",
       "      <th>ps_car_11_cat_85</th>\n",
       "      <th>ps_car_11_cat_86</th>\n",
       "      <th>ps_car_11_cat_87</th>\n",
       "      <th>ps_car_11_cat_88</th>\n",
       "      <th>ps_car_11_cat_89</th>\n",
       "      <th>ps_car_11_cat_90</th>\n",
       "      <th>ps_car_11_cat_91</th>\n",
       "      <th>ps_car_11_cat_92</th>\n",
       "      <th>ps_car_11_cat_93</th>\n",
       "      <th>ps_car_11_cat_94</th>\n",
       "      <th>ps_car_11_cat_95</th>\n",
       "      <th>ps_car_11_cat_96</th>\n",
       "      <th>ps_car_11_cat_97</th>\n",
       "      <th>ps_car_11_cat_98</th>\n",
       "      <th>ps_car_11_cat_99</th>\n",
       "      <th>ps_car_11_cat_100</th>\n",
       "      <th>ps_car_11_cat_101</th>\n",
       "      <th>ps_car_11_cat_102</th>\n",
       "      <th>ps_car_11_cat_103</th>\n",
       "      <th>ps_car_11_cat_104</th>\n",
       "      <th>ps_ind_06_bin</th>\n",
       "      <th>ps_ind_07_bin</th>\n",
       "      <th>ps_ind_08_bin</th>\n",
       "      <th>ps_ind_09_bin</th>\n",
       "      <th>ps_ind_10_bin</th>\n",
       "      <th>ps_ind_11_bin</th>\n",
       "      <th>ps_ind_12_bin</th>\n",
       "      <th>ps_ind_13_bin</th>\n",
       "      <th>ps_ind_16_bin</th>\n",
       "      <th>ps_ind_17_bin</th>\n",
       "      <th>ps_ind_18_bin</th>\n",
       "      <th>ps_calc_15_bin</th>\n",
       "      <th>ps_calc_16_bin</th>\n",
       "      <th>ps_calc_17_bin</th>\n",
       "      <th>ps_calc_18_bin</th>\n",
       "      <th>ps_calc_19_bin</th>\n",
       "      <th>ps_calc_20_bin</th>\n",
       "    </tr>\n",
       "  </thead>\n",
       "  <tbody>\n",
       "    <tr>\n",
       "      <th>0</th>\n",
       "      <td>0</td>\n",
       "      <td>0.777778</td>\n",
       "      <td>0.111111</td>\n",
       "      <td>0.165170</td>\n",
       "      <td>0.257530</td>\n",
       "      <td>0.182438</td>\n",
       "      <td>0.495899</td>\n",
       "      <td>0.963624</td>\n",
       "      <td>0.666667</td>\n",
       "      <td>0.555556</td>\n",
       "      <td>0.222222</td>\n",
       "      <td>0.285714</td>\n",
       "      <td>0.454545</td>\n",
       "      <td>0.0</td>\n",
       "      <td>0.846154</td>\n",
       "      <td>0.666667</td>\n",
       "      <td>0.6</td>\n",
       "      <td>0.166667</td>\n",
       "      <td>1.0</td>\n",
       "      <td>0.111111</td>\n",
       "      <td>0.8</td>\n",
       "      <td>0.142857</td>\n",
       "      <td>0.20</td>\n",
       "      <td>0.473684</td>\n",
       "      <td>0.1</td>\n",
       "      <td>0.384615</td>\n",
       "      <td>0.347826</td>\n",
       "      <td>0</td>\n",
       "      <td>1</td>\n",
       "      <td>0</td>\n",
       "      <td>0</td>\n",
       "      <td>0</td>\n",
       "      <td>1</td>\n",
       "      <td>0</td>\n",
       "      <td>0</td>\n",
       "      <td>0</td>\n",
       "      <td>0</td>\n",
       "      <td>0</td>\n",
       "      <td>0</td>\n",
       "      <td>0</td>\n",
       "      <td>...</td>\n",
       "      <td>0</td>\n",
       "      <td>0</td>\n",
       "      <td>0</td>\n",
       "      <td>0</td>\n",
       "      <td>0</td>\n",
       "      <td>0</td>\n",
       "      <td>0</td>\n",
       "      <td>0</td>\n",
       "      <td>0</td>\n",
       "      <td>0</td>\n",
       "      <td>0</td>\n",
       "      <td>0</td>\n",
       "      <td>0</td>\n",
       "      <td>0</td>\n",
       "      <td>0</td>\n",
       "      <td>0</td>\n",
       "      <td>0</td>\n",
       "      <td>0</td>\n",
       "      <td>0</td>\n",
       "      <td>0</td>\n",
       "      <td>0</td>\n",
       "      <td>0</td>\n",
       "      <td>0</td>\n",
       "      <td>0</td>\n",
       "      <td>1</td>\n",
       "      <td>0</td>\n",
       "      <td>0</td>\n",
       "      <td>0</td>\n",
       "      <td>0</td>\n",
       "      <td>0</td>\n",
       "      <td>0</td>\n",
       "      <td>0</td>\n",
       "      <td>1</td>\n",
       "      <td>0</td>\n",
       "      <td>0</td>\n",
       "      <td>1</td>\n",
       "      <td>1</td>\n",
       "      <td>0</td>\n",
       "      <td>0</td>\n",
       "      <td>1</td>\n",
       "    </tr>\n",
       "    <tr>\n",
       "      <th>1</th>\n",
       "      <td>0</td>\n",
       "      <td>0.888889</td>\n",
       "      <td>0.222222</td>\n",
       "      <td>0.177242</td>\n",
       "      <td>0.185617</td>\n",
       "      <td>0.106109</td>\n",
       "      <td>0.529886</td>\n",
       "      <td>0.654654</td>\n",
       "      <td>0.333333</td>\n",
       "      <td>0.111111</td>\n",
       "      <td>0.333333</td>\n",
       "      <td>0.142857</td>\n",
       "      <td>0.636364</td>\n",
       "      <td>0.0</td>\n",
       "      <td>0.230769</td>\n",
       "      <td>1.000000</td>\n",
       "      <td>0.4</td>\n",
       "      <td>0.166667</td>\n",
       "      <td>0.9</td>\n",
       "      <td>0.555556</td>\n",
       "      <td>0.6</td>\n",
       "      <td>0.142857</td>\n",
       "      <td>0.28</td>\n",
       "      <td>0.157895</td>\n",
       "      <td>0.1</td>\n",
       "      <td>0.076923</td>\n",
       "      <td>0.391304</td>\n",
       "      <td>1</td>\n",
       "      <td>0</td>\n",
       "      <td>0</td>\n",
       "      <td>0</td>\n",
       "      <td>1</td>\n",
       "      <td>0</td>\n",
       "      <td>0</td>\n",
       "      <td>0</td>\n",
       "      <td>0</td>\n",
       "      <td>0</td>\n",
       "      <td>0</td>\n",
       "      <td>0</td>\n",
       "      <td>0</td>\n",
       "      <td>...</td>\n",
       "      <td>0</td>\n",
       "      <td>0</td>\n",
       "      <td>0</td>\n",
       "      <td>0</td>\n",
       "      <td>0</td>\n",
       "      <td>0</td>\n",
       "      <td>0</td>\n",
       "      <td>0</td>\n",
       "      <td>0</td>\n",
       "      <td>0</td>\n",
       "      <td>0</td>\n",
       "      <td>0</td>\n",
       "      <td>0</td>\n",
       "      <td>0</td>\n",
       "      <td>0</td>\n",
       "      <td>0</td>\n",
       "      <td>0</td>\n",
       "      <td>0</td>\n",
       "      <td>0</td>\n",
       "      <td>0</td>\n",
       "      <td>0</td>\n",
       "      <td>0</td>\n",
       "      <td>0</td>\n",
       "      <td>0</td>\n",
       "      <td>0</td>\n",
       "      <td>1</td>\n",
       "      <td>0</td>\n",
       "      <td>0</td>\n",
       "      <td>0</td>\n",
       "      <td>0</td>\n",
       "      <td>0</td>\n",
       "      <td>0</td>\n",
       "      <td>0</td>\n",
       "      <td>1</td>\n",
       "      <td>0</td>\n",
       "      <td>1</td>\n",
       "      <td>1</td>\n",
       "      <td>0</td>\n",
       "      <td>1</td>\n",
       "      <td>0</td>\n",
       "    </tr>\n",
       "  </tbody>\n",
       "</table>\n",
       "<p>2 rows × 207 columns</p>\n",
       "</div>"
      ],
      "text/plain": [
       "   target  ps_reg_01  ps_reg_02  ...  ps_calc_18_bin  ps_calc_19_bin  ps_calc_20_bin\n",
       "0       0   0.777778   0.111111  ...               0               0               1\n",
       "1       0   0.888889   0.222222  ...               0               1               0\n",
       "\n",
       "[2 rows x 207 columns]"
      ]
     },
     "execution_count": 55,
     "metadata": {
      "tags": []
     },
     "output_type": "execute_result"
    }
   ],
   "source": [
    "data3=pd.concat([data2['target'],interval_scaled,ordinal_scaled,dummy_df,data2[binary]],axis=1)\n",
    "data3.head(2)"
   ]
  },
  {
   "cell_type": "markdown",
   "metadata": {
    "colab_type": "text",
    "id": "inGP-lq9CZGk"
   },
   "source": [
    "After One-Hot encoding, the total number of columns have rose to 207."
   ]
  },
  {
   "cell_type": "markdown",
   "metadata": {
    "colab_type": "text",
    "id": "kLO83tIAuuyC"
   },
   "source": [
    "### **BALANCING DATA**"
   ]
  },
  {
   "cell_type": "code",
   "execution_count": 56,
   "metadata": {
    "colab": {
     "base_uri": "https://localhost:8080/",
     "height": 384
    },
    "colab_type": "code",
    "id": "cyM2I3gIFnDn",
    "outputId": "3eb20fac-4a8d-4158-865d-cd28c95e0262"
   },
   "outputs": [
    {
     "data": {
      "image/png": "[encoded data removed]",
      "text/plain": [
       "<Figure size 432x288 with 1 Axes>"
      ]
     },
     "metadata": {
      "tags": []
     },
     "output_type": "display_data"
    },
    {
     "name": "stdout",
     "output_type": "stream",
     "text": [
      "%\n",
      "target\n",
      "0    96.36\n",
      "1     3.64\n",
      "Name: target, dtype: float64\n"
     ]
    }
   ],
   "source": [
    "# Checking the proportion of the target\n",
    "x=round(data['target'].groupby(data['target']).count()*100/len(data['target']),2)\n",
    "plt.bar(data['target'].unique(),x,width=0.1,color='blue')\n",
    "plt.xticks(data['target'].unique(),['False','True'])\n",
    "plt.xlabel(\"Claims\")\n",
    "plt.ylabel(\"Percentage (%)\")\n",
    "plt.title(\"Insurance Claimed\")\n",
    "plt.show()\n",
    "print('%')\n",
    "print(x)"
   ]
  },
  {
   "cell_type": "markdown",
   "metadata": {
    "colab_type": "text",
    "id": "rPd_yOICFtm1"
   },
   "source": [
    "- It can be seen that the dataset is highly imbalanced. The percentage of insurance claimed is just **3.64 %** of overall claims.\n",
    "- In order to balance the data we need to perform **oversampling**."
   ]
  },
  {
   "cell_type": "code",
   "execution_count": 0,
   "metadata": {
    "colab": {},
    "colab_type": "code",
    "id": "luHqvO5iBX4-"
   },
   "outputs": [],
   "source": [
    "X=data3.drop(['target'],axis=1)\n",
    "Y=data3['target']"
   ]
  },
  {
   "cell_type": "code",
   "execution_count": 0,
   "metadata": {
    "colab": {},
    "colab_type": "code",
    "id": "hQdIGbauA2zC"
   },
   "outputs": [],
   "source": [
    "from imblearn.over_sampling import RandomOverSampler\n",
    "ros=RandomOverSampler(ratio=1)\n",
    "X_train_res,y_train_res=ros.fit_sample(X,Y)"
   ]
  },
  {
   "cell_type": "code",
   "execution_count": 59,
   "metadata": {
    "colab": {
     "base_uri": "https://localhost:8080/",
     "height": 34
    },
    "colab_type": "code",
    "id": "1_4aVpGiCFHg",
    "outputId": "90f3f7a1-5581-4620-9bcd-f889e65cfc9d"
   },
   "outputs": [
    {
     "data": {
      "text/plain": [
       "((1147036, 206), (1147036,))"
      ]
     },
     "execution_count": 59,
     "metadata": {
      "tags": []
     },
     "output_type": "execute_result"
    }
   ],
   "source": [
    "# Oversampled data with one-hot encoded\n",
    "X_train_res.shape,y_train_res.shape"
   ]
  },
  {
   "cell_type": "code",
   "execution_count": 0,
   "metadata": {
    "colab": {},
    "colab_type": "code",
    "id": "T_2HJAa0NlwE"
   },
   "outputs": [],
   "source": [
    "X_train_res=pd.DataFrame(X_train_res,columns=X.columns)\n",
    "y_train_res=pd.DataFrame(y_train_res,columns=['target'])"
   ]
  },
  {
   "cell_type": "code",
   "execution_count": 61,
   "metadata": {
    "colab": {
     "base_uri": "https://localhost:8080/",
     "height": 51
    },
    "colab_type": "code",
    "id": "a7dqobI6CUts",
    "outputId": "d6250676-202d-43a5-9615-d8d522dfebcc"
   },
   "outputs": [
    {
     "name": "stdout",
     "output_type": "stream",
     "text": [
      "Original dataset shape: Counter({0: 573518, 1: 21694})\n",
      "Resampled dataset shape: Counter({'target': 1})\n"
     ]
    }
   ],
   "source": [
    "from collections import Counter\n",
    "print('Original dataset shape: {}'.format(Counter(Y)))\n",
    "print('Resampled dataset shape: {}'.format(Counter(y_train_res)))"
   ]
  },
  {
   "cell_type": "code",
   "execution_count": 62,
   "metadata": {
    "colab": {
     "base_uri": "https://localhost:8080/",
     "height": 34
    },
    "colab_type": "code",
    "id": "zD0YE50mzZF8",
    "outputId": "7939b63d-62f9-4b81-807d-d9c409061e12"
   },
   "outputs": [
    {
     "data": {
      "text/plain": [
       "((1147036, 55), (1147036, 1))"
      ]
     },
     "execution_count": 62,
     "metadata": {
      "tags": []
     },
     "output_type": "execute_result"
    }
   ],
   "source": [
    "# Oversampling the data without one-hot encoding and scaling\n",
    "data2_X = data2.drop('target',axis=1)\n",
    "data2_Y=data2['target']\n",
    "ros1=RandomOverSampler(ratio=1)\n",
    "X_train3_res,Y_train3_res=ros.fit_sample(data2_X,data2_Y)\n",
    "X_train3_res=pd.DataFrame(X_train3_res,columns=data2_X.columns)\n",
    "Y_train3_res=pd.DataFrame(Y_train3_res,columns=['target'])\n",
    "X_train3_res.shape,Y_train3_res.shape"
   ]
  },
  {
   "cell_type": "markdown",
   "metadata": {
    "colab_type": "text",
    "id": "z1ReGQr2NcCM"
   },
   "source": [
    "### **CORRELATION PLOTS** "
   ]
  },
  {
   "cell_type": "code",
   "execution_count": 63,
   "metadata": {
    "colab": {
     "base_uri": "https://localhost:8080/",
     "height": 187
    },
    "colab_type": "code",
    "id": "IIlvALSj6BHm",
    "outputId": "7b17d917-16f2-47a8-9fa4-fddc7e654313"
   },
   "outputs": [
    {
     "data": {
      "text/html": [
       "<style  type=\"text/css\" >\n",
       "    #T_e43e7796_a006_11ea_90b8_0242ac1c0002row0_col0 {\n",
       "            background-color:  #b40426;\n",
       "            color:  #f1f1f1;\n",
       "        }    #T_e43e7796_a006_11ea_90b8_0242ac1c0002row0_col1 {\n",
       "            background-color:  #3b4cc0;\n",
       "            color:  #f1f1f1;\n",
       "        }    #T_e43e7796_a006_11ea_90b8_0242ac1c0002row0_col2 {\n",
       "            background-color:  #4055c8;\n",
       "            color:  #f1f1f1;\n",
       "        }    #T_e43e7796_a006_11ea_90b8_0242ac1c0002row0_col3 {\n",
       "            background-color:  #4358cb;\n",
       "            color:  #f1f1f1;\n",
       "        }    #T_e43e7796_a006_11ea_90b8_0242ac1c0002row0_col4 {\n",
       "            background-color:  #3e51c5;\n",
       "            color:  #f1f1f1;\n",
       "        }    #T_e43e7796_a006_11ea_90b8_0242ac1c0002row0_col5 {\n",
       "            background-color:  #4257c9;\n",
       "            color:  #f1f1f1;\n",
       "        }    #T_e43e7796_a006_11ea_90b8_0242ac1c0002row0_col6 {\n",
       "            background-color:  #3b4cc0;\n",
       "            color:  #f1f1f1;\n",
       "        }    #T_e43e7796_a006_11ea_90b8_0242ac1c0002row1_col0 {\n",
       "            background-color:  #3f53c6;\n",
       "            color:  #f1f1f1;\n",
       "        }    #T_e43e7796_a006_11ea_90b8_0242ac1c0002row1_col1 {\n",
       "            background-color:  #b40426;\n",
       "            color:  #f1f1f1;\n",
       "        }    #T_e43e7796_a006_11ea_90b8_0242ac1c0002row1_col2 {\n",
       "            background-color:  #7093f3;\n",
       "            color:  #000000;\n",
       "        }    #T_e43e7796_a006_11ea_90b8_0242ac1c0002row1_col3 {\n",
       "            background-color:  #799cf8;\n",
       "            color:  #000000;\n",
       "        }    #T_e43e7796_a006_11ea_90b8_0242ac1c0002row1_col4 {\n",
       "            background-color:  #506bda;\n",
       "            color:  #000000;\n",
       "        }    #T_e43e7796_a006_11ea_90b8_0242ac1c0002row1_col5 {\n",
       "            background-color:  #6180e9;\n",
       "            color:  #000000;\n",
       "        }    #T_e43e7796_a006_11ea_90b8_0242ac1c0002row1_col6 {\n",
       "            background-color:  #f4c5ad;\n",
       "            color:  #000000;\n",
       "        }    #T_e43e7796_a006_11ea_90b8_0242ac1c0002row2_col0 {\n",
       "            background-color:  #4358cb;\n",
       "            color:  #f1f1f1;\n",
       "        }    #T_e43e7796_a006_11ea_90b8_0242ac1c0002row2_col1 {\n",
       "            background-color:  #6e90f2;\n",
       "            color:  #000000;\n",
       "        }    #T_e43e7796_a006_11ea_90b8_0242ac1c0002row2_col2 {\n",
       "            background-color:  #b40426;\n",
       "            color:  #f1f1f1;\n",
       "        }    #T_e43e7796_a006_11ea_90b8_0242ac1c0002row2_col3 {\n",
       "            background-color:  #f7b99e;\n",
       "            color:  #000000;\n",
       "        }    #T_e43e7796_a006_11ea_90b8_0242ac1c0002row2_col4 {\n",
       "            background-color:  #ead4c8;\n",
       "            color:  #000000;\n",
       "        }    #T_e43e7796_a006_11ea_90b8_0242ac1c0002row2_col5 {\n",
       "            background-color:  #4055c8;\n",
       "            color:  #f1f1f1;\n",
       "        }    #T_e43e7796_a006_11ea_90b8_0242ac1c0002row2_col6 {\n",
       "            background-color:  #6788ee;\n",
       "            color:  #000000;\n",
       "        }    #T_e43e7796_a006_11ea_90b8_0242ac1c0002row3_col0 {\n",
       "            background-color:  #485fd1;\n",
       "            color:  #f1f1f1;\n",
       "        }    #T_e43e7796_a006_11ea_90b8_0242ac1c0002row3_col1 {\n",
       "            background-color:  #799cf8;\n",
       "            color:  #000000;\n",
       "        }    #T_e43e7796_a006_11ea_90b8_0242ac1c0002row3_col2 {\n",
       "            background-color:  #f7b89c;\n",
       "            color:  #000000;\n",
       "        }    #T_e43e7796_a006_11ea_90b8_0242ac1c0002row3_col3 {\n",
       "            background-color:  #b40426;\n",
       "            color:  #f1f1f1;\n",
       "        }    #T_e43e7796_a006_11ea_90b8_0242ac1c0002row3_col4 {\n",
       "            background-color:  #c6d6f1;\n",
       "            color:  #000000;\n",
       "        }    #T_e43e7796_a006_11ea_90b8_0242ac1c0002row3_col5 {\n",
       "            background-color:  #4358cb;\n",
       "            color:  #f1f1f1;\n",
       "        }    #T_e43e7796_a006_11ea_90b8_0242ac1c0002row3_col6 {\n",
       "            background-color:  #6f92f3;\n",
       "            color:  #000000;\n",
       "        }    #T_e43e7796_a006_11ea_90b8_0242ac1c0002row4_col0 {\n",
       "            background-color:  #3b4cc0;\n",
       "            color:  #f1f1f1;\n",
       "        }    #T_e43e7796_a006_11ea_90b8_0242ac1c0002row4_col1 {\n",
       "            background-color:  #465ecf;\n",
       "            color:  #f1f1f1;\n",
       "        }    #T_e43e7796_a006_11ea_90b8_0242ac1c0002row4_col2 {\n",
       "            background-color:  #e9d5cb;\n",
       "            color:  #000000;\n",
       "        }    #T_e43e7796_a006_11ea_90b8_0242ac1c0002row4_col3 {\n",
       "            background-color:  #c0d4f5;\n",
       "            color:  #000000;\n",
       "        }    #T_e43e7796_a006_11ea_90b8_0242ac1c0002row4_col4 {\n",
       "            background-color:  #b40426;\n",
       "            color:  #f1f1f1;\n",
       "        }    #T_e43e7796_a006_11ea_90b8_0242ac1c0002row4_col5 {\n",
       "            background-color:  #3b4cc0;\n",
       "            color:  #f1f1f1;\n",
       "        }    #T_e43e7796_a006_11ea_90b8_0242ac1c0002row4_col6 {\n",
       "            background-color:  #3f53c6;\n",
       "            color:  #f1f1f1;\n",
       "        }    #T_e43e7796_a006_11ea_90b8_0242ac1c0002row5_col0 {\n",
       "            background-color:  #3e51c5;\n",
       "            color:  #f1f1f1;\n",
       "        }    #T_e43e7796_a006_11ea_90b8_0242ac1c0002row5_col1 {\n",
       "            background-color:  #5875e1;\n",
       "            color:  #000000;\n",
       "        }    #T_e43e7796_a006_11ea_90b8_0242ac1c0002row5_col2 {\n",
       "            background-color:  #3b4cc0;\n",
       "            color:  #f1f1f1;\n",
       "        }    #T_e43e7796_a006_11ea_90b8_0242ac1c0002row5_col3 {\n",
       "            background-color:  #3b4cc0;\n",
       "            color:  #f1f1f1;\n",
       "        }    #T_e43e7796_a006_11ea_90b8_0242ac1c0002row5_col4 {\n",
       "            background-color:  #3b4cc0;\n",
       "            color:  #f1f1f1;\n",
       "        }    #T_e43e7796_a006_11ea_90b8_0242ac1c0002row5_col5 {\n",
       "            background-color:  #b40426;\n",
       "            color:  #f1f1f1;\n",
       "        }    #T_e43e7796_a006_11ea_90b8_0242ac1c0002row5_col6 {\n",
       "            background-color:  #cfdaea;\n",
       "            color:  #000000;\n",
       "        }    #T_e43e7796_a006_11ea_90b8_0242ac1c0002row6_col0 {\n",
       "            background-color:  #4257c9;\n",
       "            color:  #f1f1f1;\n",
       "        }    #T_e43e7796_a006_11ea_90b8_0242ac1c0002row6_col1 {\n",
       "            background-color:  #f5c4ac;\n",
       "            color:  #000000;\n",
       "        }    #T_e43e7796_a006_11ea_90b8_0242ac1c0002row6_col2 {\n",
       "            background-color:  #6b8df0;\n",
       "            color:  #000000;\n",
       "        }    #T_e43e7796_a006_11ea_90b8_0242ac1c0002row6_col3 {\n",
       "            background-color:  #7295f4;\n",
       "            color:  #000000;\n",
       "        }    #T_e43e7796_a006_11ea_90b8_0242ac1c0002row6_col4 {\n",
       "            background-color:  #4a63d3;\n",
       "            color:  #f1f1f1;\n",
       "        }    #T_e43e7796_a006_11ea_90b8_0242ac1c0002row6_col5 {\n",
       "            background-color:  #d5dbe5;\n",
       "            color:  #000000;\n",
       "        }    #T_e43e7796_a006_11ea_90b8_0242ac1c0002row6_col6 {\n",
       "            background-color:  #b40426;\n",
       "            color:  #f1f1f1;\n",
       "        }</style><table id=\"T_e43e7796_a006_11ea_90b8_0242ac1c0002\" ><thead>    <tr>        <th class=\"blank level0\" ></th>        <th class=\"col_heading level0 col0\" >target</th>        <th class=\"col_heading level0 col1\" >ps_reg_03</th>        <th class=\"col_heading level0 col2\" >ps_car_12</th>        <th class=\"col_heading level0 col3\" >ps_car_13</th>        <th class=\"col_heading level0 col4\" >ps_car_14</th>        <th class=\"col_heading level0 col5\" >ps_reg_01</th>        <th class=\"col_heading level0 col6\" >ps_reg_02</th>    </tr></thead><tbody>\n",
       "                <tr>\n",
       "                        <th id=\"T_e43e7796_a006_11ea_90b8_0242ac1c0002level0_row0\" class=\"row_heading level0 row0\" >target</th>\n",
       "                        <td id=\"T_e43e7796_a006_11ea_90b8_0242ac1c0002row0_col0\" class=\"data row0 col0\" >1.00</td>\n",
       "                        <td id=\"T_e43e7796_a006_11ea_90b8_0242ac1c0002row0_col1\" class=\"data row0 col1\" >0.03</td>\n",
       "                        <td id=\"T_e43e7796_a006_11ea_90b8_0242ac1c0002row0_col2\" class=\"data row0 col2\" >0.04</td>\n",
       "                        <td id=\"T_e43e7796_a006_11ea_90b8_0242ac1c0002row0_col3\" class=\"data row0 col3\" >0.05</td>\n",
       "                        <td id=\"T_e43e7796_a006_11ea_90b8_0242ac1c0002row0_col4\" class=\"data row0 col4\" >0.01</td>\n",
       "                        <td id=\"T_e43e7796_a006_11ea_90b8_0242ac1c0002row0_col5\" class=\"data row0 col5\" >0.02</td>\n",
       "                        <td id=\"T_e43e7796_a006_11ea_90b8_0242ac1c0002row0_col6\" class=\"data row0 col6\" >0.03</td>\n",
       "            </tr>\n",
       "            <tr>\n",
       "                        <th id=\"T_e43e7796_a006_11ea_90b8_0242ac1c0002level0_row1\" class=\"row_heading level0 row1\" >ps_reg_03</th>\n",
       "                        <td id=\"T_e43e7796_a006_11ea_90b8_0242ac1c0002row1_col0\" class=\"data row1 col0\" >0.03</td>\n",
       "                        <td id=\"T_e43e7796_a006_11ea_90b8_0242ac1c0002row1_col1\" class=\"data row1 col1\" >1.00</td>\n",
       "                        <td id=\"T_e43e7796_a006_11ea_90b8_0242ac1c0002row1_col2\" class=\"data row1 col2\" >0.18</td>\n",
       "                        <td id=\"T_e43e7796_a006_11ea_90b8_0242ac1c0002row1_col3\" class=\"data row1 col3\" >0.22</td>\n",
       "                        <td id=\"T_e43e7796_a006_11ea_90b8_0242ac1c0002row1_col4\" class=\"data row1 col4\" >0.07</td>\n",
       "                        <td id=\"T_e43e7796_a006_11ea_90b8_0242ac1c0002row1_col5\" class=\"data row1 col5\" >0.12</td>\n",
       "                        <td id=\"T_e43e7796_a006_11ea_90b8_0242ac1c0002row1_col6\" class=\"data row1 col6\" >0.64</td>\n",
       "            </tr>\n",
       "            <tr>\n",
       "                        <th id=\"T_e43e7796_a006_11ea_90b8_0242ac1c0002level0_row2\" class=\"row_heading level0 row2\" >ps_car_12</th>\n",
       "                        <td id=\"T_e43e7796_a006_11ea_90b8_0242ac1c0002row2_col0\" class=\"data row2 col0\" >0.04</td>\n",
       "                        <td id=\"T_e43e7796_a006_11ea_90b8_0242ac1c0002row2_col1\" class=\"data row2 col1\" >0.18</td>\n",
       "                        <td id=\"T_e43e7796_a006_11ea_90b8_0242ac1c0002row2_col2\" class=\"data row2 col2\" >1.00</td>\n",
       "                        <td id=\"T_e43e7796_a006_11ea_90b8_0242ac1c0002row2_col3\" class=\"data row2 col3\" >0.67</td>\n",
       "                        <td id=\"T_e43e7796_a006_11ea_90b8_0242ac1c0002row2_col4\" class=\"data row2 col4\" >0.56</td>\n",
       "                        <td id=\"T_e43e7796_a006_11ea_90b8_0242ac1c0002row2_col5\" class=\"data row2 col5\" >0.02</td>\n",
       "                        <td id=\"T_e43e7796_a006_11ea_90b8_0242ac1c0002row2_col6\" class=\"data row2 col6\" >0.17</td>\n",
       "            </tr>\n",
       "            <tr>\n",
       "                        <th id=\"T_e43e7796_a006_11ea_90b8_0242ac1c0002level0_row3\" class=\"row_heading level0 row3\" >ps_car_13</th>\n",
       "                        <td id=\"T_e43e7796_a006_11ea_90b8_0242ac1c0002row3_col0\" class=\"data row3 col0\" >0.05</td>\n",
       "                        <td id=\"T_e43e7796_a006_11ea_90b8_0242ac1c0002row3_col1\" class=\"data row3 col1\" >0.22</td>\n",
       "                        <td id=\"T_e43e7796_a006_11ea_90b8_0242ac1c0002row3_col2\" class=\"data row3 col2\" >0.67</td>\n",
       "                        <td id=\"T_e43e7796_a006_11ea_90b8_0242ac1c0002row3_col3\" class=\"data row3 col3\" >1.00</td>\n",
       "                        <td id=\"T_e43e7796_a006_11ea_90b8_0242ac1c0002row3_col4\" class=\"data row3 col4\" >0.42</td>\n",
       "                        <td id=\"T_e43e7796_a006_11ea_90b8_0242ac1c0002row3_col5\" class=\"data row3 col5\" >0.03</td>\n",
       "                        <td id=\"T_e43e7796_a006_11ea_90b8_0242ac1c0002row3_col6\" class=\"data row3 col6\" >0.19</td>\n",
       "            </tr>\n",
       "            <tr>\n",
       "                        <th id=\"T_e43e7796_a006_11ea_90b8_0242ac1c0002level0_row4\" class=\"row_heading level0 row4\" >ps_car_14</th>\n",
       "                        <td id=\"T_e43e7796_a006_11ea_90b8_0242ac1c0002row4_col0\" class=\"data row4 col0\" >0.01</td>\n",
       "                        <td id=\"T_e43e7796_a006_11ea_90b8_0242ac1c0002row4_col1\" class=\"data row4 col1\" >0.07</td>\n",
       "                        <td id=\"T_e43e7796_a006_11ea_90b8_0242ac1c0002row4_col2\" class=\"data row4 col2\" >0.56</td>\n",
       "                        <td id=\"T_e43e7796_a006_11ea_90b8_0242ac1c0002row4_col3\" class=\"data row4 col3\" >0.42</td>\n",
       "                        <td id=\"T_e43e7796_a006_11ea_90b8_0242ac1c0002row4_col4\" class=\"data row4 col4\" >1.00</td>\n",
       "                        <td id=\"T_e43e7796_a006_11ea_90b8_0242ac1c0002row4_col5\" class=\"data row4 col5\" >-0.00</td>\n",
       "                        <td id=\"T_e43e7796_a006_11ea_90b8_0242ac1c0002row4_col6\" class=\"data row4 col6\" >0.05</td>\n",
       "            </tr>\n",
       "            <tr>\n",
       "                        <th id=\"T_e43e7796_a006_11ea_90b8_0242ac1c0002level0_row5\" class=\"row_heading level0 row5\" >ps_reg_01</th>\n",
       "                        <td id=\"T_e43e7796_a006_11ea_90b8_0242ac1c0002row5_col0\" class=\"data row5 col0\" >0.02</td>\n",
       "                        <td id=\"T_e43e7796_a006_11ea_90b8_0242ac1c0002row5_col1\" class=\"data row5 col1\" >0.12</td>\n",
       "                        <td id=\"T_e43e7796_a006_11ea_90b8_0242ac1c0002row5_col2\" class=\"data row5 col2\" >0.02</td>\n",
       "                        <td id=\"T_e43e7796_a006_11ea_90b8_0242ac1c0002row5_col3\" class=\"data row5 col3\" >0.03</td>\n",
       "                        <td id=\"T_e43e7796_a006_11ea_90b8_0242ac1c0002row5_col4\" class=\"data row5 col4\" >-0.00</td>\n",
       "                        <td id=\"T_e43e7796_a006_11ea_90b8_0242ac1c0002row5_col5\" class=\"data row5 col5\" >1.00</td>\n",
       "                        <td id=\"T_e43e7796_a006_11ea_90b8_0242ac1c0002row5_col6\" class=\"data row5 col6\" >0.47</td>\n",
       "            </tr>\n",
       "            <tr>\n",
       "                        <th id=\"T_e43e7796_a006_11ea_90b8_0242ac1c0002level0_row6\" class=\"row_heading level0 row6\" >ps_reg_02</th>\n",
       "                        <td id=\"T_e43e7796_a006_11ea_90b8_0242ac1c0002row6_col0\" class=\"data row6 col0\" >0.03</td>\n",
       "                        <td id=\"T_e43e7796_a006_11ea_90b8_0242ac1c0002row6_col1\" class=\"data row6 col1\" >0.64</td>\n",
       "                        <td id=\"T_e43e7796_a006_11ea_90b8_0242ac1c0002row6_col2\" class=\"data row6 col2\" >0.17</td>\n",
       "                        <td id=\"T_e43e7796_a006_11ea_90b8_0242ac1c0002row6_col3\" class=\"data row6 col3\" >0.19</td>\n",
       "                        <td id=\"T_e43e7796_a006_11ea_90b8_0242ac1c0002row6_col4\" class=\"data row6 col4\" >0.05</td>\n",
       "                        <td id=\"T_e43e7796_a006_11ea_90b8_0242ac1c0002row6_col5\" class=\"data row6 col5\" >0.47</td>\n",
       "                        <td id=\"T_e43e7796_a006_11ea_90b8_0242ac1c0002row6_col6\" class=\"data row6 col6\" >1.00</td>\n",
       "            </tr>\n",
       "    </tbody></table>"
      ],
      "text/plain": [
       "<pandas.io.formats.style.Styler at 0x7f14e3f39c18>"
      ]
     },
     "execution_count": 63,
     "metadata": {
      "tags": []
     },
     "output_type": "execute_result"
    }
   ],
   "source": [
    "# Interval\n",
    "corr = data2[['target','ps_reg_03','ps_car_12','ps_car_13','ps_car_14','ps_reg_01','ps_reg_02']].corr()\n",
    "corr.style.background_gradient(cmap='coolwarm').set_precision(2)"
   ]
  },
  {
   "cell_type": "markdown",
   "metadata": {
    "colab_type": "text",
    "id": "49mq_15tKPoT"
   },
   "source": [
    "- There is a good correlation between **ps_reg_03** and **ps_reg_02**.\n",
    "- The **ps_car_12** showing moderate correlation with **ps_reg_02 and 03** and strong correlation with **ps_car_12 and 14**. "
   ]
  },
  {
   "cell_type": "code",
   "execution_count": 64,
   "metadata": {
    "colab": {
     "base_uri": "https://localhost:8080/",
     "height": 166
    },
    "colab_type": "code",
    "id": "gQhgp4juR7do",
    "outputId": "b7d859bb-e820-43e0-c660-35ad2b710332"
   },
   "outputs": [
    {
     "data": {
      "text/html": [
       "<style  type=\"text/css\" >\n",
       "    #T_e55593c6_a006_11ea_90b8_0242ac1c0002row0_col0 {\n",
       "            background-color:  #b40426;\n",
       "            color:  #f1f1f1;\n",
       "        }    #T_e55593c6_a006_11ea_90b8_0242ac1c0002row0_col1 {\n",
       "            background-color:  #4b64d5;\n",
       "            color:  #f1f1f1;\n",
       "        }    #T_e55593c6_a006_11ea_90b8_0242ac1c0002row0_col2 {\n",
       "            background-color:  #465ecf;\n",
       "            color:  #f1f1f1;\n",
       "        }    #T_e55593c6_a006_11ea_90b8_0242ac1c0002row0_col3 {\n",
       "            background-color:  #4e68d8;\n",
       "            color:  #000000;\n",
       "        }    #T_e55593c6_a006_11ea_90b8_0242ac1c0002row0_col4 {\n",
       "            background-color:  #5e7de7;\n",
       "            color:  #000000;\n",
       "        }    #T_e55593c6_a006_11ea_90b8_0242ac1c0002row0_col5 {\n",
       "            background-color:  #5572df;\n",
       "            color:  #000000;\n",
       "        }    #T_e55593c6_a006_11ea_90b8_0242ac1c0002row1_col0 {\n",
       "            background-color:  #4055c8;\n",
       "            color:  #f1f1f1;\n",
       "        }    #T_e55593c6_a006_11ea_90b8_0242ac1c0002row1_col1 {\n",
       "            background-color:  #b40426;\n",
       "            color:  #f1f1f1;\n",
       "        }    #T_e55593c6_a006_11ea_90b8_0242ac1c0002row1_col2 {\n",
       "            background-color:  #445acc;\n",
       "            color:  #f1f1f1;\n",
       "        }    #T_e55593c6_a006_11ea_90b8_0242ac1c0002row1_col3 {\n",
       "            background-color:  #3b4cc0;\n",
       "            color:  #f1f1f1;\n",
       "        }    #T_e55593c6_a006_11ea_90b8_0242ac1c0002row1_col4 {\n",
       "            background-color:  #5d7ce6;\n",
       "            color:  #000000;\n",
       "        }    #T_e55593c6_a006_11ea_90b8_0242ac1c0002row1_col5 {\n",
       "            background-color:  #6384eb;\n",
       "            color:  #000000;\n",
       "        }    #T_e55593c6_a006_11ea_90b8_0242ac1c0002row2_col0 {\n",
       "            background-color:  #465ecf;\n",
       "            color:  #f1f1f1;\n",
       "        }    #T_e55593c6_a006_11ea_90b8_0242ac1c0002row2_col1 {\n",
       "            background-color:  #4e68d8;\n",
       "            color:  #000000;\n",
       "        }    #T_e55593c6_a006_11ea_90b8_0242ac1c0002row2_col2 {\n",
       "            background-color:  #b40426;\n",
       "            color:  #f1f1f1;\n",
       "        }    #T_e55593c6_a006_11ea_90b8_0242ac1c0002row2_col3 {\n",
       "            background-color:  #93b5fe;\n",
       "            color:  #000000;\n",
       "        }    #T_e55593c6_a006_11ea_90b8_0242ac1c0002row2_col4 {\n",
       "            background-color:  #5572df;\n",
       "            color:  #000000;\n",
       "        }    #T_e55593c6_a006_11ea_90b8_0242ac1c0002row2_col5 {\n",
       "            background-color:  #81a4fb;\n",
       "            color:  #000000;\n",
       "        }    #T_e55593c6_a006_11ea_90b8_0242ac1c0002row3_col0 {\n",
       "            background-color:  #4358cb;\n",
       "            color:  #f1f1f1;\n",
       "        }    #T_e55593c6_a006_11ea_90b8_0242ac1c0002row3_col1 {\n",
       "            background-color:  #3b4cc0;\n",
       "            color:  #f1f1f1;\n",
       "        }    #T_e55593c6_a006_11ea_90b8_0242ac1c0002row3_col2 {\n",
       "            background-color:  #8badfd;\n",
       "            color:  #000000;\n",
       "        }    #T_e55593c6_a006_11ea_90b8_0242ac1c0002row3_col3 {\n",
       "            background-color:  #b40426;\n",
       "            color:  #f1f1f1;\n",
       "        }    #T_e55593c6_a006_11ea_90b8_0242ac1c0002row3_col4 {\n",
       "            background-color:  #5d7ce6;\n",
       "            color:  #000000;\n",
       "        }    #T_e55593c6_a006_11ea_90b8_0242ac1c0002row3_col5 {\n",
       "            background-color:  #90b2fe;\n",
       "            color:  #000000;\n",
       "        }    #T_e55593c6_a006_11ea_90b8_0242ac1c0002row4_col0 {\n",
       "            background-color:  #4358cb;\n",
       "            color:  #f1f1f1;\n",
       "        }    #T_e55593c6_a006_11ea_90b8_0242ac1c0002row4_col1 {\n",
       "            background-color:  #4c66d6;\n",
       "            color:  #000000;\n",
       "        }    #T_e55593c6_a006_11ea_90b8_0242ac1c0002row4_col2 {\n",
       "            background-color:  #3b4cc0;\n",
       "            color:  #f1f1f1;\n",
       "        }    #T_e55593c6_a006_11ea_90b8_0242ac1c0002row4_col3 {\n",
       "            background-color:  #4b64d5;\n",
       "            color:  #f1f1f1;\n",
       "        }    #T_e55593c6_a006_11ea_90b8_0242ac1c0002row4_col4 {\n",
       "            background-color:  #b40426;\n",
       "            color:  #f1f1f1;\n",
       "        }    #T_e55593c6_a006_11ea_90b8_0242ac1c0002row4_col5 {\n",
       "            background-color:  #3b4cc0;\n",
       "            color:  #f1f1f1;\n",
       "        }    #T_e55593c6_a006_11ea_90b8_0242ac1c0002row5_col0 {\n",
       "            background-color:  #3b4cc0;\n",
       "            color:  #f1f1f1;\n",
       "        }    #T_e55593c6_a006_11ea_90b8_0242ac1c0002row5_col1 {\n",
       "            background-color:  #516ddb;\n",
       "            color:  #000000;\n",
       "        }    #T_e55593c6_a006_11ea_90b8_0242ac1c0002row5_col2 {\n",
       "            background-color:  #6788ee;\n",
       "            color:  #000000;\n",
       "        }    #T_e55593c6_a006_11ea_90b8_0242ac1c0002row5_col3 {\n",
       "            background-color:  #81a4fb;\n",
       "            color:  #000000;\n",
       "        }    #T_e55593c6_a006_11ea_90b8_0242ac1c0002row5_col4 {\n",
       "            background-color:  #3b4cc0;\n",
       "            color:  #f1f1f1;\n",
       "        }    #T_e55593c6_a006_11ea_90b8_0242ac1c0002row5_col5 {\n",
       "            background-color:  #b40426;\n",
       "            color:  #f1f1f1;\n",
       "        }</style><table id=\"T_e55593c6_a006_11ea_90b8_0242ac1c0002\" ><thead>    <tr>        <th class=\"blank level0\" ></th>        <th class=\"col_heading level0 col0\" >target</th>        <th class=\"col_heading level0 col1\" >ps_car_11</th>        <th class=\"col_heading level0 col2\" >ps_ind_01</th>        <th class=\"col_heading level0 col3\" >ps_ind_03</th>        <th class=\"col_heading level0 col4\" >ps_ind_14</th>        <th class=\"col_heading level0 col5\" >ps_ind_15</th>    </tr></thead><tbody>\n",
       "                <tr>\n",
       "                        <th id=\"T_e55593c6_a006_11ea_90b8_0242ac1c0002level0_row0\" class=\"row_heading level0 row0\" >target</th>\n",
       "                        <td id=\"T_e55593c6_a006_11ea_90b8_0242ac1c0002row0_col0\" class=\"data row0 col0\" >1.00</td>\n",
       "                        <td id=\"T_e55593c6_a006_11ea_90b8_0242ac1c0002row0_col1\" class=\"data row0 col1\" >-0.00</td>\n",
       "                        <td id=\"T_e55593c6_a006_11ea_90b8_0242ac1c0002row0_col2\" class=\"data row0 col2\" >0.02</td>\n",
       "                        <td id=\"T_e55593c6_a006_11ea_90b8_0242ac1c0002row0_col3\" class=\"data row0 col3\" >0.01</td>\n",
       "                        <td id=\"T_e55593c6_a006_11ea_90b8_0242ac1c0002row0_col4\" class=\"data row0 col4\" >0.01</td>\n",
       "                        <td id=\"T_e55593c6_a006_11ea_90b8_0242ac1c0002row0_col5\" class=\"data row0 col5\" >-0.02</td>\n",
       "            </tr>\n",
       "            <tr>\n",
       "                        <th id=\"T_e55593c6_a006_11ea_90b8_0242ac1c0002level0_row1\" class=\"row_heading level0 row1\" >ps_car_11</th>\n",
       "                        <td id=\"T_e55593c6_a006_11ea_90b8_0242ac1c0002row1_col0\" class=\"data row1 col0\" >-0.00</td>\n",
       "                        <td id=\"T_e55593c6_a006_11ea_90b8_0242ac1c0002row1_col1\" class=\"data row1 col1\" >1.00</td>\n",
       "                        <td id=\"T_e55593c6_a006_11ea_90b8_0242ac1c0002row1_col2\" class=\"data row1 col2\" >0.01</td>\n",
       "                        <td id=\"T_e55593c6_a006_11ea_90b8_0242ac1c0002row1_col3\" class=\"data row1 col3\" >-0.06</td>\n",
       "                        <td id=\"T_e55593c6_a006_11ea_90b8_0242ac1c0002row1_col4\" class=\"data row1 col4\" >0.00</td>\n",
       "                        <td id=\"T_e55593c6_a006_11ea_90b8_0242ac1c0002row1_col5\" class=\"data row1 col5\" >0.02</td>\n",
       "            </tr>\n",
       "            <tr>\n",
       "                        <th id=\"T_e55593c6_a006_11ea_90b8_0242ac1c0002level0_row2\" class=\"row_heading level0 row2\" >ps_ind_01</th>\n",
       "                        <td id=\"T_e55593c6_a006_11ea_90b8_0242ac1c0002row2_col0\" class=\"data row2 col0\" >0.02</td>\n",
       "                        <td id=\"T_e55593c6_a006_11ea_90b8_0242ac1c0002row2_col1\" class=\"data row2 col1\" >0.01</td>\n",
       "                        <td id=\"T_e55593c6_a006_11ea_90b8_0242ac1c0002row2_col2\" class=\"data row2 col2\" >1.00</td>\n",
       "                        <td id=\"T_e55593c6_a006_11ea_90b8_0242ac1c0002row2_col3\" class=\"data row2 col3\" >0.22</td>\n",
       "                        <td id=\"T_e55593c6_a006_11ea_90b8_0242ac1c0002row2_col4\" class=\"data row2 col4\" >-0.02</td>\n",
       "                        <td id=\"T_e55593c6_a006_11ea_90b8_0242ac1c0002row2_col5\" class=\"data row2 col5\" >0.12</td>\n",
       "            </tr>\n",
       "            <tr>\n",
       "                        <th id=\"T_e55593c6_a006_11ea_90b8_0242ac1c0002level0_row3\" class=\"row_heading level0 row3\" >ps_ind_03</th>\n",
       "                        <td id=\"T_e55593c6_a006_11ea_90b8_0242ac1c0002row3_col0\" class=\"data row3 col0\" >0.01</td>\n",
       "                        <td id=\"T_e55593c6_a006_11ea_90b8_0242ac1c0002row3_col1\" class=\"data row3 col1\" >-0.06</td>\n",
       "                        <td id=\"T_e55593c6_a006_11ea_90b8_0242ac1c0002row3_col2\" class=\"data row3 col2\" >0.22</td>\n",
       "                        <td id=\"T_e55593c6_a006_11ea_90b8_0242ac1c0002row3_col3\" class=\"data row3 col3\" >1.00</td>\n",
       "                        <td id=\"T_e55593c6_a006_11ea_90b8_0242ac1c0002row3_col4\" class=\"data row3 col4\" >0.00</td>\n",
       "                        <td id=\"T_e55593c6_a006_11ea_90b8_0242ac1c0002row3_col5\" class=\"data row3 col5\" >0.17</td>\n",
       "            </tr>\n",
       "            <tr>\n",
       "                        <th id=\"T_e55593c6_a006_11ea_90b8_0242ac1c0002level0_row4\" class=\"row_heading level0 row4\" >ps_ind_14</th>\n",
       "                        <td id=\"T_e55593c6_a006_11ea_90b8_0242ac1c0002row4_col0\" class=\"data row4 col0\" >0.01</td>\n",
       "                        <td id=\"T_e55593c6_a006_11ea_90b8_0242ac1c0002row4_col1\" class=\"data row4 col1\" >0.00</td>\n",
       "                        <td id=\"T_e55593c6_a006_11ea_90b8_0242ac1c0002row4_col2\" class=\"data row4 col2\" >-0.02</td>\n",
       "                        <td id=\"T_e55593c6_a006_11ea_90b8_0242ac1c0002row4_col3\" class=\"data row4 col3\" >0.00</td>\n",
       "                        <td id=\"T_e55593c6_a006_11ea_90b8_0242ac1c0002row4_col4\" class=\"data row4 col4\" >1.00</td>\n",
       "                        <td id=\"T_e55593c6_a006_11ea_90b8_0242ac1c0002row4_col5\" class=\"data row4 col5\" >-0.12</td>\n",
       "            </tr>\n",
       "            <tr>\n",
       "                        <th id=\"T_e55593c6_a006_11ea_90b8_0242ac1c0002level0_row5\" class=\"row_heading level0 row5\" >ps_ind_15</th>\n",
       "                        <td id=\"T_e55593c6_a006_11ea_90b8_0242ac1c0002row5_col0\" class=\"data row5 col0\" >-0.02</td>\n",
       "                        <td id=\"T_e55593c6_a006_11ea_90b8_0242ac1c0002row5_col1\" class=\"data row5 col1\" >0.02</td>\n",
       "                        <td id=\"T_e55593c6_a006_11ea_90b8_0242ac1c0002row5_col2\" class=\"data row5 col2\" >0.12</td>\n",
       "                        <td id=\"T_e55593c6_a006_11ea_90b8_0242ac1c0002row5_col3\" class=\"data row5 col3\" >0.17</td>\n",
       "                        <td id=\"T_e55593c6_a006_11ea_90b8_0242ac1c0002row5_col4\" class=\"data row5 col4\" >-0.12</td>\n",
       "                        <td id=\"T_e55593c6_a006_11ea_90b8_0242ac1c0002row5_col5\" class=\"data row5 col5\" >1.00</td>\n",
       "            </tr>\n",
       "    </tbody></table>"
      ],
      "text/plain": [
       "<pandas.io.formats.style.Styler at 0x7f1508cbae80>"
      ]
     },
     "execution_count": 64,
     "metadata": {
      "tags": []
     },
     "output_type": "execute_result"
    }
   ],
   "source": [
    "# ORDINAL\n",
    "corr1=data2[['target','ps_car_11','ps_ind_01','ps_ind_03','ps_ind_14','ps_ind_15']].corr()\n",
    "corr1.style.background_gradient(cmap='coolwarm').set_precision(2)"
   ]
  },
  {
   "cell_type": "markdown",
   "metadata": {
    "colab_type": "text",
    "id": "QjlTwCv8QH5a"
   },
   "source": [
    "**ps_ind_03** showing moderate correlation with **ps_ind_01**."
   ]
  },
  {
   "cell_type": "code",
   "execution_count": 65,
   "metadata": {
    "colab": {
     "base_uri": "https://localhost:8080/",
     "height": 312
    },
    "colab_type": "code",
    "id": "kaVIv7wHZ-S_",
    "outputId": "13c8b128-bdd4-4fdf-dd4f-dc5a1225308f"
   },
   "outputs": [
    {
     "data": {
      "text/html": [
       "<style  type=\"text/css\" >\n",
       "    #T_e634378e_a006_11ea_90b8_0242ac1c0002row0_col0 {\n",
       "            background-color:  #b40426;\n",
       "            color:  #f1f1f1;\n",
       "        }    #T_e634378e_a006_11ea_90b8_0242ac1c0002row0_col1 {\n",
       "            background-color:  #9ebeff;\n",
       "            color:  #000000;\n",
       "        }    #T_e634378e_a006_11ea_90b8_0242ac1c0002row0_col2 {\n",
       "            background-color:  #aec9fc;\n",
       "            color:  #000000;\n",
       "        }    #T_e634378e_a006_11ea_90b8_0242ac1c0002row0_col3 {\n",
       "            background-color:  #94b6ff;\n",
       "            color:  #000000;\n",
       "        }    #T_e634378e_a006_11ea_90b8_0242ac1c0002row0_col4 {\n",
       "            background-color:  #94b6ff;\n",
       "            color:  #000000;\n",
       "        }    #T_e634378e_a006_11ea_90b8_0242ac1c0002row0_col5 {\n",
       "            background-color:  #4257c9;\n",
       "            color:  #f1f1f1;\n",
       "        }    #T_e634378e_a006_11ea_90b8_0242ac1c0002row0_col6 {\n",
       "            background-color:  #4a63d3;\n",
       "            color:  #f1f1f1;\n",
       "        }    #T_e634378e_a006_11ea_90b8_0242ac1c0002row0_col7 {\n",
       "            background-color:  #5875e1;\n",
       "            color:  #000000;\n",
       "        }    #T_e634378e_a006_11ea_90b8_0242ac1c0002row0_col8 {\n",
       "            background-color:  #465ecf;\n",
       "            color:  #f1f1f1;\n",
       "        }    #T_e634378e_a006_11ea_90b8_0242ac1c0002row0_col9 {\n",
       "            background-color:  #b1cbfc;\n",
       "            color:  #000000;\n",
       "        }    #T_e634378e_a006_11ea_90b8_0242ac1c0002row0_col10 {\n",
       "            background-color:  #b5cdfa;\n",
       "            color:  #000000;\n",
       "        }    #T_e634378e_a006_11ea_90b8_0242ac1c0002row0_col11 {\n",
       "            background-color:  #b9d0f9;\n",
       "            color:  #000000;\n",
       "        }    #T_e634378e_a006_11ea_90b8_0242ac1c0002row1_col0 {\n",
       "            background-color:  #3b4cc0;\n",
       "            color:  #f1f1f1;\n",
       "        }    #T_e634378e_a006_11ea_90b8_0242ac1c0002row1_col1 {\n",
       "            background-color:  #b40426;\n",
       "            color:  #f1f1f1;\n",
       "        }    #T_e634378e_a006_11ea_90b8_0242ac1c0002row1_col2 {\n",
       "            background-color:  #3b4cc0;\n",
       "            color:  #f1f1f1;\n",
       "        }    #T_e634378e_a006_11ea_90b8_0242ac1c0002row1_col3 {\n",
       "            background-color:  #3b4cc0;\n",
       "            color:  #f1f1f1;\n",
       "        }    #T_e634378e_a006_11ea_90b8_0242ac1c0002row1_col4 {\n",
       "            background-color:  #3b4cc0;\n",
       "            color:  #f1f1f1;\n",
       "        }    #T_e634378e_a006_11ea_90b8_0242ac1c0002row1_col5 {\n",
       "            background-color:  #3e51c5;\n",
       "            color:  #f1f1f1;\n",
       "        }    #T_e634378e_a006_11ea_90b8_0242ac1c0002row1_col6 {\n",
       "            background-color:  #485fd1;\n",
       "            color:  #f1f1f1;\n",
       "        }    #T_e634378e_a006_11ea_90b8_0242ac1c0002row1_col7 {\n",
       "            background-color:  #516ddb;\n",
       "            color:  #000000;\n",
       "        }    #T_e634378e_a006_11ea_90b8_0242ac1c0002row1_col8 {\n",
       "            background-color:  #4358cb;\n",
       "            color:  #f1f1f1;\n",
       "        }    #T_e634378e_a006_11ea_90b8_0242ac1c0002row1_col9 {\n",
       "            background-color:  #bcd2f7;\n",
       "            color:  #000000;\n",
       "        }    #T_e634378e_a006_11ea_90b8_0242ac1c0002row1_col10 {\n",
       "            background-color:  #a5c3fe;\n",
       "            color:  #000000;\n",
       "        }    #T_e634378e_a006_11ea_90b8_0242ac1c0002row1_col11 {\n",
       "            background-color:  #b5cdfa;\n",
       "            color:  #000000;\n",
       "        }    #T_e634378e_a006_11ea_90b8_0242ac1c0002row2_col0 {\n",
       "            background-color:  #4e68d8;\n",
       "            color:  #000000;\n",
       "        }    #T_e634378e_a006_11ea_90b8_0242ac1c0002row2_col1 {\n",
       "            background-color:  #3b4cc0;\n",
       "            color:  #f1f1f1;\n",
       "        }    #T_e634378e_a006_11ea_90b8_0242ac1c0002row2_col2 {\n",
       "            background-color:  #b40426;\n",
       "            color:  #f1f1f1;\n",
       "        }    #T_e634378e_a006_11ea_90b8_0242ac1c0002row2_col3 {\n",
       "            background-color:  #506bda;\n",
       "            color:  #000000;\n",
       "        }    #T_e634378e_a006_11ea_90b8_0242ac1c0002row2_col4 {\n",
       "            background-color:  #516ddb;\n",
       "            color:  #000000;\n",
       "        }    #T_e634378e_a006_11ea_90b8_0242ac1c0002row2_col5 {\n",
       "            background-color:  #445acc;\n",
       "            color:  #f1f1f1;\n",
       "        }    #T_e634378e_a006_11ea_90b8_0242ac1c0002row2_col6 {\n",
       "            background-color:  #4c66d6;\n",
       "            color:  #000000;\n",
       "        }    #T_e634378e_a006_11ea_90b8_0242ac1c0002row2_col7 {\n",
       "            background-color:  #6180e9;\n",
       "            color:  #000000;\n",
       "        }    #T_e634378e_a006_11ea_90b8_0242ac1c0002row2_col8 {\n",
       "            background-color:  #4961d2;\n",
       "            color:  #f1f1f1;\n",
       "        }    #T_e634378e_a006_11ea_90b8_0242ac1c0002row2_col9 {\n",
       "            background-color:  #a7c5fe;\n",
       "            color:  #000000;\n",
       "        }    #T_e634378e_a006_11ea_90b8_0242ac1c0002row2_col10 {\n",
       "            background-color:  #b1cbfc;\n",
       "            color:  #000000;\n",
       "        }    #T_e634378e_a006_11ea_90b8_0242ac1c0002row2_col11 {\n",
       "            background-color:  #c6d6f1;\n",
       "            color:  #000000;\n",
       "        }    #T_e634378e_a006_11ea_90b8_0242ac1c0002row3_col0 {\n",
       "            background-color:  #485fd1;\n",
       "            color:  #f1f1f1;\n",
       "        }    #T_e634378e_a006_11ea_90b8_0242ac1c0002row3_col1 {\n",
       "            background-color:  #536edd;\n",
       "            color:  #000000;\n",
       "        }    #T_e634378e_a006_11ea_90b8_0242ac1c0002row3_col2 {\n",
       "            background-color:  #688aef;\n",
       "            color:  #000000;\n",
       "        }    #T_e634378e_a006_11ea_90b8_0242ac1c0002row3_col3 {\n",
       "            background-color:  #b40426;\n",
       "            color:  #f1f1f1;\n",
       "        }    #T_e634378e_a006_11ea_90b8_0242ac1c0002row3_col4 {\n",
       "            background-color:  #6282ea;\n",
       "            color:  #000000;\n",
       "        }    #T_e634378e_a006_11ea_90b8_0242ac1c0002row3_col5 {\n",
       "            background-color:  #4358cb;\n",
       "            color:  #f1f1f1;\n",
       "        }    #T_e634378e_a006_11ea_90b8_0242ac1c0002row3_col6 {\n",
       "            background-color:  #4c66d6;\n",
       "            color:  #000000;\n",
       "        }    #T_e634378e_a006_11ea_90b8_0242ac1c0002row3_col7 {\n",
       "            background-color:  #5a78e4;\n",
       "            color:  #000000;\n",
       "        }    #T_e634378e_a006_11ea_90b8_0242ac1c0002row3_col8 {\n",
       "            background-color:  #485fd1;\n",
       "            color:  #f1f1f1;\n",
       "        }    #T_e634378e_a006_11ea_90b8_0242ac1c0002row3_col9 {\n",
       "            background-color:  #b9d0f9;\n",
       "            color:  #000000;\n",
       "        }    #T_e634378e_a006_11ea_90b8_0242ac1c0002row3_col10 {\n",
       "            background-color:  #b5cdfa;\n",
       "            color:  #000000;\n",
       "        }    #T_e634378e_a006_11ea_90b8_0242ac1c0002row3_col11 {\n",
       "            background-color:  #b1cbfc;\n",
       "            color:  #000000;\n",
       "        }    #T_e634378e_a006_11ea_90b8_0242ac1c0002row4_col0 {\n",
       "            background-color:  #4257c9;\n",
       "            color:  #f1f1f1;\n",
       "        }    #T_e634378e_a006_11ea_90b8_0242ac1c0002row4_col1 {\n",
       "            background-color:  #4c66d6;\n",
       "            color:  #000000;\n",
       "        }    #T_e634378e_a006_11ea_90b8_0242ac1c0002row4_col2 {\n",
       "            background-color:  #6384eb;\n",
       "            color:  #000000;\n",
       "        }    #T_e634378e_a006_11ea_90b8_0242ac1c0002row4_col3 {\n",
       "            background-color:  #5b7ae5;\n",
       "            color:  #000000;\n",
       "        }    #T_e634378e_a006_11ea_90b8_0242ac1c0002row4_col4 {\n",
       "            background-color:  #b40426;\n",
       "            color:  #f1f1f1;\n",
       "        }    #T_e634378e_a006_11ea_90b8_0242ac1c0002row4_col5 {\n",
       "            background-color:  #3f53c6;\n",
       "            color:  #f1f1f1;\n",
       "        }    #T_e634378e_a006_11ea_90b8_0242ac1c0002row4_col6 {\n",
       "            background-color:  #455cce;\n",
       "            color:  #f1f1f1;\n",
       "        }    #T_e634378e_a006_11ea_90b8_0242ac1c0002row4_col7 {\n",
       "            background-color:  #4c66d6;\n",
       "            color:  #000000;\n",
       "        }    #T_e634378e_a006_11ea_90b8_0242ac1c0002row4_col8 {\n",
       "            background-color:  #4358cb;\n",
       "            color:  #f1f1f1;\n",
       "        }    #T_e634378e_a006_11ea_90b8_0242ac1c0002row4_col9 {\n",
       "            background-color:  #bfd3f6;\n",
       "            color:  #000000;\n",
       "        }    #T_e634378e_a006_11ea_90b8_0242ac1c0002row4_col10 {\n",
       "            background-color:  #aac7fd;\n",
       "            color:  #000000;\n",
       "        }    #T_e634378e_a006_11ea_90b8_0242ac1c0002row4_col11 {\n",
       "            background-color:  #afcafc;\n",
       "            color:  #000000;\n",
       "        }    #T_e634378e_a006_11ea_90b8_0242ac1c0002row5_col0 {\n",
       "            background-color:  #445acc;\n",
       "            color:  #f1f1f1;\n",
       "        }    #T_e634378e_a006_11ea_90b8_0242ac1c0002row5_col1 {\n",
       "            background-color:  #a3c2fe;\n",
       "            color:  #000000;\n",
       "        }    #T_e634378e_a006_11ea_90b8_0242ac1c0002row5_col2 {\n",
       "            background-color:  #a9c6fd;\n",
       "            color:  #000000;\n",
       "        }    #T_e634378e_a006_11ea_90b8_0242ac1c0002row5_col3 {\n",
       "            background-color:  #93b5fe;\n",
       "            color:  #000000;\n",
       "        }    #T_e634378e_a006_11ea_90b8_0242ac1c0002row5_col4 {\n",
       "            background-color:  #94b6ff;\n",
       "            color:  #000000;\n",
       "        }    #T_e634378e_a006_11ea_90b8_0242ac1c0002row5_col5 {\n",
       "            background-color:  #b40426;\n",
       "            color:  #f1f1f1;\n",
       "        }    #T_e634378e_a006_11ea_90b8_0242ac1c0002row5_col6 {\n",
       "            background-color:  #5d7ce6;\n",
       "            color:  #000000;\n",
       "        }    #T_e634378e_a006_11ea_90b8_0242ac1c0002row5_col7 {\n",
       "            background-color:  #7396f5;\n",
       "            color:  #000000;\n",
       "        }    #T_e634378e_a006_11ea_90b8_0242ac1c0002row5_col8 {\n",
       "            background-color:  #5f7fe8;\n",
       "            color:  #000000;\n",
       "        }    #T_e634378e_a006_11ea_90b8_0242ac1c0002row5_col9 {\n",
       "            background-color:  #b2ccfb;\n",
       "            color:  #000000;\n",
       "        }    #T_e634378e_a006_11ea_90b8_0242ac1c0002row5_col10 {\n",
       "            background-color:  #aec9fc;\n",
       "            color:  #000000;\n",
       "        }    #T_e634378e_a006_11ea_90b8_0242ac1c0002row5_col11 {\n",
       "            background-color:  #bcd2f7;\n",
       "            color:  #000000;\n",
       "        }    #T_e634378e_a006_11ea_90b8_0242ac1c0002row6_col0 {\n",
       "            background-color:  #445acc;\n",
       "            color:  #f1f1f1;\n",
       "        }    #T_e634378e_a006_11ea_90b8_0242ac1c0002row6_col1 {\n",
       "            background-color:  #a5c3fe;\n",
       "            color:  #000000;\n",
       "        }    #T_e634378e_a006_11ea_90b8_0242ac1c0002row6_col2 {\n",
       "            background-color:  #a9c6fd;\n",
       "            color:  #000000;\n",
       "        }    #T_e634378e_a006_11ea_90b8_0242ac1c0002row6_col3 {\n",
       "            background-color:  #94b6ff;\n",
       "            color:  #000000;\n",
       "        }    #T_e634378e_a006_11ea_90b8_0242ac1c0002row6_col4 {\n",
       "            background-color:  #93b5fe;\n",
       "            color:  #000000;\n",
       "        }    #T_e634378e_a006_11ea_90b8_0242ac1c0002row6_col5 {\n",
       "            background-color:  #5572df;\n",
       "            color:  #000000;\n",
       "        }    #T_e634378e_a006_11ea_90b8_0242ac1c0002row6_col6 {\n",
       "            background-color:  #b40426;\n",
       "            color:  #f1f1f1;\n",
       "        }    #T_e634378e_a006_11ea_90b8_0242ac1c0002row6_col7 {\n",
       "            background-color:  #a5c3fe;\n",
       "            color:  #000000;\n",
       "        }    #T_e634378e_a006_11ea_90b8_0242ac1c0002row6_col8 {\n",
       "            background-color:  #80a3fa;\n",
       "            color:  #000000;\n",
       "        }    #T_e634378e_a006_11ea_90b8_0242ac1c0002row6_col9 {\n",
       "            background-color:  #abc8fd;\n",
       "            color:  #000000;\n",
       "        }    #T_e634378e_a006_11ea_90b8_0242ac1c0002row6_col10 {\n",
       "            background-color:  #adc9fd;\n",
       "            color:  #000000;\n",
       "        }    #T_e634378e_a006_11ea_90b8_0242ac1c0002row6_col11 {\n",
       "            background-color:  #c5d6f2;\n",
       "            color:  #000000;\n",
       "        }    #T_e634378e_a006_11ea_90b8_0242ac1c0002row7_col0 {\n",
       "            background-color:  #465ecf;\n",
       "            color:  #f1f1f1;\n",
       "        }    #T_e634378e_a006_11ea_90b8_0242ac1c0002row7_col1 {\n",
       "            background-color:  #a2c1ff;\n",
       "            color:  #000000;\n",
       "        }    #T_e634378e_a006_11ea_90b8_0242ac1c0002row7_col2 {\n",
       "            background-color:  #aec9fc;\n",
       "            color:  #000000;\n",
       "        }    #T_e634378e_a006_11ea_90b8_0242ac1c0002row7_col3 {\n",
       "            background-color:  #94b6ff;\n",
       "            color:  #000000;\n",
       "        }    #T_e634378e_a006_11ea_90b8_0242ac1c0002row7_col4 {\n",
       "            background-color:  #8fb1fe;\n",
       "            color:  #000000;\n",
       "        }    #T_e634378e_a006_11ea_90b8_0242ac1c0002row7_col5 {\n",
       "            background-color:  #5f7fe8;\n",
       "            color:  #000000;\n",
       "        }    #T_e634378e_a006_11ea_90b8_0242ac1c0002row7_col6 {\n",
       "            background-color:  #9abbff;\n",
       "            color:  #000000;\n",
       "        }    #T_e634378e_a006_11ea_90b8_0242ac1c0002row7_col7 {\n",
       "            background-color:  #b40426;\n",
       "            color:  #f1f1f1;\n",
       "        }    #T_e634378e_a006_11ea_90b8_0242ac1c0002row7_col8 {\n",
       "            background-color:  #7699f6;\n",
       "            color:  #000000;\n",
       "        }    #T_e634378e_a006_11ea_90b8_0242ac1c0002row7_col9 {\n",
       "            background-color:  #a2c1ff;\n",
       "            color:  #000000;\n",
       "        }    #T_e634378e_a006_11ea_90b8_0242ac1c0002row7_col10 {\n",
       "            background-color:  #b2ccfb;\n",
       "            color:  #000000;\n",
       "        }    #T_e634378e_a006_11ea_90b8_0242ac1c0002row7_col11 {\n",
       "            background-color:  #ccd9ed;\n",
       "            color:  #000000;\n",
       "        }    #T_e634378e_a006_11ea_90b8_0242ac1c0002row8_col0 {\n",
       "            background-color:  #455cce;\n",
       "            color:  #f1f1f1;\n",
       "        }    #T_e634378e_a006_11ea_90b8_0242ac1c0002row8_col1 {\n",
       "            background-color:  #a3c2fe;\n",
       "            color:  #000000;\n",
       "        }    #T_e634378e_a006_11ea_90b8_0242ac1c0002row8_col2 {\n",
       "            background-color:  #a9c6fd;\n",
       "            color:  #000000;\n",
       "        }    #T_e634378e_a006_11ea_90b8_0242ac1c0002row8_col3 {\n",
       "            background-color:  #93b5fe;\n",
       "            color:  #000000;\n",
       "        }    #T_e634378e_a006_11ea_90b8_0242ac1c0002row8_col4 {\n",
       "            background-color:  #94b6ff;\n",
       "            color:  #000000;\n",
       "        }    #T_e634378e_a006_11ea_90b8_0242ac1c0002row8_col5 {\n",
       "            background-color:  #5a78e4;\n",
       "            color:  #000000;\n",
       "        }    #T_e634378e_a006_11ea_90b8_0242ac1c0002row8_col6 {\n",
       "            background-color:  #82a6fb;\n",
       "            color:  #000000;\n",
       "        }    #T_e634378e_a006_11ea_90b8_0242ac1c0002row8_col7 {\n",
       "            background-color:  #85a8fc;\n",
       "            color:  #000000;\n",
       "        }    #T_e634378e_a006_11ea_90b8_0242ac1c0002row8_col8 {\n",
       "            background-color:  #b40426;\n",
       "            color:  #f1f1f1;\n",
       "        }    #T_e634378e_a006_11ea_90b8_0242ac1c0002row8_col9 {\n",
       "            background-color:  #aec9fc;\n",
       "            color:  #000000;\n",
       "        }    #T_e634378e_a006_11ea_90b8_0242ac1c0002row8_col10 {\n",
       "            background-color:  #aec9fc;\n",
       "            color:  #000000;\n",
       "        }    #T_e634378e_a006_11ea_90b8_0242ac1c0002row8_col11 {\n",
       "            background-color:  #c1d4f4;\n",
       "            color:  #000000;\n",
       "        }    #T_e634378e_a006_11ea_90b8_0242ac1c0002row9_col0 {\n",
       "            background-color:  #3c4ec2;\n",
       "            color:  #f1f1f1;\n",
       "        }    #T_e634378e_a006_11ea_90b8_0242ac1c0002row9_col1 {\n",
       "            background-color:  #adc9fd;\n",
       "            color:  #000000;\n",
       "        }    #T_e634378e_a006_11ea_90b8_0242ac1c0002row9_col2 {\n",
       "            background-color:  #94b6ff;\n",
       "            color:  #000000;\n",
       "        }    #T_e634378e_a006_11ea_90b8_0242ac1c0002row9_col3 {\n",
       "            background-color:  #93b5fe;\n",
       "            color:  #000000;\n",
       "        }    #T_e634378e_a006_11ea_90b8_0242ac1c0002row9_col4 {\n",
       "            background-color:  #a1c0ff;\n",
       "            color:  #000000;\n",
       "        }    #T_e634378e_a006_11ea_90b8_0242ac1c0002row9_col5 {\n",
       "            background-color:  #3b4cc0;\n",
       "            color:  #f1f1f1;\n",
       "        }    #T_e634378e_a006_11ea_90b8_0242ac1c0002row9_col6 {\n",
       "            background-color:  #3b4cc0;\n",
       "            color:  #f1f1f1;\n",
       "        }    #T_e634378e_a006_11ea_90b8_0242ac1c0002row9_col7 {\n",
       "            background-color:  #3b4cc0;\n",
       "            color:  #f1f1f1;\n",
       "        }    #T_e634378e_a006_11ea_90b8_0242ac1c0002row9_col8 {\n",
       "            background-color:  #3b4cc0;\n",
       "            color:  #f1f1f1;\n",
       "        }    #T_e634378e_a006_11ea_90b8_0242ac1c0002row9_col9 {\n",
       "            background-color:  #b40426;\n",
       "            color:  #f1f1f1;\n",
       "        }    #T_e634378e_a006_11ea_90b8_0242ac1c0002row9_col10 {\n",
       "            background-color:  #3b4cc0;\n",
       "            color:  #f1f1f1;\n",
       "        }    #T_e634378e_a006_11ea_90b8_0242ac1c0002row9_col11 {\n",
       "            background-color:  #3b4cc0;\n",
       "            color:  #f1f1f1;\n",
       "        }    #T_e634378e_a006_11ea_90b8_0242ac1c0002row10_col0 {\n",
       "            background-color:  #4f69d9;\n",
       "            color:  #000000;\n",
       "        }    #T_e634378e_a006_11ea_90b8_0242ac1c0002row10_col1 {\n",
       "            background-color:  #9dbdff;\n",
       "            color:  #000000;\n",
       "        }    #T_e634378e_a006_11ea_90b8_0242ac1c0002row10_col2 {\n",
       "            background-color:  #aac7fd;\n",
       "            color:  #000000;\n",
       "        }    #T_e634378e_a006_11ea_90b8_0242ac1c0002row10_col3 {\n",
       "            background-color:  #9bbcff;\n",
       "            color:  #000000;\n",
       "        }    #T_e634378e_a006_11ea_90b8_0242ac1c0002row10_col4 {\n",
       "            background-color:  #94b6ff;\n",
       "            color:  #000000;\n",
       "        }    #T_e634378e_a006_11ea_90b8_0242ac1c0002row10_col5 {\n",
       "            background-color:  #4358cb;\n",
       "            color:  #f1f1f1;\n",
       "        }    #T_e634378e_a006_11ea_90b8_0242ac1c0002row10_col6 {\n",
       "            background-color:  #4a63d3;\n",
       "            color:  #f1f1f1;\n",
       "        }    #T_e634378e_a006_11ea_90b8_0242ac1c0002row10_col7 {\n",
       "            background-color:  #5e7de7;\n",
       "            color:  #000000;\n",
       "        }    #T_e634378e_a006_11ea_90b8_0242ac1c0002row10_col8 {\n",
       "            background-color:  #485fd1;\n",
       "            color:  #f1f1f1;\n",
       "        }    #T_e634378e_a006_11ea_90b8_0242ac1c0002row10_col9 {\n",
       "            background-color:  #4961d2;\n",
       "            color:  #f1f1f1;\n",
       "        }    #T_e634378e_a006_11ea_90b8_0242ac1c0002row10_col10 {\n",
       "            background-color:  #b40426;\n",
       "            color:  #f1f1f1;\n",
       "        }    #T_e634378e_a006_11ea_90b8_0242ac1c0002row10_col11 {\n",
       "            background-color:  #96b7ff;\n",
       "            color:  #000000;\n",
       "        }    #T_e634378e_a006_11ea_90b8_0242ac1c0002row11_col0 {\n",
       "            background-color:  #455cce;\n",
       "            color:  #f1f1f1;\n",
       "        }    #T_e634378e_a006_11ea_90b8_0242ac1c0002row11_col1 {\n",
       "            background-color:  #a3c2fe;\n",
       "            color:  #000000;\n",
       "        }    #T_e634378e_a006_11ea_90b8_0242ac1c0002row11_col2 {\n",
       "            background-color:  #b7cff9;\n",
       "            color:  #000000;\n",
       "        }    #T_e634378e_a006_11ea_90b8_0242ac1c0002row11_col3 {\n",
       "            background-color:  #89acfd;\n",
       "            color:  #000000;\n",
       "        }    #T_e634378e_a006_11ea_90b8_0242ac1c0002row11_col4 {\n",
       "            background-color:  #8caffe;\n",
       "            color:  #000000;\n",
       "        }    #T_e634378e_a006_11ea_90b8_0242ac1c0002row11_col5 {\n",
       "            background-color:  #4961d2;\n",
       "            color:  #f1f1f1;\n",
       "        }    #T_e634378e_a006_11ea_90b8_0242ac1c0002row11_col6 {\n",
       "            background-color:  #5e7de7;\n",
       "            color:  #000000;\n",
       "        }    #T_e634378e_a006_11ea_90b8_0242ac1c0002row11_col7 {\n",
       "            background-color:  #779af7;\n",
       "            color:  #000000;\n",
       "        }    #T_e634378e_a006_11ea_90b8_0242ac1c0002row11_col8 {\n",
       "            background-color:  #5572df;\n",
       "            color:  #000000;\n",
       "        }    #T_e634378e_a006_11ea_90b8_0242ac1c0002row11_col9 {\n",
       "            background-color:  #3b4cc0;\n",
       "            color:  #f1f1f1;\n",
       "        }    #T_e634378e_a006_11ea_90b8_0242ac1c0002row11_col10 {\n",
       "            background-color:  #88abfd;\n",
       "            color:  #000000;\n",
       "        }    #T_e634378e_a006_11ea_90b8_0242ac1c0002row11_col11 {\n",
       "            background-color:  #b40426;\n",
       "            color:  #f1f1f1;\n",
       "        }</style><table id=\"T_e634378e_a006_11ea_90b8_0242ac1c0002\" ><thead>    <tr>        <th class=\"blank level0\" ></th>        <th class=\"col_heading level0 col0\" >target</th>        <th class=\"col_heading level0 col1\" >ps_ind_06_bin</th>        <th class=\"col_heading level0 col2\" >ps_ind_07_bin</th>        <th class=\"col_heading level0 col3\" >ps_ind_08_bin</th>        <th class=\"col_heading level0 col4\" >ps_ind_09_bin</th>        <th class=\"col_heading level0 col5\" >ps_ind_10_bin</th>        <th class=\"col_heading level0 col6\" >ps_ind_11_bin</th>        <th class=\"col_heading level0 col7\" >ps_ind_12_bin</th>        <th class=\"col_heading level0 col8\" >ps_ind_13_bin</th>        <th class=\"col_heading level0 col9\" >ps_ind_16_bin</th>        <th class=\"col_heading level0 col10\" >ps_ind_17_bin</th>        <th class=\"col_heading level0 col11\" >ps_ind_18_bin</th>    </tr></thead><tbody>\n",
       "                <tr>\n",
       "                        <th id=\"T_e634378e_a006_11ea_90b8_0242ac1c0002level0_row0\" class=\"row_heading level0 row0\" >target</th>\n",
       "                        <td id=\"T_e634378e_a006_11ea_90b8_0242ac1c0002row0_col0\" class=\"data row0 col0\" >1.00</td>\n",
       "                        <td id=\"T_e634378e_a006_11ea_90b8_0242ac1c0002row0_col1\" class=\"data row0 col1\" >-0.03</td>\n",
       "                        <td id=\"T_e634378e_a006_11ea_90b8_0242ac1c0002row0_col2\" class=\"data row0 col2\" >0.03</td>\n",
       "                        <td id=\"T_e634378e_a006_11ea_90b8_0242ac1c0002row0_col3\" class=\"data row0 col3\" >0.01</td>\n",
       "                        <td id=\"T_e634378e_a006_11ea_90b8_0242ac1c0002row0_col4\" class=\"data row0 col4\" >-0.01</td>\n",
       "                        <td id=\"T_e634378e_a006_11ea_90b8_0242ac1c0002row0_col5\" class=\"data row0 col5\" >0.00</td>\n",
       "                        <td id=\"T_e634378e_a006_11ea_90b8_0242ac1c0002row0_col6\" class=\"data row0 col6\" >0.00</td>\n",
       "                        <td id=\"T_e634378e_a006_11ea_90b8_0242ac1c0002row0_col7\" class=\"data row0 col7\" >0.01</td>\n",
       "                        <td id=\"T_e634378e_a006_11ea_90b8_0242ac1c0002row0_col8\" class=\"data row0 col8\" >0.00</td>\n",
       "                        <td id=\"T_e634378e_a006_11ea_90b8_0242ac1c0002row0_col9\" class=\"data row0 col9\" >-0.03</td>\n",
       "                        <td id=\"T_e634378e_a006_11ea_90b8_0242ac1c0002row0_col10\" class=\"data row0 col10\" >0.04</td>\n",
       "                        <td id=\"T_e634378e_a006_11ea_90b8_0242ac1c0002row0_col11\" class=\"data row0 col11\" >0.00</td>\n",
       "            </tr>\n",
       "            <tr>\n",
       "                        <th id=\"T_e634378e_a006_11ea_90b8_0242ac1c0002level0_row1\" class=\"row_heading level0 row1\" >ps_ind_06_bin</th>\n",
       "                        <td id=\"T_e634378e_a006_11ea_90b8_0242ac1c0002row1_col0\" class=\"data row1 col0\" >-0.03</td>\n",
       "                        <td id=\"T_e634378e_a006_11ea_90b8_0242ac1c0002row1_col1\" class=\"data row1 col1\" >1.00</td>\n",
       "                        <td id=\"T_e634378e_a006_11ea_90b8_0242ac1c0002row1_col2\" class=\"data row1 col2\" >-0.47</td>\n",
       "                        <td id=\"T_e634378e_a006_11ea_90b8_0242ac1c0002row1_col3\" class=\"data row1 col3\" >-0.36</td>\n",
       "                        <td id=\"T_e634378e_a006_11ea_90b8_0242ac1c0002row1_col4\" class=\"data row1 col4\" >-0.38</td>\n",
       "                        <td id=\"T_e634378e_a006_11ea_90b8_0242ac1c0002row1_col5\" class=\"data row1 col5\" >-0.01</td>\n",
       "                        <td id=\"T_e634378e_a006_11ea_90b8_0242ac1c0002row1_col6\" class=\"data row1 col6\" >-0.01</td>\n",
       "                        <td id=\"T_e634378e_a006_11ea_90b8_0242ac1c0002row1_col7\" class=\"data row1 col7\" >-0.02</td>\n",
       "                        <td id=\"T_e634378e_a006_11ea_90b8_0242ac1c0002row1_col8\" class=\"data row1 col8\" >-0.01</td>\n",
       "                        <td id=\"T_e634378e_a006_11ea_90b8_0242ac1c0002row1_col9\" class=\"data row1 col9\" >0.03</td>\n",
       "                        <td id=\"T_e634378e_a006_11ea_90b8_0242ac1c0002row1_col10\" class=\"data row1 col10\" >-0.04</td>\n",
       "                        <td id=\"T_e634378e_a006_11ea_90b8_0242ac1c0002row1_col11\" class=\"data row1 col11\" >-0.01</td>\n",
       "            </tr>\n",
       "            <tr>\n",
       "                        <th id=\"T_e634378e_a006_11ea_90b8_0242ac1c0002level0_row2\" class=\"row_heading level0 row2\" >ps_ind_07_bin</th>\n",
       "                        <td id=\"T_e634378e_a006_11ea_90b8_0242ac1c0002row2_col0\" class=\"data row2 col0\" >0.03</td>\n",
       "                        <td id=\"T_e634378e_a006_11ea_90b8_0242ac1c0002row2_col1\" class=\"data row2 col1\" >-0.47</td>\n",
       "                        <td id=\"T_e634378e_a006_11ea_90b8_0242ac1c0002row2_col2\" class=\"data row2 col2\" >1.00</td>\n",
       "                        <td id=\"T_e634378e_a006_11ea_90b8_0242ac1c0002row2_col3\" class=\"data row2 col3\" >-0.26</td>\n",
       "                        <td id=\"T_e634378e_a006_11ea_90b8_0242ac1c0002row2_col4\" class=\"data row2 col4\" >-0.28</td>\n",
       "                        <td id=\"T_e634378e_a006_11ea_90b8_0242ac1c0002row2_col5\" class=\"data row2 col5\" >0.01</td>\n",
       "                        <td id=\"T_e634378e_a006_11ea_90b8_0242ac1c0002row2_col6\" class=\"data row2 col6\" >0.01</td>\n",
       "                        <td id=\"T_e634378e_a006_11ea_90b8_0242ac1c0002row2_col7\" class=\"data row2 col7\" >0.04</td>\n",
       "                        <td id=\"T_e634378e_a006_11ea_90b8_0242ac1c0002row2_col8\" class=\"data row2 col8\" >0.01</td>\n",
       "                        <td id=\"T_e634378e_a006_11ea_90b8_0242ac1c0002row2_col9\" class=\"data row2 col9\" >-0.07</td>\n",
       "                        <td id=\"T_e634378e_a006_11ea_90b8_0242ac1c0002row2_col10\" class=\"data row2 col10\" >0.02</td>\n",
       "                        <td id=\"T_e634378e_a006_11ea_90b8_0242ac1c0002row2_col11\" class=\"data row2 col11\" >0.08</td>\n",
       "            </tr>\n",
       "            <tr>\n",
       "                        <th id=\"T_e634378e_a006_11ea_90b8_0242ac1c0002level0_row3\" class=\"row_heading level0 row3\" >ps_ind_08_bin</th>\n",
       "                        <td id=\"T_e634378e_a006_11ea_90b8_0242ac1c0002row3_col0\" class=\"data row3 col0\" >0.01</td>\n",
       "                        <td id=\"T_e634378e_a006_11ea_90b8_0242ac1c0002row3_col1\" class=\"data row3 col1\" >-0.36</td>\n",
       "                        <td id=\"T_e634378e_a006_11ea_90b8_0242ac1c0002row3_col2\" class=\"data row3 col2\" >-0.26</td>\n",
       "                        <td id=\"T_e634378e_a006_11ea_90b8_0242ac1c0002row3_col3\" class=\"data row3 col3\" >1.00</td>\n",
       "                        <td id=\"T_e634378e_a006_11ea_90b8_0242ac1c0002row3_col4\" class=\"data row3 col4\" >-0.21</td>\n",
       "                        <td id=\"T_e634378e_a006_11ea_90b8_0242ac1c0002row3_col5\" class=\"data row3 col5\" >0.01</td>\n",
       "                        <td id=\"T_e634378e_a006_11ea_90b8_0242ac1c0002row3_col6\" class=\"data row3 col6\" >0.01</td>\n",
       "                        <td id=\"T_e634378e_a006_11ea_90b8_0242ac1c0002row3_col7\" class=\"data row3 col7\" >0.01</td>\n",
       "                        <td id=\"T_e634378e_a006_11ea_90b8_0242ac1c0002row3_col8\" class=\"data row3 col8\" >0.01</td>\n",
       "                        <td id=\"T_e634378e_a006_11ea_90b8_0242ac1c0002row3_col9\" class=\"data row3 col9\" >0.01</td>\n",
       "                        <td id=\"T_e634378e_a006_11ea_90b8_0242ac1c0002row3_col10\" class=\"data row3 col10\" >0.04</td>\n",
       "                        <td id=\"T_e634378e_a006_11ea_90b8_0242ac1c0002row3_col11\" class=\"data row3 col11\" >-0.03</td>\n",
       "            </tr>\n",
       "            <tr>\n",
       "                        <th id=\"T_e634378e_a006_11ea_90b8_0242ac1c0002level0_row4\" class=\"row_heading level0 row4\" >ps_ind_09_bin</th>\n",
       "                        <td id=\"T_e634378e_a006_11ea_90b8_0242ac1c0002row4_col0\" class=\"data row4 col0\" >-0.01</td>\n",
       "                        <td id=\"T_e634378e_a006_11ea_90b8_0242ac1c0002row4_col1\" class=\"data row4 col1\" >-0.38</td>\n",
       "                        <td id=\"T_e634378e_a006_11ea_90b8_0242ac1c0002row4_col2\" class=\"data row4 col2\" >-0.28</td>\n",
       "                        <td id=\"T_e634378e_a006_11ea_90b8_0242ac1c0002row4_col3\" class=\"data row4 col3\" >-0.21</td>\n",
       "                        <td id=\"T_e634378e_a006_11ea_90b8_0242ac1c0002row4_col4\" class=\"data row4 col4\" >1.00</td>\n",
       "                        <td id=\"T_e634378e_a006_11ea_90b8_0242ac1c0002row4_col5\" class=\"data row4 col5\" >-0.01</td>\n",
       "                        <td id=\"T_e634378e_a006_11ea_90b8_0242ac1c0002row4_col6\" class=\"data row4 col6\" >-0.01</td>\n",
       "                        <td id=\"T_e634378e_a006_11ea_90b8_0242ac1c0002row4_col7\" class=\"data row4 col7\" >-0.03</td>\n",
       "                        <td id=\"T_e634378e_a006_11ea_90b8_0242ac1c0002row4_col8\" class=\"data row4 col8\" >-0.01</td>\n",
       "                        <td id=\"T_e634378e_a006_11ea_90b8_0242ac1c0002row4_col9\" class=\"data row4 col9\" >0.04</td>\n",
       "                        <td id=\"T_e634378e_a006_11ea_90b8_0242ac1c0002row4_col10\" class=\"data row4 col10\" >-0.01</td>\n",
       "                        <td id=\"T_e634378e_a006_11ea_90b8_0242ac1c0002row4_col11\" class=\"data row4 col11\" >-0.04</td>\n",
       "            </tr>\n",
       "            <tr>\n",
       "                        <th id=\"T_e634378e_a006_11ea_90b8_0242ac1c0002level0_row5\" class=\"row_heading level0 row5\" >ps_ind_10_bin</th>\n",
       "                        <td id=\"T_e634378e_a006_11ea_90b8_0242ac1c0002row5_col0\" class=\"data row5 col0\" >0.00</td>\n",
       "                        <td id=\"T_e634378e_a006_11ea_90b8_0242ac1c0002row5_col1\" class=\"data row5 col1\" >-0.01</td>\n",
       "                        <td id=\"T_e634378e_a006_11ea_90b8_0242ac1c0002row5_col2\" class=\"data row5 col2\" >0.01</td>\n",
       "                        <td id=\"T_e634378e_a006_11ea_90b8_0242ac1c0002row5_col3\" class=\"data row5 col3\" >0.01</td>\n",
       "                        <td id=\"T_e634378e_a006_11ea_90b8_0242ac1c0002row5_col4\" class=\"data row5 col4\" >-0.01</td>\n",
       "                        <td id=\"T_e634378e_a006_11ea_90b8_0242ac1c0002row5_col5\" class=\"data row5 col5\" >1.00</td>\n",
       "                        <td id=\"T_e634378e_a006_11ea_90b8_0242ac1c0002row5_col6\" class=\"data row5 col6\" >0.06</td>\n",
       "                        <td id=\"T_e634378e_a006_11ea_90b8_0242ac1c0002row5_col7\" class=\"data row5 col7\" >0.10</td>\n",
       "                        <td id=\"T_e634378e_a006_11ea_90b8_0242ac1c0002row5_col8\" class=\"data row5 col8\" >0.08</td>\n",
       "                        <td id=\"T_e634378e_a006_11ea_90b8_0242ac1c0002row5_col9\" class=\"data row5 col9\" >-0.02</td>\n",
       "                        <td id=\"T_e634378e_a006_11ea_90b8_0242ac1c0002row5_col10\" class=\"data row5 col10\" >0.01</td>\n",
       "                        <td id=\"T_e634378e_a006_11ea_90b8_0242ac1c0002row5_col11\" class=\"data row5 col11\" >0.03</td>\n",
       "            </tr>\n",
       "            <tr>\n",
       "                        <th id=\"T_e634378e_a006_11ea_90b8_0242ac1c0002level0_row6\" class=\"row_heading level0 row6\" >ps_ind_11_bin</th>\n",
       "                        <td id=\"T_e634378e_a006_11ea_90b8_0242ac1c0002row6_col0\" class=\"data row6 col0\" >0.00</td>\n",
       "                        <td id=\"T_e634378e_a006_11ea_90b8_0242ac1c0002row6_col1\" class=\"data row6 col1\" >-0.01</td>\n",
       "                        <td id=\"T_e634378e_a006_11ea_90b8_0242ac1c0002row6_col2\" class=\"data row6 col2\" >0.01</td>\n",
       "                        <td id=\"T_e634378e_a006_11ea_90b8_0242ac1c0002row6_col3\" class=\"data row6 col3\" >0.01</td>\n",
       "                        <td id=\"T_e634378e_a006_11ea_90b8_0242ac1c0002row6_col4\" class=\"data row6 col4\" >-0.01</td>\n",
       "                        <td id=\"T_e634378e_a006_11ea_90b8_0242ac1c0002row6_col5\" class=\"data row6 col5\" >0.06</td>\n",
       "                        <td id=\"T_e634378e_a006_11ea_90b8_0242ac1c0002row6_col6\" class=\"data row6 col6\" >1.00</td>\n",
       "                        <td id=\"T_e634378e_a006_11ea_90b8_0242ac1c0002row6_col7\" class=\"data row6 col7\" >0.25</td>\n",
       "                        <td id=\"T_e634378e_a006_11ea_90b8_0242ac1c0002row6_col8\" class=\"data row6 col8\" >0.18</td>\n",
       "                        <td id=\"T_e634378e_a006_11ea_90b8_0242ac1c0002row6_col9\" class=\"data row6 col9\" >-0.05</td>\n",
       "                        <td id=\"T_e634378e_a006_11ea_90b8_0242ac1c0002row6_col10\" class=\"data row6 col10\" >0.00</td>\n",
       "                        <td id=\"T_e634378e_a006_11ea_90b8_0242ac1c0002row6_col11\" class=\"data row6 col11\" >0.07</td>\n",
       "            </tr>\n",
       "            <tr>\n",
       "                        <th id=\"T_e634378e_a006_11ea_90b8_0242ac1c0002level0_row7\" class=\"row_heading level0 row7\" >ps_ind_12_bin</th>\n",
       "                        <td id=\"T_e634378e_a006_11ea_90b8_0242ac1c0002row7_col0\" class=\"data row7 col0\" >0.01</td>\n",
       "                        <td id=\"T_e634378e_a006_11ea_90b8_0242ac1c0002row7_col1\" class=\"data row7 col1\" >-0.02</td>\n",
       "                        <td id=\"T_e634378e_a006_11ea_90b8_0242ac1c0002row7_col2\" class=\"data row7 col2\" >0.04</td>\n",
       "                        <td id=\"T_e634378e_a006_11ea_90b8_0242ac1c0002row7_col3\" class=\"data row7 col3\" >0.01</td>\n",
       "                        <td id=\"T_e634378e_a006_11ea_90b8_0242ac1c0002row7_col4\" class=\"data row7 col4\" >-0.03</td>\n",
       "                        <td id=\"T_e634378e_a006_11ea_90b8_0242ac1c0002row7_col5\" class=\"data row7 col5\" >0.10</td>\n",
       "                        <td id=\"T_e634378e_a006_11ea_90b8_0242ac1c0002row7_col6\" class=\"data row7 col6\" >0.25</td>\n",
       "                        <td id=\"T_e634378e_a006_11ea_90b8_0242ac1c0002row7_col7\" class=\"data row7 col7\" >1.00</td>\n",
       "                        <td id=\"T_e634378e_a006_11ea_90b8_0242ac1c0002row7_col8\" class=\"data row7 col8\" >0.15</td>\n",
       "                        <td id=\"T_e634378e_a006_11ea_90b8_0242ac1c0002row7_col9\" class=\"data row7 col9\" >-0.10</td>\n",
       "                        <td id=\"T_e634378e_a006_11ea_90b8_0242ac1c0002row7_col10\" class=\"data row7 col10\" >0.03</td>\n",
       "                        <td id=\"T_e634378e_a006_11ea_90b8_0242ac1c0002row7_col11\" class=\"data row7 col11\" >0.11</td>\n",
       "            </tr>\n",
       "            <tr>\n",
       "                        <th id=\"T_e634378e_a006_11ea_90b8_0242ac1c0002level0_row8\" class=\"row_heading level0 row8\" >ps_ind_13_bin</th>\n",
       "                        <td id=\"T_e634378e_a006_11ea_90b8_0242ac1c0002row8_col0\" class=\"data row8 col0\" >0.00</td>\n",
       "                        <td id=\"T_e634378e_a006_11ea_90b8_0242ac1c0002row8_col1\" class=\"data row8 col1\" >-0.01</td>\n",
       "                        <td id=\"T_e634378e_a006_11ea_90b8_0242ac1c0002row8_col2\" class=\"data row8 col2\" >0.01</td>\n",
       "                        <td id=\"T_e634378e_a006_11ea_90b8_0242ac1c0002row8_col3\" class=\"data row8 col3\" >0.01</td>\n",
       "                        <td id=\"T_e634378e_a006_11ea_90b8_0242ac1c0002row8_col4\" class=\"data row8 col4\" >-0.01</td>\n",
       "                        <td id=\"T_e634378e_a006_11ea_90b8_0242ac1c0002row8_col5\" class=\"data row8 col5\" >0.08</td>\n",
       "                        <td id=\"T_e634378e_a006_11ea_90b8_0242ac1c0002row8_col6\" class=\"data row8 col6\" >0.18</td>\n",
       "                        <td id=\"T_e634378e_a006_11ea_90b8_0242ac1c0002row8_col7\" class=\"data row8 col7\" >0.15</td>\n",
       "                        <td id=\"T_e634378e_a006_11ea_90b8_0242ac1c0002row8_col8\" class=\"data row8 col8\" >1.00</td>\n",
       "                        <td id=\"T_e634378e_a006_11ea_90b8_0242ac1c0002row8_col9\" class=\"data row8 col9\" >-0.04</td>\n",
       "                        <td id=\"T_e634378e_a006_11ea_90b8_0242ac1c0002row8_col10\" class=\"data row8 col10\" >0.00</td>\n",
       "                        <td id=\"T_e634378e_a006_11ea_90b8_0242ac1c0002row8_col11\" class=\"data row8 col11\" >0.05</td>\n",
       "            </tr>\n",
       "            <tr>\n",
       "                        <th id=\"T_e634378e_a006_11ea_90b8_0242ac1c0002level0_row9\" class=\"row_heading level0 row9\" >ps_ind_16_bin</th>\n",
       "                        <td id=\"T_e634378e_a006_11ea_90b8_0242ac1c0002row9_col0\" class=\"data row9 col0\" >-0.03</td>\n",
       "                        <td id=\"T_e634378e_a006_11ea_90b8_0242ac1c0002row9_col1\" class=\"data row9 col1\" >0.03</td>\n",
       "                        <td id=\"T_e634378e_a006_11ea_90b8_0242ac1c0002row9_col2\" class=\"data row9 col2\" >-0.07</td>\n",
       "                        <td id=\"T_e634378e_a006_11ea_90b8_0242ac1c0002row9_col3\" class=\"data row9 col3\" >0.01</td>\n",
       "                        <td id=\"T_e634378e_a006_11ea_90b8_0242ac1c0002row9_col4\" class=\"data row9 col4\" >0.04</td>\n",
       "                        <td id=\"T_e634378e_a006_11ea_90b8_0242ac1c0002row9_col5\" class=\"data row9 col5\" >-0.02</td>\n",
       "                        <td id=\"T_e634378e_a006_11ea_90b8_0242ac1c0002row9_col6\" class=\"data row9 col6\" >-0.05</td>\n",
       "                        <td id=\"T_e634378e_a006_11ea_90b8_0242ac1c0002row9_col7\" class=\"data row9 col7\" >-0.10</td>\n",
       "                        <td id=\"T_e634378e_a006_11ea_90b8_0242ac1c0002row9_col8\" class=\"data row9 col8\" >-0.04</td>\n",
       "                        <td id=\"T_e634378e_a006_11ea_90b8_0242ac1c0002row9_col9\" class=\"data row9 col9\" >1.00</td>\n",
       "                        <td id=\"T_e634378e_a006_11ea_90b8_0242ac1c0002row9_col10\" class=\"data row9 col10\" >-0.52</td>\n",
       "                        <td id=\"T_e634378e_a006_11ea_90b8_0242ac1c0002row9_col11\" class=\"data row9 col11\" >-0.59</td>\n",
       "            </tr>\n",
       "            <tr>\n",
       "                        <th id=\"T_e634378e_a006_11ea_90b8_0242ac1c0002level0_row10\" class=\"row_heading level0 row10\" >ps_ind_17_bin</th>\n",
       "                        <td id=\"T_e634378e_a006_11ea_90b8_0242ac1c0002row10_col0\" class=\"data row10 col0\" >0.04</td>\n",
       "                        <td id=\"T_e634378e_a006_11ea_90b8_0242ac1c0002row10_col1\" class=\"data row10 col1\" >-0.04</td>\n",
       "                        <td id=\"T_e634378e_a006_11ea_90b8_0242ac1c0002row10_col2\" class=\"data row10 col2\" >0.02</td>\n",
       "                        <td id=\"T_e634378e_a006_11ea_90b8_0242ac1c0002row10_col3\" class=\"data row10 col3\" >0.04</td>\n",
       "                        <td id=\"T_e634378e_a006_11ea_90b8_0242ac1c0002row10_col4\" class=\"data row10 col4\" >-0.01</td>\n",
       "                        <td id=\"T_e634378e_a006_11ea_90b8_0242ac1c0002row10_col5\" class=\"data row10 col5\" >0.01</td>\n",
       "                        <td id=\"T_e634378e_a006_11ea_90b8_0242ac1c0002row10_col6\" class=\"data row10 col6\" >0.00</td>\n",
       "                        <td id=\"T_e634378e_a006_11ea_90b8_0242ac1c0002row10_col7\" class=\"data row10 col7\" >0.03</td>\n",
       "                        <td id=\"T_e634378e_a006_11ea_90b8_0242ac1c0002row10_col8\" class=\"data row10 col8\" >0.00</td>\n",
       "                        <td id=\"T_e634378e_a006_11ea_90b8_0242ac1c0002row10_col9\" class=\"data row10 col9\" >-0.52</td>\n",
       "                        <td id=\"T_e634378e_a006_11ea_90b8_0242ac1c0002row10_col10\" class=\"data row10 col10\" >1.00</td>\n",
       "                        <td id=\"T_e634378e_a006_11ea_90b8_0242ac1c0002row10_col11\" class=\"data row10 col11\" >-0.16</td>\n",
       "            </tr>\n",
       "            <tr>\n",
       "                        <th id=\"T_e634378e_a006_11ea_90b8_0242ac1c0002level0_row11\" class=\"row_heading level0 row11\" >ps_ind_18_bin</th>\n",
       "                        <td id=\"T_e634378e_a006_11ea_90b8_0242ac1c0002row11_col0\" class=\"data row11 col0\" >0.00</td>\n",
       "                        <td id=\"T_e634378e_a006_11ea_90b8_0242ac1c0002row11_col1\" class=\"data row11 col1\" >-0.01</td>\n",
       "                        <td id=\"T_e634378e_a006_11ea_90b8_0242ac1c0002row11_col2\" class=\"data row11 col2\" >0.08</td>\n",
       "                        <td id=\"T_e634378e_a006_11ea_90b8_0242ac1c0002row11_col3\" class=\"data row11 col3\" >-0.03</td>\n",
       "                        <td id=\"T_e634378e_a006_11ea_90b8_0242ac1c0002row11_col4\" class=\"data row11 col4\" >-0.04</td>\n",
       "                        <td id=\"T_e634378e_a006_11ea_90b8_0242ac1c0002row11_col5\" class=\"data row11 col5\" >0.03</td>\n",
       "                        <td id=\"T_e634378e_a006_11ea_90b8_0242ac1c0002row11_col6\" class=\"data row11 col6\" >0.07</td>\n",
       "                        <td id=\"T_e634378e_a006_11ea_90b8_0242ac1c0002row11_col7\" class=\"data row11 col7\" >0.11</td>\n",
       "                        <td id=\"T_e634378e_a006_11ea_90b8_0242ac1c0002row11_col8\" class=\"data row11 col8\" >0.05</td>\n",
       "                        <td id=\"T_e634378e_a006_11ea_90b8_0242ac1c0002row11_col9\" class=\"data row11 col9\" >-0.59</td>\n",
       "                        <td id=\"T_e634378e_a006_11ea_90b8_0242ac1c0002row11_col10\" class=\"data row11 col10\" >-0.16</td>\n",
       "                        <td id=\"T_e634378e_a006_11ea_90b8_0242ac1c0002row11_col11\" class=\"data row11 col11\" >1.00</td>\n",
       "            </tr>\n",
       "    </tbody></table>"
      ],
      "text/plain": [
       "<pandas.io.formats.style.Styler at 0x7f14e3960fd0>"
      ]
     },
     "execution_count": 65,
     "metadata": {
      "tags": []
     },
     "output_type": "execute_result"
    }
   ],
   "source": [
    "# BINARY\n",
    "corr3=data2[['target','ps_ind_06_bin','ps_ind_07_bin','ps_ind_08_bin','ps_ind_09_bin',\n",
    "             'ps_ind_10_bin','ps_ind_11_bin','ps_ind_12_bin','ps_ind_13_bin','ps_ind_16_bin','ps_ind_17_bin','ps_ind_18_bin']].corr()\n",
    "corr3.style.background_gradient(cmap='coolwarm').set_precision(2)"
   ]
  },
  {
   "cell_type": "markdown",
   "metadata": {
    "colab_type": "text",
    "id": "0918TLyQQaqX"
   },
   "source": [
    "- In binary features **ps_ind_07_bin** showing negative correlation with **ps_ind_06_bin**.\n",
    "- **ps_ind_08_bin and 09_bin** showing negative correlation with **ps_ind_06_bin,07_bin & 08_bin**.\n",
    "- **ps_ind_18_bin and ps_ind_17_bin** showing maximum correlation with **ps_ind_16_bin**."
   ]
  },
  {
   "cell_type": "code",
   "execution_count": 66,
   "metadata": {
    "colab": {
     "base_uri": "https://localhost:8080/",
     "height": 333
    },
    "colab_type": "code",
    "id": "ZfP4O7HcADer",
    "outputId": "84065365-1536-4921-89af-af530862d573"
   },
   "outputs": [
    {
     "data": {
      "text/html": [
       "<style  type=\"text/css\" >\n",
       "    #T_e7252806_a006_11ea_90b8_0242ac1c0002row0_col0 {\n",
       "            background-color:  #b40426;\n",
       "            color:  #f1f1f1;\n",
       "        }    #T_e7252806_a006_11ea_90b8_0242ac1c0002row0_col1 {\n",
       "            background-color:  #506bda;\n",
       "            color:  #000000;\n",
       "        }    #T_e7252806_a006_11ea_90b8_0242ac1c0002row0_col2 {\n",
       "            background-color:  #4a63d3;\n",
       "            color:  #f1f1f1;\n",
       "        }    #T_e7252806_a006_11ea_90b8_0242ac1c0002row0_col3 {\n",
       "            background-color:  #4e68d8;\n",
       "            color:  #000000;\n",
       "        }    #T_e7252806_a006_11ea_90b8_0242ac1c0002row0_col4 {\n",
       "            background-color:  #688aef;\n",
       "            color:  #000000;\n",
       "        }    #T_e7252806_a006_11ea_90b8_0242ac1c0002row0_col5 {\n",
       "            background-color:  #779af7;\n",
       "            color:  #000000;\n",
       "        }    #T_e7252806_a006_11ea_90b8_0242ac1c0002row0_col6 {\n",
       "            background-color:  #89acfd;\n",
       "            color:  #000000;\n",
       "        }    #T_e7252806_a006_11ea_90b8_0242ac1c0002row0_col7 {\n",
       "            background-color:  #80a3fa;\n",
       "            color:  #000000;\n",
       "        }    #T_e7252806_a006_11ea_90b8_0242ac1c0002row0_col8 {\n",
       "            background-color:  #4257c9;\n",
       "            color:  #f1f1f1;\n",
       "        }    #T_e7252806_a006_11ea_90b8_0242ac1c0002row0_col9 {\n",
       "            background-color:  #455cce;\n",
       "            color:  #f1f1f1;\n",
       "        }    #T_e7252806_a006_11ea_90b8_0242ac1c0002row0_col10 {\n",
       "            background-color:  #485fd1;\n",
       "            color:  #f1f1f1;\n",
       "        }    #T_e7252806_a006_11ea_90b8_0242ac1c0002row0_col11 {\n",
       "            background-color:  #445acc;\n",
       "            color:  #f1f1f1;\n",
       "        }    #T_e7252806_a006_11ea_90b8_0242ac1c0002row0_col12 {\n",
       "            background-color:  #455cce;\n",
       "            color:  #f1f1f1;\n",
       "        }    #T_e7252806_a006_11ea_90b8_0242ac1c0002row1_col0 {\n",
       "            background-color:  #445acc;\n",
       "            color:  #f1f1f1;\n",
       "        }    #T_e7252806_a006_11ea_90b8_0242ac1c0002row1_col1 {\n",
       "            background-color:  #b40426;\n",
       "            color:  #f1f1f1;\n",
       "        }    #T_e7252806_a006_11ea_90b8_0242ac1c0002row1_col2 {\n",
       "            background-color:  #7699f6;\n",
       "            color:  #000000;\n",
       "        }    #T_e7252806_a006_11ea_90b8_0242ac1c0002row1_col3 {\n",
       "            background-color:  #4257c9;\n",
       "            color:  #f1f1f1;\n",
       "        }    #T_e7252806_a006_11ea_90b8_0242ac1c0002row1_col4 {\n",
       "            background-color:  #6485ec;\n",
       "            color:  #000000;\n",
       "        }    #T_e7252806_a006_11ea_90b8_0242ac1c0002row1_col5 {\n",
       "            background-color:  #8db0fe;\n",
       "            color:  #000000;\n",
       "        }    #T_e7252806_a006_11ea_90b8_0242ac1c0002row1_col6 {\n",
       "            background-color:  #6c8ff1;\n",
       "            color:  #000000;\n",
       "        }    #T_e7252806_a006_11ea_90b8_0242ac1c0002row1_col7 {\n",
       "            background-color:  #779af7;\n",
       "            color:  #000000;\n",
       "        }    #T_e7252806_a006_11ea_90b8_0242ac1c0002row1_col8 {\n",
       "            background-color:  #4e68d8;\n",
       "            color:  #000000;\n",
       "        }    #T_e7252806_a006_11ea_90b8_0242ac1c0002row1_col9 {\n",
       "            background-color:  #4b64d5;\n",
       "            color:  #f1f1f1;\n",
       "        }    #T_e7252806_a006_11ea_90b8_0242ac1c0002row1_col10 {\n",
       "            background-color:  #4961d2;\n",
       "            color:  #f1f1f1;\n",
       "        }    #T_e7252806_a006_11ea_90b8_0242ac1c0002row1_col11 {\n",
       "            background-color:  #465ecf;\n",
       "            color:  #f1f1f1;\n",
       "        }    #T_e7252806_a006_11ea_90b8_0242ac1c0002row1_col12 {\n",
       "            background-color:  #485fd1;\n",
       "            color:  #f1f1f1;\n",
       "        }    #T_e7252806_a006_11ea_90b8_0242ac1c0002row2_col0 {\n",
       "            background-color:  #465ecf;\n",
       "            color:  #f1f1f1;\n",
       "        }    #T_e7252806_a006_11ea_90b8_0242ac1c0002row2_col1 {\n",
       "            background-color:  #7da0f9;\n",
       "            color:  #000000;\n",
       "        }    #T_e7252806_a006_11ea_90b8_0242ac1c0002row2_col2 {\n",
       "            background-color:  #b40426;\n",
       "            color:  #f1f1f1;\n",
       "        }    #T_e7252806_a006_11ea_90b8_0242ac1c0002row2_col3 {\n",
       "            background-color:  #485fd1;\n",
       "            color:  #f1f1f1;\n",
       "        }    #T_e7252806_a006_11ea_90b8_0242ac1c0002row2_col4 {\n",
       "            background-color:  #6c8ff1;\n",
       "            color:  #000000;\n",
       "        }    #T_e7252806_a006_11ea_90b8_0242ac1c0002row2_col5 {\n",
       "            background-color:  #81a4fb;\n",
       "            color:  #000000;\n",
       "        }    #T_e7252806_a006_11ea_90b8_0242ac1c0002row2_col6 {\n",
       "            background-color:  #7396f5;\n",
       "            color:  #000000;\n",
       "        }    #T_e7252806_a006_11ea_90b8_0242ac1c0002row2_col7 {\n",
       "            background-color:  #82a6fb;\n",
       "            color:  #000000;\n",
       "        }    #T_e7252806_a006_11ea_90b8_0242ac1c0002row2_col8 {\n",
       "            background-color:  #5f7fe8;\n",
       "            color:  #000000;\n",
       "        }    #T_e7252806_a006_11ea_90b8_0242ac1c0002row2_col9 {\n",
       "            background-color:  #4961d2;\n",
       "            color:  #f1f1f1;\n",
       "        }    #T_e7252806_a006_11ea_90b8_0242ac1c0002row2_col10 {\n",
       "            background-color:  #3b4cc0;\n",
       "            color:  #f1f1f1;\n",
       "        }    #T_e7252806_a006_11ea_90b8_0242ac1c0002row2_col11 {\n",
       "            background-color:  #4a63d3;\n",
       "            color:  #f1f1f1;\n",
       "        }    #T_e7252806_a006_11ea_90b8_0242ac1c0002row2_col12 {\n",
       "            background-color:  #4358cb;\n",
       "            color:  #f1f1f1;\n",
       "        }    #T_e7252806_a006_11ea_90b8_0242ac1c0002row3_col0 {\n",
       "            background-color:  #4c66d6;\n",
       "            color:  #000000;\n",
       "        }    #T_e7252806_a006_11ea_90b8_0242ac1c0002row3_col1 {\n",
       "            background-color:  #4b64d5;\n",
       "            color:  #f1f1f1;\n",
       "        }    #T_e7252806_a006_11ea_90b8_0242ac1c0002row3_col2 {\n",
       "            background-color:  #4b64d5;\n",
       "            color:  #f1f1f1;\n",
       "        }    #T_e7252806_a006_11ea_90b8_0242ac1c0002row3_col3 {\n",
       "            background-color:  #b40426;\n",
       "            color:  #f1f1f1;\n",
       "        }    #T_e7252806_a006_11ea_90b8_0242ac1c0002row3_col4 {\n",
       "            background-color:  #5a78e4;\n",
       "            color:  #000000;\n",
       "        }    #T_e7252806_a006_11ea_90b8_0242ac1c0002row3_col5 {\n",
       "            background-color:  #84a7fc;\n",
       "            color:  #000000;\n",
       "        }    #T_e7252806_a006_11ea_90b8_0242ac1c0002row3_col6 {\n",
       "            background-color:  #7da0f9;\n",
       "            color:  #000000;\n",
       "        }    #T_e7252806_a006_11ea_90b8_0242ac1c0002row3_col7 {\n",
       "            background-color:  #7a9df8;\n",
       "            color:  #000000;\n",
       "        }    #T_e7252806_a006_11ea_90b8_0242ac1c0002row3_col8 {\n",
       "            background-color:  #485fd1;\n",
       "            color:  #f1f1f1;\n",
       "        }    #T_e7252806_a006_11ea_90b8_0242ac1c0002row3_col9 {\n",
       "            background-color:  #4a63d3;\n",
       "            color:  #f1f1f1;\n",
       "        }    #T_e7252806_a006_11ea_90b8_0242ac1c0002row3_col10 {\n",
       "            background-color:  #455cce;\n",
       "            color:  #f1f1f1;\n",
       "        }    #T_e7252806_a006_11ea_90b8_0242ac1c0002row3_col11 {\n",
       "            background-color:  #445acc;\n",
       "            color:  #f1f1f1;\n",
       "        }    #T_e7252806_a006_11ea_90b8_0242ac1c0002row3_col12 {\n",
       "            background-color:  #4358cb;\n",
       "            color:  #f1f1f1;\n",
       "        }    #T_e7252806_a006_11ea_90b8_0242ac1c0002row4_col0 {\n",
       "            background-color:  #485fd1;\n",
       "            color:  #f1f1f1;\n",
       "        }    #T_e7252806_a006_11ea_90b8_0242ac1c0002row4_col1 {\n",
       "            background-color:  #4f69d9;\n",
       "            color:  #000000;\n",
       "        }    #T_e7252806_a006_11ea_90b8_0242ac1c0002row4_col2 {\n",
       "            background-color:  #506bda;\n",
       "            color:  #000000;\n",
       "        }    #T_e7252806_a006_11ea_90b8_0242ac1c0002row4_col3 {\n",
       "            background-color:  #3b4cc0;\n",
       "            color:  #f1f1f1;\n",
       "        }    #T_e7252806_a006_11ea_90b8_0242ac1c0002row4_col4 {\n",
       "            background-color:  #b40426;\n",
       "            color:  #f1f1f1;\n",
       "        }    #T_e7252806_a006_11ea_90b8_0242ac1c0002row4_col5 {\n",
       "            background-color:  #5875e1;\n",
       "            color:  #000000;\n",
       "        }    #T_e7252806_a006_11ea_90b8_0242ac1c0002row4_col6 {\n",
       "            background-color:  #93b5fe;\n",
       "            color:  #000000;\n",
       "        }    #T_e7252806_a006_11ea_90b8_0242ac1c0002row4_col7 {\n",
       "            background-color:  #8badfd;\n",
       "            color:  #000000;\n",
       "        }    #T_e7252806_a006_11ea_90b8_0242ac1c0002row4_col8 {\n",
       "            background-color:  #5e7de7;\n",
       "            color:  #000000;\n",
       "        }    #T_e7252806_a006_11ea_90b8_0242ac1c0002row4_col9 {\n",
       "            background-color:  #3b4cc0;\n",
       "            color:  #f1f1f1;\n",
       "        }    #T_e7252806_a006_11ea_90b8_0242ac1c0002row4_col10 {\n",
       "            background-color:  #9fbfff;\n",
       "            color:  #000000;\n",
       "        }    #T_e7252806_a006_11ea_90b8_0242ac1c0002row4_col11 {\n",
       "            background-color:  #455cce;\n",
       "            color:  #f1f1f1;\n",
       "        }    #T_e7252806_a006_11ea_90b8_0242ac1c0002row4_col12 {\n",
       "            background-color:  #465ecf;\n",
       "            color:  #f1f1f1;\n",
       "        }    #T_e7252806_a006_11ea_90b8_0242ac1c0002row5_col0 {\n",
       "            background-color:  #3b4cc0;\n",
       "            color:  #f1f1f1;\n",
       "        }    #T_e7252806_a006_11ea_90b8_0242ac1c0002row5_col1 {\n",
       "            background-color:  #5d7ce6;\n",
       "            color:  #000000;\n",
       "        }    #T_e7252806_a006_11ea_90b8_0242ac1c0002row5_col2 {\n",
       "            background-color:  #485fd1;\n",
       "            color:  #f1f1f1;\n",
       "        }    #T_e7252806_a006_11ea_90b8_0242ac1c0002row5_col3 {\n",
       "            background-color:  #4961d2;\n",
       "            color:  #f1f1f1;\n",
       "        }    #T_e7252806_a006_11ea_90b8_0242ac1c0002row5_col4 {\n",
       "            background-color:  #3b4cc0;\n",
       "            color:  #f1f1f1;\n",
       "        }    #T_e7252806_a006_11ea_90b8_0242ac1c0002row5_col5 {\n",
       "            background-color:  #b40426;\n",
       "            color:  #f1f1f1;\n",
       "        }    #T_e7252806_a006_11ea_90b8_0242ac1c0002row5_col6 {\n",
       "            background-color:  #3b4cc0;\n",
       "            color:  #f1f1f1;\n",
       "        }    #T_e7252806_a006_11ea_90b8_0242ac1c0002row5_col7 {\n",
       "            background-color:  #3b4cc0;\n",
       "            color:  #f1f1f1;\n",
       "        }    #T_e7252806_a006_11ea_90b8_0242ac1c0002row5_col8 {\n",
       "            background-color:  #4257c9;\n",
       "            color:  #f1f1f1;\n",
       "        }    #T_e7252806_a006_11ea_90b8_0242ac1c0002row5_col9 {\n",
       "            background-color:  #5673e0;\n",
       "            color:  #000000;\n",
       "        }    #T_e7252806_a006_11ea_90b8_0242ac1c0002row5_col10 {\n",
       "            background-color:  #4358cb;\n",
       "            color:  #f1f1f1;\n",
       "        }    #T_e7252806_a006_11ea_90b8_0242ac1c0002row5_col11 {\n",
       "            background-color:  #3d50c3;\n",
       "            color:  #f1f1f1;\n",
       "        }    #T_e7252806_a006_11ea_90b8_0242ac1c0002row5_col12 {\n",
       "            background-color:  #4358cb;\n",
       "            color:  #f1f1f1;\n",
       "        }    #T_e7252806_a006_11ea_90b8_0242ac1c0002row6_col0 {\n",
       "            background-color:  #4c66d6;\n",
       "            color:  #000000;\n",
       "        }    #T_e7252806_a006_11ea_90b8_0242ac1c0002row6_col1 {\n",
       "            background-color:  #3b4cc0;\n",
       "            color:  #f1f1f1;\n",
       "        }    #T_e7252806_a006_11ea_90b8_0242ac1c0002row6_col2 {\n",
       "            background-color:  #3b4cc0;\n",
       "            color:  #f1f1f1;\n",
       "        }    #T_e7252806_a006_11ea_90b8_0242ac1c0002row6_col3 {\n",
       "            background-color:  #4055c8;\n",
       "            color:  #f1f1f1;\n",
       "        }    #T_e7252806_a006_11ea_90b8_0242ac1c0002row6_col4 {\n",
       "            background-color:  #779af7;\n",
       "            color:  #000000;\n",
       "        }    #T_e7252806_a006_11ea_90b8_0242ac1c0002row6_col5 {\n",
       "            background-color:  #3b4cc0;\n",
       "            color:  #f1f1f1;\n",
       "        }    #T_e7252806_a006_11ea_90b8_0242ac1c0002row6_col6 {\n",
       "            background-color:  #b40426;\n",
       "            color:  #f1f1f1;\n",
       "        }    #T_e7252806_a006_11ea_90b8_0242ac1c0002row6_col7 {\n",
       "            background-color:  #b2ccfb;\n",
       "            color:  #000000;\n",
       "        }    #T_e7252806_a006_11ea_90b8_0242ac1c0002row6_col8 {\n",
       "            background-color:  #3b4cc0;\n",
       "            color:  #f1f1f1;\n",
       "        }    #T_e7252806_a006_11ea_90b8_0242ac1c0002row6_col9 {\n",
       "            background-color:  #3d50c3;\n",
       "            color:  #f1f1f1;\n",
       "        }    #T_e7252806_a006_11ea_90b8_0242ac1c0002row6_col10 {\n",
       "            background-color:  #3b4cc0;\n",
       "            color:  #f1f1f1;\n",
       "        }    #T_e7252806_a006_11ea_90b8_0242ac1c0002row6_col11 {\n",
       "            background-color:  #4358cb;\n",
       "            color:  #f1f1f1;\n",
       "        }    #T_e7252806_a006_11ea_90b8_0242ac1c0002row6_col12 {\n",
       "            background-color:  #5977e3;\n",
       "            color:  #000000;\n",
       "        }    #T_e7252806_a006_11ea_90b8_0242ac1c0002row7_col0 {\n",
       "            background-color:  #465ecf;\n",
       "            color:  #f1f1f1;\n",
       "        }    #T_e7252806_a006_11ea_90b8_0242ac1c0002row7_col1 {\n",
       "            background-color:  #4a63d3;\n",
       "            color:  #f1f1f1;\n",
       "        }    #T_e7252806_a006_11ea_90b8_0242ac1c0002row7_col2 {\n",
       "            background-color:  #4f69d9;\n",
       "            color:  #000000;\n",
       "        }    #T_e7252806_a006_11ea_90b8_0242ac1c0002row7_col3 {\n",
       "            background-color:  #4257c9;\n",
       "            color:  #f1f1f1;\n",
       "        }    #T_e7252806_a006_11ea_90b8_0242ac1c0002row7_col4 {\n",
       "            background-color:  #7396f5;\n",
       "            color:  #000000;\n",
       "        }    #T_e7252806_a006_11ea_90b8_0242ac1c0002row7_col5 {\n",
       "            background-color:  #3f53c6;\n",
       "            color:  #f1f1f1;\n",
       "        }    #T_e7252806_a006_11ea_90b8_0242ac1c0002row7_col6 {\n",
       "            background-color:  #b5cdfa;\n",
       "            color:  #000000;\n",
       "        }    #T_e7252806_a006_11ea_90b8_0242ac1c0002row7_col7 {\n",
       "            background-color:  #b40426;\n",
       "            color:  #f1f1f1;\n",
       "        }    #T_e7252806_a006_11ea_90b8_0242ac1c0002row7_col8 {\n",
       "            background-color:  #4b64d5;\n",
       "            color:  #f1f1f1;\n",
       "        }    #T_e7252806_a006_11ea_90b8_0242ac1c0002row7_col9 {\n",
       "            background-color:  #465ecf;\n",
       "            color:  #f1f1f1;\n",
       "        }    #T_e7252806_a006_11ea_90b8_0242ac1c0002row7_col10 {\n",
       "            background-color:  #485fd1;\n",
       "            color:  #f1f1f1;\n",
       "        }    #T_e7252806_a006_11ea_90b8_0242ac1c0002row7_col11 {\n",
       "            background-color:  #4257c9;\n",
       "            color:  #f1f1f1;\n",
       "        }    #T_e7252806_a006_11ea_90b8_0242ac1c0002row7_col12 {\n",
       "            background-color:  #4b64d5;\n",
       "            color:  #f1f1f1;\n",
       "        }    #T_e7252806_a006_11ea_90b8_0242ac1c0002row8_col0 {\n",
       "            background-color:  #3e51c5;\n",
       "            color:  #f1f1f1;\n",
       "        }    #T_e7252806_a006_11ea_90b8_0242ac1c0002row8_col1 {\n",
       "            background-color:  #5673e0;\n",
       "            color:  #000000;\n",
       "        }    #T_e7252806_a006_11ea_90b8_0242ac1c0002row8_col2 {\n",
       "            background-color:  #6180e9;\n",
       "            color:  #000000;\n",
       "        }    #T_e7252806_a006_11ea_90b8_0242ac1c0002row8_col3 {\n",
       "            background-color:  #455cce;\n",
       "            color:  #f1f1f1;\n",
       "        }    #T_e7252806_a006_11ea_90b8_0242ac1c0002row8_col4 {\n",
       "            background-color:  #7b9ff9;\n",
       "            color:  #000000;\n",
       "        }    #T_e7252806_a006_11ea_90b8_0242ac1c0002row8_col5 {\n",
       "            background-color:  #7b9ff9;\n",
       "            color:  #000000;\n",
       "        }    #T_e7252806_a006_11ea_90b8_0242ac1c0002row8_col6 {\n",
       "            background-color:  #7597f6;\n",
       "            color:  #000000;\n",
       "        }    #T_e7252806_a006_11ea_90b8_0242ac1c0002row8_col7 {\n",
       "            background-color:  #80a3fa;\n",
       "            color:  #000000;\n",
       "        }    #T_e7252806_a006_11ea_90b8_0242ac1c0002row8_col8 {\n",
       "            background-color:  #b40426;\n",
       "            color:  #f1f1f1;\n",
       "        }    #T_e7252806_a006_11ea_90b8_0242ac1c0002row8_col9 {\n",
       "            background-color:  #4a63d3;\n",
       "            color:  #f1f1f1;\n",
       "        }    #T_e7252806_a006_11ea_90b8_0242ac1c0002row8_col10 {\n",
       "            background-color:  #485fd1;\n",
       "            color:  #f1f1f1;\n",
       "        }    #T_e7252806_a006_11ea_90b8_0242ac1c0002row8_col11 {\n",
       "            background-color:  #485fd1;\n",
       "            color:  #f1f1f1;\n",
       "        }    #T_e7252806_a006_11ea_90b8_0242ac1c0002row8_col12 {\n",
       "            background-color:  #3b4cc0;\n",
       "            color:  #f1f1f1;\n",
       "        }    #T_e7252806_a006_11ea_90b8_0242ac1c0002row9_col0 {\n",
       "            background-color:  #3d50c3;\n",
       "            color:  #f1f1f1;\n",
       "        }    #T_e7252806_a006_11ea_90b8_0242ac1c0002row9_col1 {\n",
       "            background-color:  #4f69d9;\n",
       "            color:  #000000;\n",
       "        }    #T_e7252806_a006_11ea_90b8_0242ac1c0002row9_col2 {\n",
       "            background-color:  #455cce;\n",
       "            color:  #f1f1f1;\n",
       "        }    #T_e7252806_a006_11ea_90b8_0242ac1c0002row9_col3 {\n",
       "            background-color:  #445acc;\n",
       "            color:  #f1f1f1;\n",
       "        }    #T_e7252806_a006_11ea_90b8_0242ac1c0002row9_col4 {\n",
       "            background-color:  #536edd;\n",
       "            color:  #000000;\n",
       "        }    #T_e7252806_a006_11ea_90b8_0242ac1c0002row9_col5 {\n",
       "            background-color:  #8badfd;\n",
       "            color:  #000000;\n",
       "        }    #T_e7252806_a006_11ea_90b8_0242ac1c0002row9_col6 {\n",
       "            background-color:  #7295f4;\n",
       "            color:  #000000;\n",
       "        }    #T_e7252806_a006_11ea_90b8_0242ac1c0002row9_col7 {\n",
       "            background-color:  #779af7;\n",
       "            color:  #000000;\n",
       "        }    #T_e7252806_a006_11ea_90b8_0242ac1c0002row9_col8 {\n",
       "            background-color:  #455cce;\n",
       "            color:  #f1f1f1;\n",
       "        }    #T_e7252806_a006_11ea_90b8_0242ac1c0002row9_col9 {\n",
       "            background-color:  #b40426;\n",
       "            color:  #f1f1f1;\n",
       "        }    #T_e7252806_a006_11ea_90b8_0242ac1c0002row9_col10 {\n",
       "            background-color:  #4257c9;\n",
       "            color:  #f1f1f1;\n",
       "        }    #T_e7252806_a006_11ea_90b8_0242ac1c0002row9_col11 {\n",
       "            background-color:  #3b4cc0;\n",
       "            color:  #f1f1f1;\n",
       "        }    #T_e7252806_a006_11ea_90b8_0242ac1c0002row9_col12 {\n",
       "            background-color:  #4e68d8;\n",
       "            color:  #000000;\n",
       "        }    #T_e7252806_a006_11ea_90b8_0242ac1c0002row10_col0 {\n",
       "            background-color:  #455cce;\n",
       "            color:  #f1f1f1;\n",
       "        }    #T_e7252806_a006_11ea_90b8_0242ac1c0002row10_col1 {\n",
       "            background-color:  #516ddb;\n",
       "            color:  #000000;\n",
       "        }    #T_e7252806_a006_11ea_90b8_0242ac1c0002row10_col2 {\n",
       "            background-color:  #3b4cc0;\n",
       "            color:  #f1f1f1;\n",
       "        }    #T_e7252806_a006_11ea_90b8_0242ac1c0002row10_col3 {\n",
       "            background-color:  #4358cb;\n",
       "            color:  #f1f1f1;\n",
       "        }    #T_e7252806_a006_11ea_90b8_0242ac1c0002row10_col4 {\n",
       "            background-color:  #b6cefa;\n",
       "            color:  #000000;\n",
       "        }    #T_e7252806_a006_11ea_90b8_0242ac1c0002row10_col5 {\n",
       "            background-color:  #7da0f9;\n",
       "            color:  #000000;\n",
       "        }    #T_e7252806_a006_11ea_90b8_0242ac1c0002row10_col6 {\n",
       "            background-color:  #7699f6;\n",
       "            color:  #000000;\n",
       "        }    #T_e7252806_a006_11ea_90b8_0242ac1c0002row10_col7 {\n",
       "            background-color:  #7da0f9;\n",
       "            color:  #000000;\n",
       "        }    #T_e7252806_a006_11ea_90b8_0242ac1c0002row10_col8 {\n",
       "            background-color:  #485fd1;\n",
       "            color:  #f1f1f1;\n",
       "        }    #T_e7252806_a006_11ea_90b8_0242ac1c0002row10_col9 {\n",
       "            background-color:  #465ecf;\n",
       "            color:  #f1f1f1;\n",
       "        }    #T_e7252806_a006_11ea_90b8_0242ac1c0002row10_col10 {\n",
       "            background-color:  #b40426;\n",
       "            color:  #f1f1f1;\n",
       "        }    #T_e7252806_a006_11ea_90b8_0242ac1c0002row10_col11 {\n",
       "            background-color:  #3c4ec2;\n",
       "            color:  #f1f1f1;\n",
       "        }    #T_e7252806_a006_11ea_90b8_0242ac1c0002row10_col12 {\n",
       "            background-color:  #4055c8;\n",
       "            color:  #f1f1f1;\n",
       "        }    #T_e7252806_a006_11ea_90b8_0242ac1c0002row11_col0 {\n",
       "            background-color:  #445acc;\n",
       "            color:  #f1f1f1;\n",
       "        }    #T_e7252806_a006_11ea_90b8_0242ac1c0002row11_col1 {\n",
       "            background-color:  #516ddb;\n",
       "            color:  #000000;\n",
       "        }    #T_e7252806_a006_11ea_90b8_0242ac1c0002row11_col2 {\n",
       "            background-color:  #4e68d8;\n",
       "            color:  #000000;\n",
       "        }    #T_e7252806_a006_11ea_90b8_0242ac1c0002row11_col3 {\n",
       "            background-color:  #455cce;\n",
       "            color:  #f1f1f1;\n",
       "        }    #T_e7252806_a006_11ea_90b8_0242ac1c0002row11_col4 {\n",
       "            background-color:  #6687ed;\n",
       "            color:  #000000;\n",
       "        }    #T_e7252806_a006_11ea_90b8_0242ac1c0002row11_col5 {\n",
       "            background-color:  #7b9ff9;\n",
       "            color:  #000000;\n",
       "        }    #T_e7252806_a006_11ea_90b8_0242ac1c0002row11_col6 {\n",
       "            background-color:  #81a4fb;\n",
       "            color:  #000000;\n",
       "        }    #T_e7252806_a006_11ea_90b8_0242ac1c0002row11_col7 {\n",
       "            background-color:  #7b9ff9;\n",
       "            color:  #000000;\n",
       "        }    #T_e7252806_a006_11ea_90b8_0242ac1c0002row11_col8 {\n",
       "            background-color:  #4b64d5;\n",
       "            color:  #f1f1f1;\n",
       "        }    #T_e7252806_a006_11ea_90b8_0242ac1c0002row11_col9 {\n",
       "            background-color:  #4257c9;\n",
       "            color:  #f1f1f1;\n",
       "        }    #T_e7252806_a006_11ea_90b8_0242ac1c0002row11_col10 {\n",
       "            background-color:  #3f53c6;\n",
       "            color:  #f1f1f1;\n",
       "        }    #T_e7252806_a006_11ea_90b8_0242ac1c0002row11_col11 {\n",
       "            background-color:  #b40426;\n",
       "            color:  #f1f1f1;\n",
       "        }    #T_e7252806_a006_11ea_90b8_0242ac1c0002row11_col12 {\n",
       "            background-color:  #455cce;\n",
       "            color:  #f1f1f1;\n",
       "        }    #T_e7252806_a006_11ea_90b8_0242ac1c0002row12_col0 {\n",
       "            background-color:  #455cce;\n",
       "            color:  #f1f1f1;\n",
       "        }    #T_e7252806_a006_11ea_90b8_0242ac1c0002row12_col1 {\n",
       "            background-color:  #536edd;\n",
       "            color:  #000000;\n",
       "        }    #T_e7252806_a006_11ea_90b8_0242ac1c0002row12_col2 {\n",
       "            background-color:  #465ecf;\n",
       "            color:  #f1f1f1;\n",
       "        }    #T_e7252806_a006_11ea_90b8_0242ac1c0002row12_col3 {\n",
       "            background-color:  #445acc;\n",
       "            color:  #f1f1f1;\n",
       "        }    #T_e7252806_a006_11ea_90b8_0242ac1c0002row12_col4 {\n",
       "            background-color:  #6788ee;\n",
       "            color:  #000000;\n",
       "        }    #T_e7252806_a006_11ea_90b8_0242ac1c0002row12_col5 {\n",
       "            background-color:  #80a3fa;\n",
       "            color:  #000000;\n",
       "        }    #T_e7252806_a006_11ea_90b8_0242ac1c0002row12_col6 {\n",
       "            background-color:  #94b6ff;\n",
       "            color:  #000000;\n",
       "        }    #T_e7252806_a006_11ea_90b8_0242ac1c0002row12_col7 {\n",
       "            background-color:  #82a6fb;\n",
       "            color:  #000000;\n",
       "        }    #T_e7252806_a006_11ea_90b8_0242ac1c0002row12_col8 {\n",
       "            background-color:  #3d50c3;\n",
       "            color:  #f1f1f1;\n",
       "        }    #T_e7252806_a006_11ea_90b8_0242ac1c0002row12_col9 {\n",
       "            background-color:  #5572df;\n",
       "            color:  #000000;\n",
       "        }    #T_e7252806_a006_11ea_90b8_0242ac1c0002row12_col10 {\n",
       "            background-color:  #4358cb;\n",
       "            color:  #f1f1f1;\n",
       "        }    #T_e7252806_a006_11ea_90b8_0242ac1c0002row12_col11 {\n",
       "            background-color:  #445acc;\n",
       "            color:  #f1f1f1;\n",
       "        }    #T_e7252806_a006_11ea_90b8_0242ac1c0002row12_col12 {\n",
       "            background-color:  #b40426;\n",
       "            color:  #f1f1f1;\n",
       "        }</style><table id=\"T_e7252806_a006_11ea_90b8_0242ac1c0002\" ><thead>    <tr>        <th class=\"blank level0\" ></th>        <th class=\"col_heading level0 col0\" >target</th>        <th class=\"col_heading level0 col1\" >ps_ind_02_cat</th>        <th class=\"col_heading level0 col2\" >ps_ind_04_cat</th>        <th class=\"col_heading level0 col3\" >ps_ind_05_cat</th>        <th class=\"col_heading level0 col4\" >ps_car_01_cat</th>        <th class=\"col_heading level0 col5\" >ps_car_02_cat</th>        <th class=\"col_heading level0 col6\" >ps_car_04_cat</th>        <th class=\"col_heading level0 col7\" >ps_car_06_cat</th>        <th class=\"col_heading level0 col8\" >ps_car_07_cat</th>        <th class=\"col_heading level0 col9\" >ps_car_08_cat</th>        <th class=\"col_heading level0 col10\" >ps_car_09_cat</th>        <th class=\"col_heading level0 col11\" >ps_car_10_cat</th>        <th class=\"col_heading level0 col12\" >ps_car_11_cat</th>    </tr></thead><tbody>\n",
       "                <tr>\n",
       "                        <th id=\"T_e7252806_a006_11ea_90b8_0242ac1c0002level0_row0\" class=\"row_heading level0 row0\" >target</th>\n",
       "                        <td id=\"T_e7252806_a006_11ea_90b8_0242ac1c0002row0_col0\" class=\"data row0 col0\" >1.00</td>\n",
       "                        <td id=\"T_e7252806_a006_11ea_90b8_0242ac1c0002row0_col1\" class=\"data row0 col1\" >0.00</td>\n",
       "                        <td id=\"T_e7252806_a006_11ea_90b8_0242ac1c0002row0_col2\" class=\"data row0 col2\" >0.01</td>\n",
       "                        <td id=\"T_e7252806_a006_11ea_90b8_0242ac1c0002row0_col3\" class=\"data row0 col3\" >0.03</td>\n",
       "                        <td id=\"T_e7252806_a006_11ea_90b8_0242ac1c0002row0_col4\" class=\"data row0 col4\" >0.02</td>\n",
       "                        <td id=\"T_e7252806_a006_11ea_90b8_0242ac1c0002row0_col5\" class=\"data row0 col5\" >-0.03</td>\n",
       "                        <td id=\"T_e7252806_a006_11ea_90b8_0242ac1c0002row0_col6\" class=\"data row0 col6\" >0.03</td>\n",
       "                        <td id=\"T_e7252806_a006_11ea_90b8_0242ac1c0002row0_col7\" class=\"data row0 col7\" >0.01</td>\n",
       "                        <td id=\"T_e7252806_a006_11ea_90b8_0242ac1c0002row0_col8\" class=\"data row0 col8\" >-0.02</td>\n",
       "                        <td id=\"T_e7252806_a006_11ea_90b8_0242ac1c0002row0_col9\" class=\"data row0 col9\" >-0.02</td>\n",
       "                        <td id=\"T_e7252806_a006_11ea_90b8_0242ac1c0002row0_col10\" class=\"data row0 col10\" >0.01</td>\n",
       "                        <td id=\"T_e7252806_a006_11ea_90b8_0242ac1c0002row0_col11\" class=\"data row0 col11\" >0.00</td>\n",
       "                        <td id=\"T_e7252806_a006_11ea_90b8_0242ac1c0002row0_col12\" class=\"data row0 col12\" >0.01</td>\n",
       "            </tr>\n",
       "            <tr>\n",
       "                        <th id=\"T_e7252806_a006_11ea_90b8_0242ac1c0002level0_row1\" class=\"row_heading level0 row1\" >ps_ind_02_cat</th>\n",
       "                        <td id=\"T_e7252806_a006_11ea_90b8_0242ac1c0002row1_col0\" class=\"data row1 col0\" >0.00</td>\n",
       "                        <td id=\"T_e7252806_a006_11ea_90b8_0242ac1c0002row1_col1\" class=\"data row1 col1\" >1.00</td>\n",
       "                        <td id=\"T_e7252806_a006_11ea_90b8_0242ac1c0002row1_col2\" class=\"data row1 col2\" >0.15</td>\n",
       "                        <td id=\"T_e7252806_a006_11ea_90b8_0242ac1c0002row1_col3\" class=\"data row1 col3\" >-0.01</td>\n",
       "                        <td id=\"T_e7252806_a006_11ea_90b8_0242ac1c0002row1_col4\" class=\"data row1 col4\" >0.00</td>\n",
       "                        <td id=\"T_e7252806_a006_11ea_90b8_0242ac1c0002row1_col5\" class=\"data row1 col5\" >0.05</td>\n",
       "                        <td id=\"T_e7252806_a006_11ea_90b8_0242ac1c0002row1_col6\" class=\"data row1 col6\" >-0.07</td>\n",
       "                        <td id=\"T_e7252806_a006_11ea_90b8_0242ac1c0002row1_col7\" class=\"data row1 col7\" >-0.02</td>\n",
       "                        <td id=\"T_e7252806_a006_11ea_90b8_0242ac1c0002row1_col8\" class=\"data row1 col8\" >0.02</td>\n",
       "                        <td id=\"T_e7252806_a006_11ea_90b8_0242ac1c0002row1_col9\" class=\"data row1 col9\" >0.00</td>\n",
       "                        <td id=\"T_e7252806_a006_11ea_90b8_0242ac1c0002row1_col10\" class=\"data row1 col10\" >0.01</td>\n",
       "                        <td id=\"T_e7252806_a006_11ea_90b8_0242ac1c0002row1_col11\" class=\"data row1 col11\" >0.01</td>\n",
       "                        <td id=\"T_e7252806_a006_11ea_90b8_0242ac1c0002row1_col12\" class=\"data row1 col12\" >0.01</td>\n",
       "            </tr>\n",
       "            <tr>\n",
       "                        <th id=\"T_e7252806_a006_11ea_90b8_0242ac1c0002level0_row2\" class=\"row_heading level0 row2\" >ps_ind_04_cat</th>\n",
       "                        <td id=\"T_e7252806_a006_11ea_90b8_0242ac1c0002row2_col0\" class=\"data row2 col0\" >0.01</td>\n",
       "                        <td id=\"T_e7252806_a006_11ea_90b8_0242ac1c0002row2_col1\" class=\"data row2 col1\" >0.15</td>\n",
       "                        <td id=\"T_e7252806_a006_11ea_90b8_0242ac1c0002row2_col2\" class=\"data row2 col2\" >1.00</td>\n",
       "                        <td id=\"T_e7252806_a006_11ea_90b8_0242ac1c0002row2_col3\" class=\"data row2 col3\" >0.01</td>\n",
       "                        <td id=\"T_e7252806_a006_11ea_90b8_0242ac1c0002row2_col4\" class=\"data row2 col4\" >0.03</td>\n",
       "                        <td id=\"T_e7252806_a006_11ea_90b8_0242ac1c0002row2_col5\" class=\"data row2 col5\" >0.00</td>\n",
       "                        <td id=\"T_e7252806_a006_11ea_90b8_0242ac1c0002row2_col6\" class=\"data row2 col6\" >-0.05</td>\n",
       "                        <td id=\"T_e7252806_a006_11ea_90b8_0242ac1c0002row2_col7\" class=\"data row2 col7\" >0.03</td>\n",
       "                        <td id=\"T_e7252806_a006_11ea_90b8_0242ac1c0002row2_col8\" class=\"data row2 col8\" >0.08</td>\n",
       "                        <td id=\"T_e7252806_a006_11ea_90b8_0242ac1c0002row2_col9\" class=\"data row2 col9\" >-0.01</td>\n",
       "                        <td id=\"T_e7252806_a006_11ea_90b8_0242ac1c0002row2_col10\" class=\"data row2 col10\" >-0.04</td>\n",
       "                        <td id=\"T_e7252806_a006_11ea_90b8_0242ac1c0002row2_col11\" class=\"data row2 col11\" >0.02</td>\n",
       "                        <td id=\"T_e7252806_a006_11ea_90b8_0242ac1c0002row2_col12\" class=\"data row2 col12\" >-0.00</td>\n",
       "            </tr>\n",
       "            <tr>\n",
       "                        <th id=\"T_e7252806_a006_11ea_90b8_0242ac1c0002level0_row3\" class=\"row_heading level0 row3\" >ps_ind_05_cat</th>\n",
       "                        <td id=\"T_e7252806_a006_11ea_90b8_0242ac1c0002row3_col0\" class=\"data row3 col0\" >0.03</td>\n",
       "                        <td id=\"T_e7252806_a006_11ea_90b8_0242ac1c0002row3_col1\" class=\"data row3 col1\" >-0.01</td>\n",
       "                        <td id=\"T_e7252806_a006_11ea_90b8_0242ac1c0002row3_col2\" class=\"data row3 col2\" >0.01</td>\n",
       "                        <td id=\"T_e7252806_a006_11ea_90b8_0242ac1c0002row3_col3\" class=\"data row3 col3\" >1.00</td>\n",
       "                        <td id=\"T_e7252806_a006_11ea_90b8_0242ac1c0002row3_col4\" class=\"data row3 col4\" >-0.04</td>\n",
       "                        <td id=\"T_e7252806_a006_11ea_90b8_0242ac1c0002row3_col5\" class=\"data row3 col5\" >0.01</td>\n",
       "                        <td id=\"T_e7252806_a006_11ea_90b8_0242ac1c0002row3_col6\" class=\"data row3 col6\" >-0.01</td>\n",
       "                        <td id=\"T_e7252806_a006_11ea_90b8_0242ac1c0002row3_col7\" class=\"data row3 col7\" >-0.01</td>\n",
       "                        <td id=\"T_e7252806_a006_11ea_90b8_0242ac1c0002row3_col8\" class=\"data row3 col8\" >0.00</td>\n",
       "                        <td id=\"T_e7252806_a006_11ea_90b8_0242ac1c0002row3_col9\" class=\"data row3 col9\" >-0.00</td>\n",
       "                        <td id=\"T_e7252806_a006_11ea_90b8_0242ac1c0002row3_col10\" class=\"data row3 col10\" >-0.01</td>\n",
       "                        <td id=\"T_e7252806_a006_11ea_90b8_0242ac1c0002row3_col11\" class=\"data row3 col11\" >0.00</td>\n",
       "                        <td id=\"T_e7252806_a006_11ea_90b8_0242ac1c0002row3_col12\" class=\"data row3 col12\" >-0.00</td>\n",
       "            </tr>\n",
       "            <tr>\n",
       "                        <th id=\"T_e7252806_a006_11ea_90b8_0242ac1c0002level0_row4\" class=\"row_heading level0 row4\" >ps_car_01_cat</th>\n",
       "                        <td id=\"T_e7252806_a006_11ea_90b8_0242ac1c0002row4_col0\" class=\"data row4 col0\" >0.02</td>\n",
       "                        <td id=\"T_e7252806_a006_11ea_90b8_0242ac1c0002row4_col1\" class=\"data row4 col1\" >0.00</td>\n",
       "                        <td id=\"T_e7252806_a006_11ea_90b8_0242ac1c0002row4_col2\" class=\"data row4 col2\" >0.03</td>\n",
       "                        <td id=\"T_e7252806_a006_11ea_90b8_0242ac1c0002row4_col3\" class=\"data row4 col3\" >-0.04</td>\n",
       "                        <td id=\"T_e7252806_a006_11ea_90b8_0242ac1c0002row4_col4\" class=\"data row4 col4\" >1.00</td>\n",
       "                        <td id=\"T_e7252806_a006_11ea_90b8_0242ac1c0002row4_col5\" class=\"data row4 col5\" >-0.15</td>\n",
       "                        <td id=\"T_e7252806_a006_11ea_90b8_0242ac1c0002row4_col6\" class=\"data row4 col6\" >0.07</td>\n",
       "                        <td id=\"T_e7252806_a006_11ea_90b8_0242ac1c0002row4_col7\" class=\"data row4 col7\" >0.05</td>\n",
       "                        <td id=\"T_e7252806_a006_11ea_90b8_0242ac1c0002row4_col8\" class=\"data row4 col8\" >0.08</td>\n",
       "                        <td id=\"T_e7252806_a006_11ea_90b8_0242ac1c0002row4_col9\" class=\"data row4 col9\" >-0.06</td>\n",
       "                        <td id=\"T_e7252806_a006_11ea_90b8_0242ac1c0002row4_col10\" class=\"data row4 col10\" >0.27</td>\n",
       "                        <td id=\"T_e7252806_a006_11ea_90b8_0242ac1c0002row4_col11\" class=\"data row4 col11\" >0.01</td>\n",
       "                        <td id=\"T_e7252806_a006_11ea_90b8_0242ac1c0002row4_col12\" class=\"data row4 col12\" >0.01</td>\n",
       "            </tr>\n",
       "            <tr>\n",
       "                        <th id=\"T_e7252806_a006_11ea_90b8_0242ac1c0002level0_row5\" class=\"row_heading level0 row5\" >ps_car_02_cat</th>\n",
       "                        <td id=\"T_e7252806_a006_11ea_90b8_0242ac1c0002row5_col0\" class=\"data row5 col0\" >-0.03</td>\n",
       "                        <td id=\"T_e7252806_a006_11ea_90b8_0242ac1c0002row5_col1\" class=\"data row5 col1\" >0.05</td>\n",
       "                        <td id=\"T_e7252806_a006_11ea_90b8_0242ac1c0002row5_col2\" class=\"data row5 col2\" >0.00</td>\n",
       "                        <td id=\"T_e7252806_a006_11ea_90b8_0242ac1c0002row5_col3\" class=\"data row5 col3\" >0.01</td>\n",
       "                        <td id=\"T_e7252806_a006_11ea_90b8_0242ac1c0002row5_col4\" class=\"data row5 col4\" >-0.15</td>\n",
       "                        <td id=\"T_e7252806_a006_11ea_90b8_0242ac1c0002row5_col5\" class=\"data row5 col5\" >1.00</td>\n",
       "                        <td id=\"T_e7252806_a006_11ea_90b8_0242ac1c0002row5_col6\" class=\"data row5 col6\" >-0.27</td>\n",
       "                        <td id=\"T_e7252806_a006_11ea_90b8_0242ac1c0002row5_col7\" class=\"data row5 col7\" >-0.25</td>\n",
       "                        <td id=\"T_e7252806_a006_11ea_90b8_0242ac1c0002row5_col8\" class=\"data row5 col8\" >-0.02</td>\n",
       "                        <td id=\"T_e7252806_a006_11ea_90b8_0242ac1c0002row5_col9\" class=\"data row5 col9\" >0.04</td>\n",
       "                        <td id=\"T_e7252806_a006_11ea_90b8_0242ac1c0002row5_col10\" class=\"data row5 col10\" >-0.01</td>\n",
       "                        <td id=\"T_e7252806_a006_11ea_90b8_0242ac1c0002row5_col11\" class=\"data row5 col11\" >-0.02</td>\n",
       "                        <td id=\"T_e7252806_a006_11ea_90b8_0242ac1c0002row5_col12\" class=\"data row5 col12\" >-0.00</td>\n",
       "            </tr>\n",
       "            <tr>\n",
       "                        <th id=\"T_e7252806_a006_11ea_90b8_0242ac1c0002level0_row6\" class=\"row_heading level0 row6\" >ps_car_04_cat</th>\n",
       "                        <td id=\"T_e7252806_a006_11ea_90b8_0242ac1c0002row6_col0\" class=\"data row6 col0\" >0.03</td>\n",
       "                        <td id=\"T_e7252806_a006_11ea_90b8_0242ac1c0002row6_col1\" class=\"data row6 col1\" >-0.07</td>\n",
       "                        <td id=\"T_e7252806_a006_11ea_90b8_0242ac1c0002row6_col2\" class=\"data row6 col2\" >-0.05</td>\n",
       "                        <td id=\"T_e7252806_a006_11ea_90b8_0242ac1c0002row6_col3\" class=\"data row6 col3\" >-0.01</td>\n",
       "                        <td id=\"T_e7252806_a006_11ea_90b8_0242ac1c0002row6_col4\" class=\"data row6 col4\" >0.07</td>\n",
       "                        <td id=\"T_e7252806_a006_11ea_90b8_0242ac1c0002row6_col5\" class=\"data row6 col5\" >-0.27</td>\n",
       "                        <td id=\"T_e7252806_a006_11ea_90b8_0242ac1c0002row6_col6\" class=\"data row6 col6\" >1.00</td>\n",
       "                        <td id=\"T_e7252806_a006_11ea_90b8_0242ac1c0002row6_col7\" class=\"data row6 col7\" >0.19</td>\n",
       "                        <td id=\"T_e7252806_a006_11ea_90b8_0242ac1c0002row6_col8\" class=\"data row6 col8\" >-0.04</td>\n",
       "                        <td id=\"T_e7252806_a006_11ea_90b8_0242ac1c0002row6_col9\" class=\"data row6 col9\" >-0.05</td>\n",
       "                        <td id=\"T_e7252806_a006_11ea_90b8_0242ac1c0002row6_col10\" class=\"data row6 col10\" >-0.04</td>\n",
       "                        <td id=\"T_e7252806_a006_11ea_90b8_0242ac1c0002row6_col11\" class=\"data row6 col11\" >0.00</td>\n",
       "                        <td id=\"T_e7252806_a006_11ea_90b8_0242ac1c0002row6_col12\" class=\"data row6 col12\" >0.07</td>\n",
       "            </tr>\n",
       "            <tr>\n",
       "                        <th id=\"T_e7252806_a006_11ea_90b8_0242ac1c0002level0_row7\" class=\"row_heading level0 row7\" >ps_car_06_cat</th>\n",
       "                        <td id=\"T_e7252806_a006_11ea_90b8_0242ac1c0002row7_col0\" class=\"data row7 col0\" >0.01</td>\n",
       "                        <td id=\"T_e7252806_a006_11ea_90b8_0242ac1c0002row7_col1\" class=\"data row7 col1\" >-0.02</td>\n",
       "                        <td id=\"T_e7252806_a006_11ea_90b8_0242ac1c0002row7_col2\" class=\"data row7 col2\" >0.03</td>\n",
       "                        <td id=\"T_e7252806_a006_11ea_90b8_0242ac1c0002row7_col3\" class=\"data row7 col3\" >-0.01</td>\n",
       "                        <td id=\"T_e7252806_a006_11ea_90b8_0242ac1c0002row7_col4\" class=\"data row7 col4\" >0.05</td>\n",
       "                        <td id=\"T_e7252806_a006_11ea_90b8_0242ac1c0002row7_col5\" class=\"data row7 col5\" >-0.25</td>\n",
       "                        <td id=\"T_e7252806_a006_11ea_90b8_0242ac1c0002row7_col6\" class=\"data row7 col6\" >0.19</td>\n",
       "                        <td id=\"T_e7252806_a006_11ea_90b8_0242ac1c0002row7_col7\" class=\"data row7 col7\" >1.00</td>\n",
       "                        <td id=\"T_e7252806_a006_11ea_90b8_0242ac1c0002row7_col8\" class=\"data row7 col8\" >0.01</td>\n",
       "                        <td id=\"T_e7252806_a006_11ea_90b8_0242ac1c0002row7_col9\" class=\"data row7 col9\" >-0.01</td>\n",
       "                        <td id=\"T_e7252806_a006_11ea_90b8_0242ac1c0002row7_col10\" class=\"data row7 col10\" >0.00</td>\n",
       "                        <td id=\"T_e7252806_a006_11ea_90b8_0242ac1c0002row7_col11\" class=\"data row7 col11\" >-0.00</td>\n",
       "                        <td id=\"T_e7252806_a006_11ea_90b8_0242ac1c0002row7_col12\" class=\"data row7 col12\" >0.03</td>\n",
       "            </tr>\n",
       "            <tr>\n",
       "                        <th id=\"T_e7252806_a006_11ea_90b8_0242ac1c0002level0_row8\" class=\"row_heading level0 row8\" >ps_car_07_cat</th>\n",
       "                        <td id=\"T_e7252806_a006_11ea_90b8_0242ac1c0002row8_col0\" class=\"data row8 col0\" >-0.02</td>\n",
       "                        <td id=\"T_e7252806_a006_11ea_90b8_0242ac1c0002row8_col1\" class=\"data row8 col1\" >0.02</td>\n",
       "                        <td id=\"T_e7252806_a006_11ea_90b8_0242ac1c0002row8_col2\" class=\"data row8 col2\" >0.08</td>\n",
       "                        <td id=\"T_e7252806_a006_11ea_90b8_0242ac1c0002row8_col3\" class=\"data row8 col3\" >0.00</td>\n",
       "                        <td id=\"T_e7252806_a006_11ea_90b8_0242ac1c0002row8_col4\" class=\"data row8 col4\" >0.08</td>\n",
       "                        <td id=\"T_e7252806_a006_11ea_90b8_0242ac1c0002row8_col5\" class=\"data row8 col5\" >-0.02</td>\n",
       "                        <td id=\"T_e7252806_a006_11ea_90b8_0242ac1c0002row8_col6\" class=\"data row8 col6\" >-0.04</td>\n",
       "                        <td id=\"T_e7252806_a006_11ea_90b8_0242ac1c0002row8_col7\" class=\"data row8 col7\" >0.01</td>\n",
       "                        <td id=\"T_e7252806_a006_11ea_90b8_0242ac1c0002row8_col8\" class=\"data row8 col8\" >1.00</td>\n",
       "                        <td id=\"T_e7252806_a006_11ea_90b8_0242ac1c0002row8_col9\" class=\"data row8 col9\" >-0.00</td>\n",
       "                        <td id=\"T_e7252806_a006_11ea_90b8_0242ac1c0002row8_col10\" class=\"data row8 col10\" >0.00</td>\n",
       "                        <td id=\"T_e7252806_a006_11ea_90b8_0242ac1c0002row8_col11\" class=\"data row8 col11\" >0.02</td>\n",
       "                        <td id=\"T_e7252806_a006_11ea_90b8_0242ac1c0002row8_col12\" class=\"data row8 col12\" >-0.03</td>\n",
       "            </tr>\n",
       "            <tr>\n",
       "                        <th id=\"T_e7252806_a006_11ea_90b8_0242ac1c0002level0_row9\" class=\"row_heading level0 row9\" >ps_car_08_cat</th>\n",
       "                        <td id=\"T_e7252806_a006_11ea_90b8_0242ac1c0002row9_col0\" class=\"data row9 col0\" >-0.02</td>\n",
       "                        <td id=\"T_e7252806_a006_11ea_90b8_0242ac1c0002row9_col1\" class=\"data row9 col1\" >0.00</td>\n",
       "                        <td id=\"T_e7252806_a006_11ea_90b8_0242ac1c0002row9_col2\" class=\"data row9 col2\" >-0.01</td>\n",
       "                        <td id=\"T_e7252806_a006_11ea_90b8_0242ac1c0002row9_col3\" class=\"data row9 col3\" >-0.00</td>\n",
       "                        <td id=\"T_e7252806_a006_11ea_90b8_0242ac1c0002row9_col4\" class=\"data row9 col4\" >-0.06</td>\n",
       "                        <td id=\"T_e7252806_a006_11ea_90b8_0242ac1c0002row9_col5\" class=\"data row9 col5\" >0.04</td>\n",
       "                        <td id=\"T_e7252806_a006_11ea_90b8_0242ac1c0002row9_col6\" class=\"data row9 col6\" >-0.05</td>\n",
       "                        <td id=\"T_e7252806_a006_11ea_90b8_0242ac1c0002row9_col7\" class=\"data row9 col7\" >-0.01</td>\n",
       "                        <td id=\"T_e7252806_a006_11ea_90b8_0242ac1c0002row9_col8\" class=\"data row9 col8\" >-0.00</td>\n",
       "                        <td id=\"T_e7252806_a006_11ea_90b8_0242ac1c0002row9_col9\" class=\"data row9 col9\" >1.00</td>\n",
       "                        <td id=\"T_e7252806_a006_11ea_90b8_0242ac1c0002row9_col10\" class=\"data row9 col10\" >-0.02</td>\n",
       "                        <td id=\"T_e7252806_a006_11ea_90b8_0242ac1c0002row9_col11\" class=\"data row9 col11\" >-0.03</td>\n",
       "                        <td id=\"T_e7252806_a006_11ea_90b8_0242ac1c0002row9_col12\" class=\"data row9 col12\" >0.03</td>\n",
       "            </tr>\n",
       "            <tr>\n",
       "                        <th id=\"T_e7252806_a006_11ea_90b8_0242ac1c0002level0_row10\" class=\"row_heading level0 row10\" >ps_car_09_cat</th>\n",
       "                        <td id=\"T_e7252806_a006_11ea_90b8_0242ac1c0002row10_col0\" class=\"data row10 col0\" >0.01</td>\n",
       "                        <td id=\"T_e7252806_a006_11ea_90b8_0242ac1c0002row10_col1\" class=\"data row10 col1\" >0.01</td>\n",
       "                        <td id=\"T_e7252806_a006_11ea_90b8_0242ac1c0002row10_col2\" class=\"data row10 col2\" >-0.04</td>\n",
       "                        <td id=\"T_e7252806_a006_11ea_90b8_0242ac1c0002row10_col3\" class=\"data row10 col3\" >-0.01</td>\n",
       "                        <td id=\"T_e7252806_a006_11ea_90b8_0242ac1c0002row10_col4\" class=\"data row10 col4\" >0.27</td>\n",
       "                        <td id=\"T_e7252806_a006_11ea_90b8_0242ac1c0002row10_col5\" class=\"data row10 col5\" >-0.01</td>\n",
       "                        <td id=\"T_e7252806_a006_11ea_90b8_0242ac1c0002row10_col6\" class=\"data row10 col6\" >-0.04</td>\n",
       "                        <td id=\"T_e7252806_a006_11ea_90b8_0242ac1c0002row10_col7\" class=\"data row10 col7\" >0.00</td>\n",
       "                        <td id=\"T_e7252806_a006_11ea_90b8_0242ac1c0002row10_col8\" class=\"data row10 col8\" >0.00</td>\n",
       "                        <td id=\"T_e7252806_a006_11ea_90b8_0242ac1c0002row10_col9\" class=\"data row10 col9\" >-0.02</td>\n",
       "                        <td id=\"T_e7252806_a006_11ea_90b8_0242ac1c0002row10_col10\" class=\"data row10 col10\" >1.00</td>\n",
       "                        <td id=\"T_e7252806_a006_11ea_90b8_0242ac1c0002row10_col11\" class=\"data row10 col11\" >-0.02</td>\n",
       "                        <td id=\"T_e7252806_a006_11ea_90b8_0242ac1c0002row10_col12\" class=\"data row10 col12\" >-0.01</td>\n",
       "            </tr>\n",
       "            <tr>\n",
       "                        <th id=\"T_e7252806_a006_11ea_90b8_0242ac1c0002level0_row11\" class=\"row_heading level0 row11\" >ps_car_10_cat</th>\n",
       "                        <td id=\"T_e7252806_a006_11ea_90b8_0242ac1c0002row11_col0\" class=\"data row11 col0\" >0.00</td>\n",
       "                        <td id=\"T_e7252806_a006_11ea_90b8_0242ac1c0002row11_col1\" class=\"data row11 col1\" >0.01</td>\n",
       "                        <td id=\"T_e7252806_a006_11ea_90b8_0242ac1c0002row11_col2\" class=\"data row11 col2\" >0.02</td>\n",
       "                        <td id=\"T_e7252806_a006_11ea_90b8_0242ac1c0002row11_col3\" class=\"data row11 col3\" >0.00</td>\n",
       "                        <td id=\"T_e7252806_a006_11ea_90b8_0242ac1c0002row11_col4\" class=\"data row11 col4\" >0.01</td>\n",
       "                        <td id=\"T_e7252806_a006_11ea_90b8_0242ac1c0002row11_col5\" class=\"data row11 col5\" >-0.02</td>\n",
       "                        <td id=\"T_e7252806_a006_11ea_90b8_0242ac1c0002row11_col6\" class=\"data row11 col6\" >0.00</td>\n",
       "                        <td id=\"T_e7252806_a006_11ea_90b8_0242ac1c0002row11_col7\" class=\"data row11 col7\" >-0.00</td>\n",
       "                        <td id=\"T_e7252806_a006_11ea_90b8_0242ac1c0002row11_col8\" class=\"data row11 col8\" >0.02</td>\n",
       "                        <td id=\"T_e7252806_a006_11ea_90b8_0242ac1c0002row11_col9\" class=\"data row11 col9\" >-0.03</td>\n",
       "                        <td id=\"T_e7252806_a006_11ea_90b8_0242ac1c0002row11_col10\" class=\"data row11 col10\" >-0.02</td>\n",
       "                        <td id=\"T_e7252806_a006_11ea_90b8_0242ac1c0002row11_col11\" class=\"data row11 col11\" >1.00</td>\n",
       "                        <td id=\"T_e7252806_a006_11ea_90b8_0242ac1c0002row11_col12\" class=\"data row11 col12\" >0.00</td>\n",
       "            </tr>\n",
       "            <tr>\n",
       "                        <th id=\"T_e7252806_a006_11ea_90b8_0242ac1c0002level0_row12\" class=\"row_heading level0 row12\" >ps_car_11_cat</th>\n",
       "                        <td id=\"T_e7252806_a006_11ea_90b8_0242ac1c0002row12_col0\" class=\"data row12 col0\" >0.01</td>\n",
       "                        <td id=\"T_e7252806_a006_11ea_90b8_0242ac1c0002row12_col1\" class=\"data row12 col1\" >0.01</td>\n",
       "                        <td id=\"T_e7252806_a006_11ea_90b8_0242ac1c0002row12_col2\" class=\"data row12 col2\" >-0.00</td>\n",
       "                        <td id=\"T_e7252806_a006_11ea_90b8_0242ac1c0002row12_col3\" class=\"data row12 col3\" >-0.00</td>\n",
       "                        <td id=\"T_e7252806_a006_11ea_90b8_0242ac1c0002row12_col4\" class=\"data row12 col4\" >0.01</td>\n",
       "                        <td id=\"T_e7252806_a006_11ea_90b8_0242ac1c0002row12_col5\" class=\"data row12 col5\" >-0.00</td>\n",
       "                        <td id=\"T_e7252806_a006_11ea_90b8_0242ac1c0002row12_col6\" class=\"data row12 col6\" >0.07</td>\n",
       "                        <td id=\"T_e7252806_a006_11ea_90b8_0242ac1c0002row12_col7\" class=\"data row12 col7\" >0.03</td>\n",
       "                        <td id=\"T_e7252806_a006_11ea_90b8_0242ac1c0002row12_col8\" class=\"data row12 col8\" >-0.03</td>\n",
       "                        <td id=\"T_e7252806_a006_11ea_90b8_0242ac1c0002row12_col9\" class=\"data row12 col9\" >0.03</td>\n",
       "                        <td id=\"T_e7252806_a006_11ea_90b8_0242ac1c0002row12_col10\" class=\"data row12 col10\" >-0.01</td>\n",
       "                        <td id=\"T_e7252806_a006_11ea_90b8_0242ac1c0002row12_col11\" class=\"data row12 col11\" >0.00</td>\n",
       "                        <td id=\"T_e7252806_a006_11ea_90b8_0242ac1c0002row12_col12\" class=\"data row12 col12\" >1.00</td>\n",
       "            </tr>\n",
       "    </tbody></table>"
      ],
      "text/plain": [
       "<pandas.io.formats.style.Styler at 0x7f14e12b0f60>"
      ]
     },
     "execution_count": 66,
     "metadata": {
      "tags": []
     },
     "output_type": "execute_result"
    }
   ],
   "source": [
    "# CATEGORICAL\n",
    "corr4=data2[['target','ps_ind_02_cat','ps_ind_04_cat','ps_ind_05_cat','ps_car_01_cat','ps_car_02_cat','ps_car_04_cat',\n",
    " 'ps_car_06_cat','ps_car_07_cat','ps_car_08_cat','ps_car_09_cat','ps_car_10_cat','ps_car_11_cat']].corr()\n",
    "corr4.style.background_gradient(cmap='coolwarm').set_precision(2)"
   ]
  },
  {
   "cell_type": "markdown",
   "metadata": {
    "colab_type": "text",
    "id": "iu1YHjv9Rphd"
   },
   "source": [
    "- The categorical features doesn't have much coorelation among one another except between **ps_car_02_cat and, ps_car_04_cat and ps_car_06_cat**."
   ]
  },
  {
   "cell_type": "markdown",
   "metadata": {
    "colab_type": "text",
    "id": "ZUqmHfuQjtqg"
   },
   "source": [
    "### **Significance Test for the Correlation**\n",
    "- Null Hypothesis.......**H0:** No correlation\n",
    "- Alternate Hypothesis **H1:** Correlation exists"
   ]
  },
  {
   "cell_type": "code",
   "execution_count": 0,
   "metadata": {
    "colab": {},
    "colab_type": "code",
    "id": "LEA7OgIqVuUm"
   },
   "outputs": [],
   "source": [
    "# Defining function for hypothesis testing\n",
    "def corr_test(feat1,feat2,alpha):\n",
    "  df=len(data2[feat1])-2\n",
    "  alpha=1-(alpha/2)\n",
    "  t1=stats.t.ppf(alpha,df)\n",
    "  r=stats.pearsonr(data2[feat1],data2[feat2])[0]\n",
    "  n=len(data2[feat1])\n",
    "  t2=r/np.sqrt((1-(r*r))/df)\n",
    "  print(feat1,feat2)\n",
    "  if t1>t2 or t1<-t2:\n",
    "    print('Correlation Exists ! Reject the Null Hypothesis')\n",
    "  else:\n",
    "    print('No Correlation ! Accept the Null Hypothesis')\n",
    "  print('')"
   ]
  },
  {
   "cell_type": "code",
   "execution_count": 68,
   "metadata": {
    "colab": {
     "base_uri": "https://localhost:8080/",
     "height": 731
    },
    "colab_type": "code",
    "id": "SuHuVzFyWGOP",
    "outputId": "fb0e8e4f-c16a-408c-cebf-76e39163ef9a"
   },
   "outputs": [
    {
     "name": "stdout",
     "output_type": "stream",
     "text": [
      "ps_reg_03 ps_reg_02\n",
      "No Correlation ! Accept the Null Hypothesis\n",
      "\n",
      "ps_car_12 ps_reg_02\n",
      "No Correlation ! Accept the Null Hypothesis\n",
      "\n",
      "ps_car_12 ps_reg_03\n",
      "No Correlation ! Accept the Null Hypothesis\n",
      "\n",
      "ps_car_12 ps_car_12\n",
      "No Correlation ! Accept the Null Hypothesis\n",
      "\n",
      "ps_car_12 ps_car_14\n",
      "No Correlation ! Accept the Null Hypothesis\n",
      "\n",
      "ps_ind_03 ps_ind_01\n",
      "No Correlation ! Accept the Null Hypothesis\n",
      "\n",
      "ps_ind_07_bin ps_ind_06_bin\n",
      "Correlation Exists ! Reject the Null Hypothesis\n",
      "\n",
      "ps_ind_08_bin ps_ind_06_bin\n",
      "Correlation Exists ! Reject the Null Hypothesis\n",
      "\n",
      "ps_ind_09_bin ps_ind_07_bin\n",
      "Correlation Exists ! Reject the Null Hypothesis\n",
      "\n",
      "ps_ind_18_bin ps_ind_16_bin\n",
      "Correlation Exists ! Reject the Null Hypothesis\n",
      "\n",
      "ps_ind_17_bin ps_ind_16_bin\n",
      "Correlation Exists ! Reject the Null Hypothesis\n",
      "\n",
      "ps_car_02_cat ps_car_04_cat\n",
      "Correlation Exists ! Reject the Null Hypothesis\n",
      "\n",
      "ps_car_02_cat ps_car_06_cat\n",
      "Correlation Exists ! Reject the Null Hypothesis\n",
      "\n",
      "ps_car_04_cat ps_car_06_cat\n",
      "No Correlation ! Accept the Null Hypothesis\n",
      "\n"
     ]
    }
   ],
   "source": [
    "corr_test('ps_reg_03','ps_reg_02',0.05)\n",
    "corr_test('ps_car_12','ps_reg_02',0.05)\n",
    "corr_test('ps_car_12','ps_reg_03',0.05)\n",
    "corr_test('ps_car_12','ps_car_12',0.05)\n",
    "corr_test('ps_car_12','ps_car_14',0.05)\n",
    "corr_test('ps_ind_03','ps_ind_01',0.05)\n",
    "corr_test('ps_ind_07_bin','ps_ind_06_bin',0.05)\n",
    "corr_test('ps_ind_08_bin','ps_ind_06_bin',0.05)\n",
    "corr_test('ps_ind_09_bin','ps_ind_07_bin',0.05)\n",
    "corr_test('ps_ind_18_bin','ps_ind_16_bin',0.05)\n",
    "corr_test('ps_ind_17_bin','ps_ind_16_bin',0.05)\n",
    "corr_test('ps_car_02_cat','ps_car_04_cat',0.05)\n",
    "corr_test('ps_car_02_cat','ps_car_06_cat',0.05)\n",
    "corr_test('ps_car_04_cat','ps_car_06_cat',0.05)"
   ]
  },
  {
   "cell_type": "markdown",
   "metadata": {
    "colab_type": "text",
    "id": "YPFXYQK3nWAx"
   },
   "source": [
    "**From the above result, it is verified whether correlation between two features exists or not!**"
   ]
  },
  {
   "cell_type": "markdown",
   "metadata": {
    "colab_type": "text",
    "id": "QVjA7F2XIMTt"
   },
   "source": [
    "### **EDA SUMMARY**"
   ]
  },
  {
   "cell_type": "markdown",
   "metadata": {
    "colab_type": "text",
    "id": "krGTJW3UHT1w"
   },
   "source": [
    "- In EDA, we analyzed the distribution of each feature category and its impact on insurance claims. In interval features, we observed that the distribution and claimed percentage distribution is almost same except for ps_reg_01 and ps_car_15 that show higher claim percentage.\n",
    "Some of the categorical and binary features show very high claim percentage but on the other hand those features were found out to be imbalanced.\n",
    "- In most of the features, the claim rates are almost proportional to their original distribution with small difference in terms of percentages.The **ind** features have more impact on claims whereas the calc binary and interval features have very low impact and hence will not be able to help in prediction."
   ]
  },
  {
   "cell_type": "markdown",
   "metadata": {
    "colab_type": "text",
    "id": "TVI9yWdZdPEG"
   },
   "source": [
    "### **FEATURE SELECTION**"
   ]
  },
  {
   "cell_type": "markdown",
   "metadata": {
    "colab_type": "text",
    "id": "po_mZnH6OYce"
   },
   "source": [
    "#### **Univariate Selection**"
   ]
  },
  {
   "cell_type": "code",
   "execution_count": 69,
   "metadata": {
    "colab": {
     "base_uri": "https://localhost:8080/",
     "height": 204
    },
    "colab_type": "code",
    "id": "n5g3lHoXdOmS",
    "outputId": "666f9618-2e72-4243-96c3-c197e5733610"
   },
   "outputs": [
    {
     "data": {
      "text/html": [
       "<div>\n",
       "<style scoped>\n",
       "    .dataframe tbody tr th:only-of-type {\n",
       "        vertical-align: middle;\n",
       "    }\n",
       "\n",
       "    .dataframe tbody tr th {\n",
       "        vertical-align: top;\n",
       "    }\n",
       "\n",
       "    .dataframe thead th {\n",
       "        text-align: right;\n",
       "    }\n",
       "</style>\n",
       "<table border=\"1\" class=\"dataframe\">\n",
       "  <thead>\n",
       "    <tr style=\"text-align: right;\">\n",
       "      <th></th>\n",
       "      <th>X</th>\n",
       "      <th>Score</th>\n",
       "    </tr>\n",
       "  </thead>\n",
       "  <tbody>\n",
       "    <tr>\n",
       "      <th>198</th>\n",
       "      <td>ps_ind_17_bin</td>\n",
       "      <td>718.220742</td>\n",
       "    </tr>\n",
       "    <tr>\n",
       "      <th>190</th>\n",
       "      <td>ps_ind_07_bin</td>\n",
       "      <td>517.788573</td>\n",
       "    </tr>\n",
       "    <tr>\n",
       "      <th>189</th>\n",
       "      <td>ps_ind_06_bin</td>\n",
       "      <td>417.558962</td>\n",
       "    </tr>\n",
       "    <tr>\n",
       "      <th>59</th>\n",
       "      <td>ps_car_04_cat_9</td>\n",
       "      <td>350.816582</td>\n",
       "    </tr>\n",
       "    <tr>\n",
       "      <th>80</th>\n",
       "      <td>ps_car_09_cat_1</td>\n",
       "      <td>347.944131</td>\n",
       "    </tr>\n",
       "  </tbody>\n",
       "</table>\n",
       "</div>"
      ],
      "text/plain": [
       "                   X       Score\n",
       "198    ps_ind_17_bin  718.220742\n",
       "190    ps_ind_07_bin  517.788573\n",
       "189    ps_ind_06_bin  417.558962\n",
       "59   ps_car_04_cat_9  350.816582\n",
       "80   ps_car_09_cat_1  347.944131"
      ]
     },
     "execution_count": 69,
     "metadata": {
      "tags": []
     },
     "output_type": "execute_result"
    }
   ],
   "source": [
    "from sklearn.feature_selection import SelectKBest\n",
    "from sklearn.feature_selection import chi2\n",
    "\n",
    "best_features=SelectKBest(k=50,score_func=chi2)\n",
    "fit=best_features.fit(X,Y)\n",
    "dfscores = pd.DataFrame(fit.scores_)\n",
    "dfcolumns = pd.DataFrame(X.columns)\n",
    "featureScores = pd.concat([dfcolumns,dfscores],axis=1)\n",
    "featureScores.columns = ['X','Score']\n",
    "featureScores=featureScores.sort_values(by='Score',ascending=False)\n",
    "featureScores.head()"
   ]
  },
  {
   "cell_type": "code",
   "execution_count": 70,
   "metadata": {
    "colab": {
     "base_uri": "https://localhost:8080/",
     "height": 160
    },
    "colab_type": "code",
    "id": "qmWyaeOLz3Ka",
    "outputId": "056c8a18-0e63-4fb4-c134-9268dc999a36"
   },
   "outputs": [
    {
     "data": {
      "text/html": [
       "<div>\n",
       "<style scoped>\n",
       "    .dataframe tbody tr th:only-of-type {\n",
       "        vertical-align: middle;\n",
       "    }\n",
       "\n",
       "    .dataframe tbody tr th {\n",
       "        vertical-align: top;\n",
       "    }\n",
       "\n",
       "    .dataframe thead th {\n",
       "        text-align: right;\n",
       "    }\n",
       "</style>\n",
       "<table border=\"1\" class=\"dataframe\">\n",
       "  <thead>\n",
       "    <tr style=\"text-align: right;\">\n",
       "      <th></th>\n",
       "      <th>ps_ind_17_bin</th>\n",
       "      <th>ps_ind_07_bin</th>\n",
       "      <th>ps_ind_06_bin</th>\n",
       "      <th>ps_car_04_cat_9</th>\n",
       "      <th>ps_car_09_cat_1</th>\n",
       "      <th>ps_ind_05_cat_6</th>\n",
       "      <th>ps_car_01_cat_7</th>\n",
       "      <th>ps_car_01_cat_9</th>\n",
       "      <th>ps_ind_05_cat_2</th>\n",
       "      <th>ps_car_11_cat_104</th>\n",
       "      <th>ps_car_06_cat_9</th>\n",
       "      <th>ps_ind_16_bin</th>\n",
       "      <th>ps_car_01_cat_11</th>\n",
       "      <th>ps_reg_02</th>\n",
       "      <th>ps_car_04_cat_1</th>\n",
       "      <th>ps_car_11_cat_41</th>\n",
       "      <th>ps_car_06_cat_15</th>\n",
       "      <th>ps_ind_05_cat_4</th>\n",
       "      <th>ps_car_04_cat_8</th>\n",
       "      <th>ps_car_06_cat_17</th>\n",
       "      <th>ps_car_02_cat_1</th>\n",
       "      <th>ps_ind_08_bin</th>\n",
       "      <th>ps_car_06_cat_11</th>\n",
       "      <th>ps_car_01_cat_6</th>\n",
       "      <th>ps_car_04_cat_2</th>\n",
       "      <th>ps_car_06_cat_13</th>\n",
       "      <th>ps_car_11_cat_103</th>\n",
       "      <th>ps_car_11_cat_99</th>\n",
       "      <th>ps_ind_01</th>\n",
       "      <th>ps_car_06_cat_10</th>\n",
       "      <th>ps_car_09_cat_0</th>\n",
       "      <th>ps_car_11_cat_32</th>\n",
       "      <th>ps_reg_01</th>\n",
       "      <th>ps_car_13</th>\n",
       "      <th>ps_car_11_cat_55</th>\n",
       "      <th>ps_car_06_cat_8</th>\n",
       "      <th>ps_car_08_cat_1</th>\n",
       "      <th>ps_car_11_cat_93</th>\n",
       "      <th>ps_car_06_cat_2</th>\n",
       "      <th>ps_car_11_cat_64</th>\n",
       "      <th>...</th>\n",
       "      <th>ps_calc_03</th>\n",
       "      <th>ps_car_11_cat_102</th>\n",
       "      <th>ps_car_01_cat_10</th>\n",
       "      <th>ps_car_11_cat_76</th>\n",
       "      <th>ps_calc_01</th>\n",
       "      <th>ps_car_11_cat_70</th>\n",
       "      <th>ps_car_01_cat_3</th>\n",
       "      <th>ps_calc_02</th>\n",
       "      <th>ps_car_11_cat_27</th>\n",
       "      <th>ps_car_11_cat_23</th>\n",
       "      <th>ps_car_11_cat_2</th>\n",
       "      <th>ps_car_09_cat_2</th>\n",
       "      <th>ps_calc_18_bin</th>\n",
       "      <th>ps_calc_15_bin</th>\n",
       "      <th>ps_car_11_cat_51</th>\n",
       "      <th>ps_car_11_cat_15</th>\n",
       "      <th>ps_car_11</th>\n",
       "      <th>ps_calc_16_bin</th>\n",
       "      <th>ps_calc_12</th>\n",
       "      <th>ps_car_11_cat_8</th>\n",
       "      <th>ps_car_06_cat_6</th>\n",
       "      <th>ps_car_10_cat_2</th>\n",
       "      <th>ps_calc_14</th>\n",
       "      <th>ps_calc_05</th>\n",
       "      <th>ps_car_11_cat_6</th>\n",
       "      <th>ps_calc_09</th>\n",
       "      <th>ps_calc_10</th>\n",
       "      <th>ps_calc_08</th>\n",
       "      <th>ps_calc_13</th>\n",
       "      <th>ps_car_11_cat_73</th>\n",
       "      <th>ps_calc_17_bin</th>\n",
       "      <th>ps_car_11_cat_92</th>\n",
       "      <th>ps_calc_11</th>\n",
       "      <th>ps_car_10_cat_1</th>\n",
       "      <th>ps_car_11_cat_59</th>\n",
       "      <th>ps_car_11_cat_29</th>\n",
       "      <th>ps_car_11_cat_34</th>\n",
       "      <th>ps_calc_07</th>\n",
       "      <th>ps_calc_06</th>\n",
       "      <th>ps_calc_04</th>\n",
       "    </tr>\n",
       "  </thead>\n",
       "  <tbody>\n",
       "    <tr>\n",
       "      <th>0</th>\n",
       "      <td>1.0</td>\n",
       "      <td>1.0</td>\n",
       "      <td>0.0</td>\n",
       "      <td>0.0</td>\n",
       "      <td>0.0</td>\n",
       "      <td>0.0</td>\n",
       "      <td>0.0</td>\n",
       "      <td>0.0</td>\n",
       "      <td>0.0</td>\n",
       "      <td>0.0</td>\n",
       "      <td>0.0</td>\n",
       "      <td>0.0</td>\n",
       "      <td>0.0</td>\n",
       "      <td>0.111111</td>\n",
       "      <td>0.0</td>\n",
       "      <td>0.0</td>\n",
       "      <td>0.0</td>\n",
       "      <td>0.0</td>\n",
       "      <td>0.0</td>\n",
       "      <td>0.0</td>\n",
       "      <td>1.0</td>\n",
       "      <td>0.0</td>\n",
       "      <td>0.0</td>\n",
       "      <td>0.0</td>\n",
       "      <td>0.0</td>\n",
       "      <td>0.0</td>\n",
       "      <td>0.0</td>\n",
       "      <td>0.0</td>\n",
       "      <td>0.285714</td>\n",
       "      <td>0.0</td>\n",
       "      <td>1.0</td>\n",
       "      <td>0.0</td>\n",
       "      <td>0.777778</td>\n",
       "      <td>0.182438</td>\n",
       "      <td>0.0</td>\n",
       "      <td>0.0</td>\n",
       "      <td>0.0</td>\n",
       "      <td>0.0</td>\n",
       "      <td>0.0</td>\n",
       "      <td>0.0</td>\n",
       "      <td>...</td>\n",
       "      <td>0.222222</td>\n",
       "      <td>0.0</td>\n",
       "      <td>1.0</td>\n",
       "      <td>0.0</td>\n",
       "      <td>0.666667</td>\n",
       "      <td>0.0</td>\n",
       "      <td>0.0</td>\n",
       "      <td>0.555556</td>\n",
       "      <td>0.0</td>\n",
       "      <td>0.0</td>\n",
       "      <td>0.0</td>\n",
       "      <td>0.0</td>\n",
       "      <td>0.0</td>\n",
       "      <td>0.0</td>\n",
       "      <td>0.0</td>\n",
       "      <td>0.0</td>\n",
       "      <td>0.666667</td>\n",
       "      <td>1.0</td>\n",
       "      <td>0.1</td>\n",
       "      <td>0.0</td>\n",
       "      <td>0.0</td>\n",
       "      <td>0.0</td>\n",
       "      <td>0.347826</td>\n",
       "      <td>0.166667</td>\n",
       "      <td>0.0</td>\n",
       "      <td>0.142857</td>\n",
       "      <td>0.20</td>\n",
       "      <td>0.8</td>\n",
       "      <td>0.384615</td>\n",
       "      <td>0.0</td>\n",
       "      <td>1.0</td>\n",
       "      <td>0.0</td>\n",
       "      <td>0.473684</td>\n",
       "      <td>1.0</td>\n",
       "      <td>0.0</td>\n",
       "      <td>0.0</td>\n",
       "      <td>0.0</td>\n",
       "      <td>0.111111</td>\n",
       "      <td>1.0</td>\n",
       "      <td>0.6</td>\n",
       "    </tr>\n",
       "    <tr>\n",
       "      <th>1</th>\n",
       "      <td>0.0</td>\n",
       "      <td>0.0</td>\n",
       "      <td>0.0</td>\n",
       "      <td>0.0</td>\n",
       "      <td>0.0</td>\n",
       "      <td>0.0</td>\n",
       "      <td>0.0</td>\n",
       "      <td>0.0</td>\n",
       "      <td>0.0</td>\n",
       "      <td>0.0</td>\n",
       "      <td>0.0</td>\n",
       "      <td>0.0</td>\n",
       "      <td>1.0</td>\n",
       "      <td>0.222222</td>\n",
       "      <td>0.0</td>\n",
       "      <td>0.0</td>\n",
       "      <td>0.0</td>\n",
       "      <td>0.0</td>\n",
       "      <td>0.0</td>\n",
       "      <td>0.0</td>\n",
       "      <td>1.0</td>\n",
       "      <td>1.0</td>\n",
       "      <td>1.0</td>\n",
       "      <td>0.0</td>\n",
       "      <td>0.0</td>\n",
       "      <td>0.0</td>\n",
       "      <td>0.0</td>\n",
       "      <td>0.0</td>\n",
       "      <td>0.142857</td>\n",
       "      <td>0.0</td>\n",
       "      <td>0.0</td>\n",
       "      <td>0.0</td>\n",
       "      <td>0.888889</td>\n",
       "      <td>0.106109</td>\n",
       "      <td>0.0</td>\n",
       "      <td>0.0</td>\n",
       "      <td>1.0</td>\n",
       "      <td>0.0</td>\n",
       "      <td>0.0</td>\n",
       "      <td>0.0</td>\n",
       "      <td>...</td>\n",
       "      <td>0.333333</td>\n",
       "      <td>0.0</td>\n",
       "      <td>0.0</td>\n",
       "      <td>0.0</td>\n",
       "      <td>0.333333</td>\n",
       "      <td>0.0</td>\n",
       "      <td>0.0</td>\n",
       "      <td>0.111111</td>\n",
       "      <td>0.0</td>\n",
       "      <td>0.0</td>\n",
       "      <td>0.0</td>\n",
       "      <td>1.0</td>\n",
       "      <td>0.0</td>\n",
       "      <td>0.0</td>\n",
       "      <td>0.0</td>\n",
       "      <td>0.0</td>\n",
       "      <td>1.000000</td>\n",
       "      <td>1.0</td>\n",
       "      <td>0.1</td>\n",
       "      <td>0.0</td>\n",
       "      <td>0.0</td>\n",
       "      <td>0.0</td>\n",
       "      <td>0.391304</td>\n",
       "      <td>0.166667</td>\n",
       "      <td>0.0</td>\n",
       "      <td>0.142857</td>\n",
       "      <td>0.28</td>\n",
       "      <td>0.6</td>\n",
       "      <td>0.076923</td>\n",
       "      <td>0.0</td>\n",
       "      <td>1.0</td>\n",
       "      <td>0.0</td>\n",
       "      <td>0.157895</td>\n",
       "      <td>1.0</td>\n",
       "      <td>0.0</td>\n",
       "      <td>0.0</td>\n",
       "      <td>0.0</td>\n",
       "      <td>0.555556</td>\n",
       "      <td>0.9</td>\n",
       "      <td>0.4</td>\n",
       "    </tr>\n",
       "  </tbody>\n",
       "</table>\n",
       "<p>2 rows × 206 columns</p>\n",
       "</div>"
      ],
      "text/plain": [
       "   ps_ind_17_bin  ps_ind_07_bin  ...  ps_calc_06  ps_calc_04\n",
       "0            1.0            1.0  ...         1.0         0.6\n",
       "1            0.0            0.0  ...         0.9         0.4\n",
       "\n",
       "[2 rows x 206 columns]"
      ]
     },
     "execution_count": 70,
     "metadata": {
      "tags": []
     },
     "output_type": "execute_result"
    }
   ],
   "source": [
    "selected_features=X_train_res[featureScores['X'][:]]\n",
    "selected_features.head(2)"
   ]
  },
  {
   "cell_type": "markdown",
   "metadata": {
    "colab_type": "text",
    "id": "h5cvJKATOj1L"
   },
   "source": [
    "#### **Feature Importance**"
   ]
  },
  {
   "cell_type": "code",
   "execution_count": 71,
   "metadata": {
    "colab": {
     "base_uri": "https://localhost:8080/",
     "height": 153
    },
    "colab_type": "code",
    "id": "ZDUoBGmyOgw6",
    "outputId": "a5d808b7-ea9b-488e-db6c-610d3d8b085f"
   },
   "outputs": [
    {
     "data": {
      "text/plain": [
       "ExtraTreesClassifier(bootstrap=False, ccp_alpha=0.0, class_weight=None,\n",
       "                     criterion='gini', max_depth=None, max_features='auto',\n",
       "                     max_leaf_nodes=None, max_samples=None,\n",
       "                     min_impurity_decrease=0.0, min_impurity_split=None,\n",
       "                     min_samples_leaf=1, min_samples_split=2,\n",
       "                     min_weight_fraction_leaf=0.0, n_estimators=100,\n",
       "                     n_jobs=None, oob_score=False, random_state=None, verbose=0,\n",
       "                     warm_start=False)"
      ]
     },
     "execution_count": 71,
     "metadata": {
      "tags": []
     },
     "output_type": "execute_result"
    }
   ],
   "source": [
    "from sklearn.ensemble import ExtraTreesClassifier\n",
    "etc = ExtraTreesClassifier()\n",
    "etc.fit(X,Y)"
   ]
  },
  {
   "cell_type": "code",
   "execution_count": 72,
   "metadata": {
    "colab": {
     "base_uri": "https://localhost:8080/",
     "height": 863
    },
    "colab_type": "code",
    "id": "USl5Ad1tPqGo",
    "outputId": "53db08ad-03da-4d3c-ecae-0be1e8401d7c"
   },
   "outputs": [
    {
     "data": {
      "image/png": "[encoded data removed]",
      "text/plain": [
       "<Figure size 1080x1080 with 1 Axes>"
      ]
     },
     "metadata": {
      "tags": []
     },
     "output_type": "display_data"
    }
   ],
   "source": [
    "plt.figure(figsize=(15,15))\n",
    "feat_importances = pd.Series(etc.feature_importances_, index=X.columns)\n",
    "feat_importances.nlargest(50).plot(kind='barh')\n",
    "plt.show()"
   ]
  },
  {
   "cell_type": "code",
   "execution_count": 0,
   "metadata": {
    "colab": {},
    "colab_type": "code",
    "id": "74fxKVIAWUn5"
   },
   "outputs": [],
   "source": [
    "imp_features=pd.DataFrame(etc.feature_importances_)\n",
    "imp_features_cols=pd.DataFrame(etc.feature_importances_,index=X.columns,columns=['importance'])\n",
    "imp_features_cols=imp_features_cols['importance'].sort_values(ascending=False)\n",
    "imp_features=imp_features_cols.index.to_list()"
   ]
  },
  {
   "cell_type": "markdown",
   "metadata": {
    "colab_type": "text",
    "id": "IbW9rQS6hVVC"
   },
   "source": [
    "## **MODELLING**"
   ]
  },
  {
   "cell_type": "code",
   "execution_count": 0,
   "metadata": {
    "colab": {},
    "colab_type": "code",
    "id": "MoWD-mo9s1Qr"
   },
   "outputs": [],
   "source": [
    "def metrics(test,pred):\n",
    "  print('ACCURACY=',accuracy_score(test,pred))\n",
    "  print('BALANCED ACCURACY=',balanced_accuracy_score(test,pred))\n",
    "  print('F1_SCORE=',f1_score(test,pred))\n",
    "  print('CONFUSION MATRIX')\n",
    "  print(confusion_matrix(test,pred))\n",
    "  print(classification_report(test,pred))"
   ]
  },
  {
   "cell_type": "markdown",
   "metadata": {
    "colab_type": "text",
    "id": "mGAQ9LmBx_O7"
   },
   "source": [
    "**Model 1: Logistic Regression with Unbalanced data**"
   ]
  },
  {
   "cell_type": "code",
   "execution_count": 152,
   "metadata": {
    "colab": {
     "base_uri": "https://localhost:8080/",
     "height": 272
    },
    "colab_type": "code",
    "id": "s7tTRbNGzNau",
    "outputId": "2b644f68-4f9b-462a-9fb4-0134d6ca4e27"
   },
   "outputs": [
    {
     "name": "stdout",
     "output_type": "stream",
     "text": [
      "ACCURACY= 0.9637552922201563\n",
      "BALANCED ACCURACY= 0.5\n",
      "F1_SCORE= 0.0\n",
      "CONFUSION MATRIX\n",
      "[[172092      0]\n",
      " [  6472      0]]\n",
      "              precision    recall  f1-score   support\n",
      "\n",
      "           0       0.96      1.00      0.98    172092\n",
      "           1       0.00      0.00      0.00      6472\n",
      "\n",
      "    accuracy                           0.96    178564\n",
      "   macro avg       0.48      0.50      0.49    178564\n",
      "weighted avg       0.93      0.96      0.95    178564\n",
      "\n"
     ]
    }
   ],
   "source": [
    "X=data2.drop('target',axis=1)\n",
    "Y=data2['target']\n",
    "X_train,X_test,y_train,y_test=train_test_split(X,Y,test_size=0.30)\n",
    "clf=LogisticRegression()\n",
    "clf.fit(X_train,y_train)\n",
    "y_pred=clf.predict(X_test)\n",
    "metrics(y_test,y_pred)"
   ]
  },
  {
   "cell_type": "markdown",
   "metadata": {
    "colab_type": "text",
    "id": "xnDv7yiRJBjt"
   },
   "source": [
    "Although accuracy of the model is 96%, the F1-score is Zero. It is because the data is highly unbalanced with very few claimed data."
   ]
  },
  {
   "cell_type": "markdown",
   "metadata": {
    "colab_type": "text",
    "id": "q0vUsav7yJeB"
   },
   "source": [
    "**Model 2: Logistic Regression with Unbalanced data + One-Hot encoded+ Scaled data**"
   ]
  },
  {
   "cell_type": "code",
   "execution_count": 76,
   "metadata": {
    "colab": {
     "base_uri": "https://localhost:8080/",
     "height": 272
    },
    "colab_type": "code",
    "id": "R-vFVRUL-dYH",
    "outputId": "574d0e53-9c4c-4bcc-b321-1a7e16040ea7"
   },
   "outputs": [
    {
     "name": "stdout",
     "output_type": "stream",
     "text": [
      "ACCURACY= 0.9631560672923993\n",
      "BALANCED ACCURACY= 0.5\n",
      "F1_SCORE= 0.0\n",
      "CONFUSION MATRIX\n",
      "[[171985      0]\n",
      " [  6579      0]]\n",
      "              precision    recall  f1-score   support\n",
      "\n",
      "           0       0.96      1.00      0.98    171985\n",
      "           1       0.00      0.00      0.00      6579\n",
      "\n",
      "    accuracy                           0.96    178564\n",
      "   macro avg       0.48      0.50      0.49    178564\n",
      "weighted avg       0.93      0.96      0.95    178564\n",
      "\n"
     ]
    }
   ],
   "source": [
    "X=data3.drop('target',axis=1)\n",
    "Y=data3['target']\n",
    "X_train,X_test,y_train,y_test=train_test_split(X,Y,test_size=0.30)\n",
    "clf=LogisticRegression()\n",
    "clf.fit(X_train,y_train)\n",
    "y_pred=clf.predict(X_test)\n",
    "metrics(y_test,y_pred)"
   ]
  },
  {
   "cell_type": "markdown",
   "metadata": {
    "colab_type": "text",
    "id": "ttOn735TNYPQ"
   },
   "source": [
    "As we can see here that even after encoding the categorical variables still there is no change in the result. The model is correctly classifying the Zeros and incorrectly classifying the Ones. Therefore,F1 score is still Zero."
   ]
  },
  {
   "cell_type": "markdown",
   "metadata": {
    "colab_type": "text",
    "id": "_WnosuhbyeWy"
   },
   "source": [
    "**Model 3: Logistic Regression with Balanced data**"
   ]
  },
  {
   "cell_type": "code",
   "execution_count": 0,
   "metadata": {
    "colab": {
     "base_uri": "https://localhost:8080/",
     "height": 34
    },
    "colab_type": "code",
    "id": "eADo52m0Bdlp",
    "outputId": "731c9f5b-d3a7-46a8-a314-a1b2be8fe0a6"
   },
   "outputs": [
    {
     "data": {
      "text/plain": [
       "((1147036, 55), (1147036, 1))"
      ]
     },
     "execution_count": 80,
     "metadata": {
      "tags": []
     },
     "output_type": "execute_result"
    }
   ],
   "source": [
    "X_train3_res.shape,Y_train3_res.shape"
   ]
  },
  {
   "cell_type": "code",
   "execution_count": 78,
   "metadata": {
    "colab": {
     "base_uri": "https://localhost:8080/",
     "height": 289
    },
    "colab_type": "code",
    "id": "4uiW1_O8qqlV",
    "outputId": "24cc7849-9390-480e-c9c7-a490c7d9f83c"
   },
   "outputs": [
    {
     "name": "stdout",
     "output_type": "stream",
     "text": [
      "ACCURACY= 0.5835035787870774\n",
      "BALANCED ACCURACY= 0.5835108947217937\n",
      "F1_SCORE= 0.5656215429844367\n",
      "CONFUSION MATRIX\n",
      "[[107478  64547]\n",
      " [ 78774  93312]]\n",
      "              precision    recall  f1-score   support\n",
      "\n",
      "           0       0.58      0.62      0.60    172025\n",
      "           1       0.59      0.54      0.57    172086\n",
      "\n",
      "    accuracy                           0.58    344111\n",
      "   macro avg       0.58      0.58      0.58    344111\n",
      "weighted avg       0.58      0.58      0.58    344111\n",
      "\n"
     ]
    },
    {
     "data": {
      "text/plain": [
       "Counter({'target': 1})"
      ]
     },
     "execution_count": 78,
     "metadata": {
      "tags": []
     },
     "output_type": "execute_result"
    }
   ],
   "source": [
    "X_train,X_test,y_train,y_test=train_test_split(X_train3_res,Y_train3_res,test_size=0.30)\n",
    "clf=LogisticRegression()\n",
    "clf.fit(X_train,y_train)\n",
    "y_pred=clf.predict(X_test)\n",
    "metrics(y_test,y_pred)\n",
    "Counter(y_test)"
   ]
  },
  {
   "cell_type": "markdown",
   "metadata": {
    "colab_type": "text",
    "id": "H7wAwPqhx8iH"
   },
   "source": [
    "It can be seen that the data balancing has a positive impact on the result. The f1-score has increased from zero to 0.57."
   ]
  },
  {
   "cell_type": "markdown",
   "metadata": {
    "colab_type": "text",
    "id": "AUr_B_qVoV1G"
   },
   "source": [
    "**MODEL 3 WITH GRIDSEARCH CV**"
   ]
  },
  {
   "cell_type": "code",
   "execution_count": 77,
   "metadata": {
    "colab": {
     "base_uri": "https://localhost:8080/",
     "height": 51
    },
    "colab_type": "code",
    "id": "spXGdMY7oak2",
    "outputId": "1f95fabd-03df-4fb5-92d9-e6cd1ed4fe58"
   },
   "outputs": [
    {
     "name": "stdout",
     "output_type": "stream",
     "text": [
      "tuned hpyerparameters :(best parameters)  {'C': 1.0, 'penalty': 'l2'}\n",
      "accuracy : 0.5950456178378607\n"
     ]
    }
   ],
   "source": [
    "X_train,X_test,y_train,y_test=train_test_split(X_train_res,y_train_res,test_size=0.30)\n",
    "clf=LogisticRegression()\n",
    "grid={\"C\":np.logspace(-3,3,7), \"penalty\":[\"l1\",\"l2\"]}\n",
    "clf=GridSearchCV(clf,grid,cv=10)\n",
    "clf.fit(X_train,y_train)\n",
    "print(\"tuned hpyerparameters :(best parameters) \",clf.best_params_)\n",
    "print(\"accuracy :\",clf.best_score_)"
   ]
  },
  {
   "cell_type": "markdown",
   "metadata": {
    "colab_type": "text",
    "id": "n4S0kQcn-4q2"
   },
   "source": [
    "Still not much improvement in the accuracy. The logistic regression doesn't works well with datasets having large number of features."
   ]
  },
  {
   "cell_type": "markdown",
   "metadata": {
    "colab_type": "text",
    "id": "0Aa67C1AyxUx"
   },
   "source": [
    "**Model 4: Logistic Regression with Balanced data + One-Hot encoded+ Scaled data**"
   ]
  },
  {
   "cell_type": "code",
   "execution_count": 76,
   "metadata": {
    "colab": {
     "base_uri": "https://localhost:8080/",
     "height": 289
    },
    "colab_type": "code",
    "id": "AY_vA-Rn-xu2",
    "outputId": "59b9df93-5d56-408e-8036-59d7f4667606"
   },
   "outputs": [
    {
     "name": "stdout",
     "output_type": "stream",
     "text": [
      "ACCURACY= 0.5951132047507927\n",
      "BALANCED ACCURACY= 0.5951003226324498\n",
      "F1_SCORE= 0.5829187247418052\n",
      "CONFUSION MATRIX\n",
      "[[107423  64709]\n",
      " [ 74617  97362]]\n",
      "              precision    recall  f1-score   support\n",
      "\n",
      "           0       0.59      0.62      0.61    172132\n",
      "           1       0.60      0.57      0.58    171979\n",
      "\n",
      "    accuracy                           0.60    344111\n",
      "   macro avg       0.60      0.60      0.59    344111\n",
      "weighted avg       0.60      0.60      0.59    344111\n",
      "\n"
     ]
    },
    {
     "data": {
      "text/plain": [
       "Counter({'target': 1})"
      ]
     },
     "execution_count": 76,
     "metadata": {
      "tags": []
     },
     "output_type": "execute_result"
    }
   ],
   "source": [
    "X_train,X_test,y_train,y_test=train_test_split(X_train_res,y_train_res,test_size=0.30)\n",
    "clf=LogisticRegression()\n",
    "clf.fit(X_train,y_train)\n",
    "y_pred=clf.predict(X_test)\n",
    "metrics(y_test,y_pred)\n",
    "Counter(y_test)"
   ]
  },
  {
   "cell_type": "markdown",
   "metadata": {
    "colab_type": "text",
    "id": "eSaempR6VOI9"
   },
   "source": [
    "There is not much change in the result after encoding the categorical variables and scaling the data. The accuracy of the model just increased from 58% to 59% whereas F1 score of One increased from 0.58 to 0.59.It maybe due to the curse of dimensionality. Therefore, instead of using all the features we need to select some best featutes."
   ]
  },
  {
   "cell_type": "markdown",
   "metadata": {
    "colab_type": "text",
    "id": "iwzgJCW1XBvt"
   },
   "source": [
    "**MODEL 4 WITH GRIDSEARCH CV**"
   ]
  },
  {
   "cell_type": "code",
   "execution_count": 0,
   "metadata": {
    "colab": {
     "base_uri": "https://localhost:8080/",
     "height": 54
    },
    "colab_type": "code",
    "id": "26Sh3jTqO-MH",
    "outputId": "c225d27b-5ef1-4c22-f731-96d586aeb8fd"
   },
   "outputs": [
    {
     "data": {
      "text/plain": [
       "'\\ngrid={\"C\":np.logspace(-3,3,7), \"penalty\":[\"l1\",\"l2\"]}\\nclf4_1=LogisticRegression()\\nclf4_cv=GridSearchCV(clf4_1,grid,cv=10)\\nclf4_cv.fit(X_train4,y_train4)\\nprint(\"tuned hpyerparameters :(best parameters) \",clf4_cv.best_params_)\\nprint(\"accuracy :\",clf4_cv.best_score_)\\n'"
      ]
     },
     "execution_count": 85,
     "metadata": {
      "tags": []
     },
     "output_type": "execute_result"
    }
   ],
   "source": [
    "grid={\"C\":np.logspace(-3,3,7), \"penalty\":[\"l1\",\"l2\"]}\n",
    "clf4_1=LogisticRegression()\n",
    "clf4_cv=GridSearchCV(clf4_1,grid,cv=10)\n",
    "clf4_cv.fit(X_train4,y_train4)\n",
    "print(\"tuned hpyerparameters :(best parameters) \",clf4_cv.best_params_)\n",
    "print(\"accuracy :\",clf4_cv.best_score_)"
   ]
  },
  {
   "cell_type": "markdown",
   "metadata": {
    "colab_type": "text",
    "id": "u7X1HEranlci"
   },
   "source": [
    "**Linear_SVC UNBALANCED**"
   ]
  },
  {
   "cell_type": "code",
   "execution_count": 80,
   "metadata": {
    "colab": {
     "base_uri": "https://localhost:8080/",
     "height": 289
    },
    "colab_type": "code",
    "id": "vy6qS4ju7svM",
    "outputId": "c26a21e6-e435-42a4-81ce-a11a51dd9abc"
   },
   "outputs": [
    {
     "name": "stdout",
     "output_type": "stream",
     "text": [
      "ACCURACY= 0.9642873143522771\n",
      "BALANCED ACCURACY= 0.5\n",
      "F1_SCORE= 0.0\n",
      "CONFUSION MATRIX\n",
      "[[172187      0]\n",
      " [  6377      0]]\n",
      "              precision    recall  f1-score   support\n",
      "\n",
      "           0       0.96      1.00      0.98    172187\n",
      "           1       0.00      0.00      0.00      6377\n",
      "\n",
      "    accuracy                           0.96    178564\n",
      "   macro avg       0.48      0.50      0.49    178564\n",
      "weighted avg       0.93      0.96      0.95    178564\n",
      "\n"
     ]
    },
    {
     "data": {
      "text/plain": [
       "Counter({0: 172187, 1: 6377})"
      ]
     },
     "execution_count": 80,
     "metadata": {
      "tags": []
     },
     "output_type": "execute_result"
    }
   ],
   "source": [
    "X=data2.drop('target',axis=1)\n",
    "Y=data2['target']\n",
    "X_train,X_test,y_train,y_test=train_test_split(X,Y,test_size=0.30)\n",
    "lsvc=LinearSVC(penalty='l1', dual=False,max_iter=2000)\n",
    "lsvc.fit(X_train,y_train)\n",
    "y_pred=lsvc.predict(X_test)\n",
    "metrics(y_test,y_pred)\n",
    "Counter(y_test)"
   ]
  },
  {
   "cell_type": "markdown",
   "metadata": {
    "colab_type": "text",
    "id": "6XIPOMgrEDch"
   },
   "source": [
    "**Linear_SVC with sample of BALANCED data**"
   ]
  },
  {
   "cell_type": "code",
   "execution_count": 81,
   "metadata": {
    "colab": {
     "base_uri": "https://localhost:8080/",
     "height": 289
    },
    "colab_type": "code",
    "id": "45TY37TyAE03",
    "outputId": "c518aefa-b040-418b-c163-4c81b7c4fa03"
   },
   "outputs": [
    {
     "name": "stdout",
     "output_type": "stream",
     "text": [
      "ACCURACY= 0.5860888888888889\n",
      "BALANCED ACCURACY= 0.585948099389465\n",
      "F1_SCORE= 0.5689822742629704\n",
      "CONFUSION MATRIX\n",
      "[[28160 17009]\n",
      " [20243 24588]]\n",
      "              precision    recall  f1-score   support\n",
      "\n",
      "           0       0.58      0.62      0.60     45169\n",
      "           1       0.59      0.55      0.57     44831\n",
      "\n",
      "    accuracy                           0.59     90000\n",
      "   macro avg       0.59      0.59      0.59     90000\n",
      "weighted avg       0.59      0.59      0.59     90000\n",
      "\n"
     ]
    },
    {
     "data": {
      "text/plain": [
       "Counter({0: 45169, 1: 44831})"
      ]
     },
     "execution_count": 81,
     "metadata": {
      "tags": []
     },
     "output_type": "execute_result"
    }
   ],
   "source": [
    "temp=pd.concat([X_train3_res,Y_train3_res],axis=1)\n",
    "temp1=temp.sample(300000,random_state=42)\n",
    "X=temp1.drop('target',axis=1)\n",
    "Y=temp1['target']\n",
    "X_train,X_test,y_train,y_test=train_test_split(X,Y,test_size=0.30)\n",
    "lsvc=LinearSVC(penalty='l1', dual=False,max_iter=2000)\n",
    "lsvc.fit(X_train,y_train)\n",
    "y_pred=lsvc.predict(X_test)\n",
    "metrics(y_test,y_pred)\n",
    "Counter(y_test)"
   ]
  },
  {
   "cell_type": "markdown",
   "metadata": {
    "colab_type": "text",
    "id": "BEtH9o5DFmXH"
   },
   "source": [
    "On testing this model on various sample size,it was found that after increasing the number of records beyond 300K, the f1-score is not improving further."
   ]
  },
  {
   "cell_type": "markdown",
   "metadata": {
    "colab_type": "text",
    "id": "_usC7h8UEI9T"
   },
   "source": [
    "**Linear_SVC with important features**"
   ]
  },
  {
   "cell_type": "code",
   "execution_count": 82,
   "metadata": {
    "colab": {
     "base_uri": "https://localhost:8080/",
     "height": 340
    },
    "colab_type": "code",
    "id": "unw426txGJrL",
    "outputId": "50291e62-846c-4c88-de31-a1eeb1044340"
   },
   "outputs": [
    {
     "name": "stdout",
     "output_type": "stream",
     "text": [
      "10  F1_SCORE= 0.5080791468149681\n",
      "20  F1_SCORE= 0.5295758928571428\n",
      "30  F1_SCORE= 0.550552573413325\n",
      "40  F1_SCORE= 0.5574800663140443\n",
      "50  F1_SCORE= 0.5704122070708647\n",
      "60  F1_SCORE= 0.572330203786856\n",
      "70  F1_SCORE= 0.5723159388302065\n",
      "80  F1_SCORE= 0.5711665269849302\n",
      "90  F1_SCORE= 0.5720005674921576\n",
      "100  F1_SCORE= 0.5747195354781703\n",
      "110  F1_SCORE= 0.5780305053329352\n",
      "120  F1_SCORE= 0.5785979944447059\n",
      "130  F1_SCORE= 0.5785926379789792\n",
      "140  F1_SCORE= 0.5771183253948358\n",
      "150  F1_SCORE= 0.5782170749721074\n",
      "160  F1_SCORE= 0.5749980331995909\n",
      "170  F1_SCORE= 0.5791544526828962\n",
      "180  F1_SCORE= 0.5807298585606001\n",
      "190  F1_SCORE= 0.5818204621703822\n"
     ]
    }
   ],
   "source": [
    "for i in np.arange(10,200,10):\n",
    "  temp=pd.concat([X_train_res[imp_features[:i]],y_train_res],axis=1)\n",
    "  temp1=temp.sample(220000,random_state=42)\n",
    "  X=temp1.drop('target',axis=1)\n",
    "  Y=temp1['target']\n",
    "  X_train,X_test,y_train,y_test=train_test_split(X,Y,test_size=0.30)\n",
    "  lsvc=LinearSVC(penalty='l1', dual=False,max_iter=5000)\n",
    "  lsvc.fit(X_train,y_train)\n",
    "  y_pred=lsvc.predict(X_test)\n",
    "  print(i,'','F1_SCORE=',f1_score(y_test, y_pred))"
   ]
  },
  {
   "cell_type": "markdown",
   "metadata": {
    "colab_type": "text",
    "id": "CrAIBIH4Z4O1"
   },
   "source": [
    "### **XGBoost Classifier**"
   ]
  },
  {
   "cell_type": "code",
   "execution_count": 0,
   "metadata": {
    "colab": {},
    "colab_type": "code",
    "id": "PTBy8Rw4A7ay"
   },
   "outputs": [],
   "source": [
    "## Hyper Parameter Optimization\n",
    "\n",
    "params={\n",
    " \"learning_rate\"    : [0.05, 0.10, 0.15, 0.20, 0.25, 0.30 ] ,\n",
    " \"max_depth\"        : [ 3, 4, 5, 6, 8, 10, 12, 15],\n",
    " \"min_child_weight\" : [ 1, 3, 5, 7 ],\n",
    " \"gamma\"            : [ 0.0, 0.1, 0.2 , 0.3, 0.4 ],\n",
    " \"colsample_bytree\" : [ 0.3, 0.4, 0.5 , 0.7 ]\n",
    "    \n",
    "}"
   ]
  },
  {
   "cell_type": "code",
   "execution_count": 0,
   "metadata": {
    "colab": {
     "base_uri": "https://localhost:8080/",
     "height": 187
    },
    "colab_type": "code",
    "id": "c-quGrFUQvjw",
    "outputId": "e9c3dbea-a78a-469e-e478-1ad7ebd3ce8e"
   },
   "outputs": [
    {
     "name": "stdout",
     "output_type": "stream",
     "text": [
      "Fitting 5 folds for each of 5 candidates, totalling 25 fits\n"
     ]
    },
    {
     "name": "stderr",
     "output_type": "stream",
     "text": [
      "[Parallel(n_jobs=-1)]: Using backend LokyBackend with 4 concurrent workers.\n",
      "[Parallel(n_jobs=-1)]: Done  25 out of  25 | elapsed: 15.3min finished\n"
     ]
    },
    {
     "data": {
      "text/plain": [
       "XGBClassifier(base_score=0.5, booster='gbtree', colsample_bylevel=1,\n",
       "              colsample_bynode=1, colsample_bytree=0.3, gamma=0.2,\n",
       "              learning_rate=0.25, max_delta_step=0, max_depth=10,\n",
       "              min_child_weight=7, missing=None, n_estimators=100, n_jobs=1,\n",
       "              nthread=None, objective='binary:logistic', random_state=0,\n",
       "              reg_alpha=0, reg_lambda=1, scale_pos_weight=1, seed=None,\n",
       "              silent=None, subsample=1, verbosity=1)"
      ]
     },
     "execution_count": 93,
     "metadata": {
      "tags": []
     },
     "output_type": "execute_result"
    }
   ],
   "source": [
    "classifier=xgboost.XGBClassifier()\n",
    "random_search=RandomizedSearchCV(classifier,param_distributions=params,n_iter=5,scoring='roc_auc',n_jobs=-1,cv=5,verbose=3)\n",
    "random_search.fit(X_train_res[imp_features[:20]],y_train_res)\n",
    "random_search.best_estimator_"
   ]
  },
  {
   "cell_type": "code",
   "execution_count": 0,
   "metadata": {
    "colab": {},
    "colab_type": "code",
    "id": "aN_ItBKrShlY"
   },
   "outputs": [],
   "source": [
    "classifier=xgboost.XGBClassifier(base_score=0.5, booster='gbtree', colsample_bylevel=1,\n",
    "              colsample_bynode=1, colsample_bytree=0.4, gamma=0.4,\n",
    "              learning_rate=0.2, max_delta_step=0, max_depth=15,\n",
    "              min_child_weight=3, missing=None, n_estimators=100, n_jobs=1,\n",
    "              nthread=None, objective='binary:logistic', random_state=0,\n",
    "              reg_alpha=0, reg_lambda=1, scale_pos_weight=1, seed=None,\n",
    "              silent=None, subsample=1, verbosity=1)"
   ]
  },
  {
   "cell_type": "code",
   "execution_count": 0,
   "metadata": {
    "colab": {},
    "colab_type": "code",
    "id": "o5l9Gh0Ee0ze"
   },
   "outputs": [],
   "source": [
    "score=cross_val_score(classifier,X_train_res[imp_features[:20]],y_train_res,cv=10)"
   ]
  },
  {
   "cell_type": "code",
   "execution_count": 87,
   "metadata": {
    "colab": {
     "base_uri": "https://localhost:8080/",
     "height": 34
    },
    "colab_type": "code",
    "id": "djTNyL2FfAYO",
    "outputId": "418bb164-c6b3-4351-b73d-dd39bd677993"
   },
   "outputs": [
    {
     "data": {
      "text/plain": [
       "0.9915774218015464"
      ]
     },
     "execution_count": 87,
     "metadata": {
      "tags": []
     },
     "output_type": "execute_result"
    }
   ],
   "source": [
    "score.mean()"
   ]
  },
  {
   "cell_type": "markdown",
   "metadata": {
    "colab_type": "text",
    "id": "JS3ohO9LecSR"
   },
   "source": [
    "**Checking the Model for first n important features**"
   ]
  },
  {
   "cell_type": "code",
   "execution_count": 89,
   "metadata": {
    "colab": {
     "base_uri": "https://localhost:8080/",
     "height": 340
    },
    "colab_type": "code",
    "id": "TyFGGFSBsVTe",
    "outputId": "31373def-f85e-4bad-831d-e1f9b5c447bb"
   },
   "outputs": [
    {
     "name": "stdout",
     "output_type": "stream",
     "text": [
      "10  F1_SCORE= 0.8610722307216562   ACCURACY= 0.8577333333333333\n",
      "20  F1_SCORE= 0.9159156703357811   ACCURACY= 0.9143166666666667\n",
      "30  F1_SCORE= 0.929956560937628   ACCURACY= 0.9287833333333333\n",
      "40  F1_SCORE= 0.9366902718402246   ACCURACY= 0.9353333333333333\n",
      "50  F1_SCORE= 0.9428024038382813   ACCURACY= 0.9417833333333333\n",
      "60  F1_SCORE= 0.9288302699879207   ACCURACY= 0.9273333333333333\n",
      "70  F1_SCORE= 0.9264419329696025   ACCURACY= 0.9245\n",
      "80  F1_SCORE= 0.9232302764886595   ACCURACY= 0.9217\n",
      "90  F1_SCORE= 0.9212965233168244   ACCURACY= 0.91975\n",
      "100  F1_SCORE= 0.9199470129360394   ACCURACY= 0.9184166666666667\n",
      "110  F1_SCORE= 0.9189303490679593   ACCURACY= 0.9169333333333334\n",
      "120  F1_SCORE= 0.910184141300263   ACCURACY= 0.9083833333333333\n",
      "130  F1_SCORE= 0.9141866701550133   ACCURACY= 0.9125333333333333\n",
      "140  F1_SCORE= 0.9129895965822001   ACCURACY= 0.9110666666666667\n",
      "150  F1_SCORE= 0.9101446420069284   ACCURACY= 0.9087833333333334\n",
      "160  F1_SCORE= 0.90674177542699   ACCURACY= 0.9050833333333334\n",
      "170  F1_SCORE= 0.9118483412322275   ACCURACY= 0.9101\n",
      "180  F1_SCORE= 0.9076502554423871   ACCURACY= 0.9054\n",
      "190  F1_SCORE= 0.9085087362860625   ACCURACY= 0.9061833333333333\n"
     ]
    }
   ],
   "source": [
    "for i in np.arange(10,200,10):\n",
    "  temp=pd.concat([X_train_res[imp_features[:i]],y_train_res],axis=1)\n",
    "  temp1=temp.sample(200000,random_state=42)\n",
    "  X_temp=temp1.drop('target',axis=1)\n",
    "  Y_temp=temp1['target']\n",
    "  X_train,X_test,y_train,y_test=train_test_split(X_temp,Y_temp,test_size=0.30)\n",
    "  classifier.fit(X_train,y_train)\n",
    "  y_pred=classifier.predict(X_test)\n",
    "  #print('ACCURACY=',accuracy_score(y_test,y_pred))\n",
    "  #print('BALANCED ACCURACY=',balanced_accuracy_score(y_test, y_pred))\n",
    "  print(i,'','F1_SCORE=',f1_score(y_test, y_pred),'  ACCURACY=',accuracy_score(y_test,y_pred))\n",
    "  #print('CONFUSION MATRIX')\n",
    "  #print(confusion_matrix(y_test, y_pred))\n",
    "  #print(classification_report(y_test, y_pred))\n",
    "  #Counter(y_test)\n"
   ]
  },
  {
   "cell_type": "markdown",
   "metadata": {
    "colab_type": "text",
    "id": "zHXJ1rOueTZs"
   },
   "source": [
    "The best accuracy and f1-score are achieved with first 50 important features."
   ]
  },
  {
   "cell_type": "markdown",
   "metadata": {
    "colab_type": "text",
    "id": "PkYjZi-We83Q"
   },
   "source": [
    "**Cross validation of the model for first 50 important features**"
   ]
  },
  {
   "cell_type": "code",
   "execution_count": 90,
   "metadata": {
    "colab": {
     "base_uri": "https://localhost:8080/",
     "height": 34
    },
    "colab_type": "code",
    "id": "nHA4vBFfeMdI",
    "outputId": "0989e571-c27b-4e97-bd30-e5d0bce09547"
   },
   "outputs": [
    {
     "data": {
      "text/plain": [
       "0.9983775577757777"
      ]
     },
     "execution_count": 90,
     "metadata": {
      "tags": []
     },
     "output_type": "execute_result"
    }
   ],
   "source": [
    "score=cross_val_score(classifier,X_train_res[imp_features[:50]],y_train_res,cv=10)\n",
    "score.mean()"
   ]
  },
  {
   "cell_type": "markdown",
   "metadata": {
    "colab_type": "text",
    "id": "uAG5wiNjykZl"
   },
   "source": [
    "The accuracy of the model is very high"
   ]
  },
  {
   "cell_type": "markdown",
   "metadata": {
    "colab_type": "text",
    "id": "aWzbVycYfVrF"
   },
   "source": [
    "**CONFUSION MATRIX**"
   ]
  },
  {
   "cell_type": "code",
   "execution_count": 91,
   "metadata": {
    "colab": {
     "base_uri": "https://localhost:8080/",
     "height": 272
    },
    "colab_type": "code",
    "id": "59xzN0r_TA5c",
    "outputId": "68b90701-9087-4fd6-d5f4-d55b828963cb"
   },
   "outputs": [
    {
     "name": "stdout",
     "output_type": "stream",
     "text": [
      "ACCURACY= 0.997913463969475\n",
      "BALANCED ACCURACY= 0.9979104471934829\n",
      "F1_SCORE= 0.9979207691416656\n",
      "CONFUSION MATRIX\n",
      "[[171092    708]\n",
      " [    10 172301]]\n",
      "              precision    recall  f1-score   support\n",
      "\n",
      "           0       1.00      1.00      1.00    171800\n",
      "           1       1.00      1.00      1.00    172311\n",
      "\n",
      "    accuracy                           1.00    344111\n",
      "   macro avg       1.00      1.00      1.00    344111\n",
      "weighted avg       1.00      1.00      1.00    344111\n",
      "\n"
     ]
    }
   ],
   "source": [
    "  X_train,X_test,y_train,y_test=train_test_split(X_train_res[imp_features[:50]],y_train_res,test_size=0.30)\n",
    "  classifier.fit(X_train,y_train)\n",
    "  y_pred=classifier.predict(X_test)\n",
    "  metrics(y_test,y_pred)"
   ]
  },
  {
   "cell_type": "markdown",
   "metadata": {
    "colab_type": "text",
    "id": "LhUgf_UT3D8c"
   },
   "source": [
    "**XgBoost performed really well with dataset having large number of features. The accuracy and f1-score comes out to be 99%**"
   ]
  },
  {
   "cell_type": "markdown",
   "metadata": {
    "colab_type": "text",
    "id": "VwVFVCbj3Znu"
   },
   "source": [
    "**Let's check the performance of the model with Original UNBALANCED dataset. The percentage of claimed data is about 3%**."
   ]
  },
  {
   "cell_type": "code",
   "execution_count": 103,
   "metadata": {
    "colab": {
     "base_uri": "https://localhost:8080/",
     "height": 34
    },
    "colab_type": "code",
    "id": "Bs8HwUK92-PY",
    "outputId": "c13382ff-d5b7-41f6-e74b-411425ae0239"
   },
   "outputs": [
    {
     "data": {
      "text/plain": [
       "(595212, 207)"
      ]
     },
     "execution_count": 103,
     "metadata": {
      "tags": []
     },
     "output_type": "execute_result"
    }
   ],
   "source": [
    "data3.shape"
   ]
  },
  {
   "cell_type": "code",
   "execution_count": 101,
   "metadata": {
    "colab": {
     "base_uri": "https://localhost:8080/",
     "height": 272
    },
    "colab_type": "code",
    "id": "g21DfiiF04cP",
    "outputId": "0d5c1437-d553-4cd1-bf7b-190d1af99c76"
   },
   "outputs": [
    {
     "name": "stdout",
     "output_type": "stream",
     "text": [
      "ACCURACY= 0.9986206595297138\n",
      "BALANCED ACCURACY= 0.9992620661333984\n",
      "F1_SCORE= 0.9814282805890471\n",
      "CONFUSION MATRIX\n",
      "[[572698    820]\n",
      " [     1  21693]]\n",
      "              precision    recall  f1-score   support\n",
      "\n",
      "           0       1.00      1.00      1.00    573518\n",
      "           1       0.96      1.00      0.98     21694\n",
      "\n",
      "    accuracy                           1.00    595212\n",
      "   macro avg       0.98      1.00      0.99    595212\n",
      "weighted avg       1.00      1.00      1.00    595212\n",
      "\n"
     ]
    }
   ],
   "source": [
    "X=data3[imp_features[:50]]\n",
    "Y=data3['target']\n",
    "y_pred=classifier.predict(X)\n",
    "metrics(Y,y_pred)"
   ]
  },
  {
   "cell_type": "markdown",
   "metadata": {
    "colab_type": "text",
    "id": "P_VC_Ete35Qb"
   },
   "source": [
    "**The model achieved very high accuracy even with unbalanced dataset. From the confusion matrix we can observe only 1 missclassification of claimed data.**"
   ]
  },
  {
   "cell_type": "markdown",
   "metadata": {
    "colab_type": "text",
    "id": "NwaulCGBgL8a"
   },
   "source": [
    "### **AdaBoostClassifier**"
   ]
  },
  {
   "cell_type": "code",
   "execution_count": 0,
   "metadata": {
    "colab": {},
    "colab_type": "code",
    "id": "h8Qs9HI9Abuj"
   },
   "outputs": [],
   "source": [
    "from sklearn.ensemble import AdaBoostClassifier\n",
    "ada=AdaBoostClassifier(n_estimators=100, random_state=0)"
   ]
  },
  {
   "cell_type": "code",
   "execution_count": 105,
   "metadata": {
    "colab": {
     "base_uri": "https://localhost:8080/",
     "height": 340
    },
    "colab_type": "code",
    "id": "Xa1BnLQcOlHg",
    "outputId": "15bbd2e4-825c-4bb3-c766-06e8d5a25f48"
   },
   "outputs": [
    {
     "name": "stdout",
     "output_type": "stream",
     "text": [
      "10  F1_SCORE= 0.5858637845256476   ACCURACY= 0.5976666666666667\n",
      "20  F1_SCORE= 0.5855289096113958   ACCURACY= 0.5970166666666666\n",
      "30  F1_SCORE= 0.5889311799197613   ACCURACY= 0.6004\n",
      "40  F1_SCORE= 0.5881145788798631   ACCURACY= 0.5985833333333334\n",
      "50  F1_SCORE= 0.5846359982134882   ACCURACY= 0.597\n",
      "60  F1_SCORE= 0.5898543548414636   ACCURACY= 0.59965\n",
      "70  F1_SCORE= 0.5898336288013092   ACCURACY= 0.5989666666666666\n",
      "80  F1_SCORE= 0.5897856630089221   ACCURACY= 0.6\n",
      "90  F1_SCORE= 0.5908989554210048   ACCURACY= 0.6024833333333334\n",
      "100  F1_SCORE= 0.5863708943564033   ACCURACY= 0.5984833333333334\n",
      "110  F1_SCORE= 0.5859161701323901   ACCURACY= 0.5980833333333333\n",
      "120  F1_SCORE= 0.5885298758317898   ACCURACY= 0.6001333333333333\n",
      "130  F1_SCORE= 0.588197057817311   ACCURACY= 0.5987666666666667\n",
      "140  F1_SCORE= 0.591992633768714   ACCURACY= 0.6012\n",
      "150  F1_SCORE= 0.5851156588193055   ACCURACY= 0.59555\n",
      "160  F1_SCORE= 0.5834788862632283   ACCURACY= 0.5946\n",
      "170  F1_SCORE= 0.5895832976518746   ACCURACY= 0.6006166666666667\n",
      "180  F1_SCORE= 0.5870282655905338   ACCURACY= 0.5974833333333334\n",
      "190  F1_SCORE= 0.5864986869432383   ACCURACY= 0.5984833333333334\n"
     ]
    }
   ],
   "source": [
    "for i in np.arange(10,200,10):\n",
    "  temp=pd.concat([X_train_res[imp_features[:i]],y_train_res],axis=1)\n",
    "  #temp1=temp.sample(200000,random_state=42)\n",
    "  X_temp=temp1.drop('target',axis=1)\n",
    "  Y_temp=temp1['target']\n",
    "  X_train,X_test,y_train,y_test=train_test_split(X_temp,Y_temp,test_size=0.30)\n",
    "  ada.fit(X_train,y_train)\n",
    "  y_pred=ada.predict(X_test)\n",
    "  print(i,'','F1_SCORE=',f1_score(y_test, y_pred),'  ACCURACY=',accuracy_score(y_test,y_pred))"
   ]
  },
  {
   "cell_type": "markdown",
   "metadata": {
    "colab_type": "text",
    "id": "zjdrOxTTKB6v"
   },
   "source": [
    "### **MLPClassifier**"
   ]
  },
  {
   "cell_type": "code",
   "execution_count": 0,
   "metadata": {
    "colab": {},
    "colab_type": "code",
    "id": "C5PMvS92ian-"
   },
   "outputs": [],
   "source": [
    "from sklearn.neural_network import MLPClassifier\n",
    "clf=MLPClassifier()"
   ]
  },
  {
   "cell_type": "code",
   "execution_count": 0,
   "metadata": {
    "colab": {},
    "colab_type": "code",
    "id": "NheXu3Bqbxsj"
   },
   "outputs": [],
   "source": [
    "parameter_space = {\n",
    "    'hidden_layer_sizes': [(206,128,128), (206,128,128,128), (206,128,128,64),(206,128,128,128)],\n",
    "    'activation': ['tanh', 'relu'],\n",
    "    'solver': ['sgd', 'adam'],\n",
    "    'alpha': [0.0001, 0.001,0.01,0.05],\n",
    "    'learning_rate': ['constant','adaptive'],\n",
    "}"
   ]
  },
  {
   "cell_type": "markdown",
   "metadata": {
    "colab_type": "text",
    "id": "q2vkhTxMK81W"
   },
   "source": [
    "**MLP with RandomizedSearchCV**"
   ]
  },
  {
   "cell_type": "code",
   "execution_count": 0,
   "metadata": {
    "colab": {},
    "colab_type": "code",
    "id": "72-Qeq3mcvCL"
   },
   "outputs": [],
   "source": [
    "mlpclf = RandomizedSearchCV(clf,parameter_space,cv=10,scoring='roc_auc',n_iter=5,verbose=3)"
   ]
  },
  {
   "cell_type": "code",
   "execution_count": 0,
   "metadata": {
    "colab": {
     "base_uri": "https://localhost:8080/",
     "height": 139
    },
    "colab_type": "code",
    "id": "PO1e4jsBdgyW",
    "outputId": "8c3be541-0549-462d-9cfe-52bdcdc03af1"
   },
   "outputs": [
    {
     "name": "stdout",
     "output_type": "stream",
     "text": [
      "Fitting 10 folds for each of 5 candidates, totalling 50 fits\n",
      "[CV] solver=adam, learning_rate=adaptive, hidden_layer_sizes=(206, 128, 128, 128), alpha=0.0001, activation=relu \n"
     ]
    },
    {
     "name": "stderr",
     "output_type": "stream",
     "text": [
      "[Parallel(n_jobs=1)]: Using backend SequentialBackend with 1 concurrent workers.\n"
     ]
    },
    {
     "name": "stdout",
     "output_type": "stream",
     "text": [
      "[CV]  solver=adam, learning_rate=adaptive, hidden_layer_sizes=(206, 128, 128, 128), alpha=0.0001, activation=relu, score=0.991, total=168.1min\n",
      "[CV] solver=adam, learning_rate=adaptive, hidden_layer_sizes=(206, 128, 128, 128), alpha=0.0001, activation=relu \n"
     ]
    },
    {
     "name": "stderr",
     "output_type": "stream",
     "text": [
      "[Parallel(n_jobs=1)]: Done   1 out of   1 | elapsed: 168.1min remaining:    0.0s\n"
     ]
    }
   ],
   "source": [
    "search=mlpclf.fit(X_train_res,y_train_res)\n",
    "search.best_params_"
   ]
  },
  {
   "cell_type": "markdown",
   "metadata": {
    "colab_type": "text",
    "id": "7nlG7zwPLGDM"
   },
   "source": [
    "**Applying best parameters**"
   ]
  },
  {
   "cell_type": "code",
   "execution_count": 0,
   "metadata": {
    "colab": {
     "base_uri": "https://localhost:8080/",
     "height": 289
    },
    "colab_type": "code",
    "id": "Ad3xBcR1DSnB",
    "outputId": "87c3c735-7d39-4ee4-8b1e-3e65facd61b6"
   },
   "outputs": [
    {
     "name": "stdout",
     "output_type": "stream",
     "text": [
      "ACCURACY= 0.9616954994173392\n",
      "BALANCED ACCURACY= 0.9616274118099647\n",
      "102  F1_SCORE= 0.9625517431437672   ACCURACY= 0.9616954994173392\n",
      "CONFUSION MATRIX\n",
      "[[161531   9924]\n",
      " [  3257 169399]]\n",
      "              precision    recall  f1-score   support\n",
      "\n",
      "           0       0.98      0.94      0.96    171455\n",
      "           1       0.94      0.98      0.96    172656\n",
      "\n",
      "    accuracy                           0.96    344111\n",
      "   macro avg       0.96      0.96      0.96    344111\n",
      "weighted avg       0.96      0.96      0.96    344111\n",
      "\n"
     ]
    },
    {
     "data": {
      "text/plain": [
       "Counter({'target': 1})"
      ]
     },
     "execution_count": 67,
     "metadata": {
      "tags": []
     },
     "output_type": "execute_result"
    }
   ],
   "source": [
    "mlpclf = MLPClassifier(hidden_layer_sizes=(206,128,128,128),random_state=1, max_iter=10,learning_rate='adaptive',alpha=0.0001,\n",
    "                       activation='relu',solver='adam')\n",
    "mlpclf.fit(X_train_res,y_train_res)\n",
    "y_pred=mlpclf.predict(X_test)\n",
    "print('ACCURACY=',accuracy_score(y_test,y_pred))\n",
    "print('BALANCED ACCURACY=',balanced_accuracy_score(y_test, y_pred))\n",
    "print(i,'','F1_SCORE=',f1_score(y_test, y_pred),'  ACCURACY=',accuracy_score(y_test,y_pred))\n",
    "print('CONFUSION MATRIX')\n",
    "print(confusion_matrix(y_test, y_pred))\n",
    "print(classification_report(y_test, y_pred))\n",
    "Counter(y_test)"
   ]
  },
  {
   "cell_type": "code",
   "execution_count": 0,
   "metadata": {
    "colab": {
     "base_uri": "https://localhost:8080/",
     "height": 289
    },
    "colab_type": "code",
    "id": "HO6yKyIga0ao",
    "outputId": "5bc7b3b3-5f20-40fe-c7d4-d70cae77deb5"
   },
   "outputs": [
    {
     "name": "stdout",
     "output_type": "stream",
     "text": [
      "ACCURACY= 0.9740519774142646\n",
      "BALANCED ACCURACY= 0.9739964954919935\n",
      "102  F1_SCORE= 0.9745431944598875   ACCURACY= 0.9740519774142646\n",
      "CONFUSION MATRIX\n",
      "[[164271   7184]\n",
      " [  1745 170911]]\n",
      "              precision    recall  f1-score   support\n",
      "\n",
      "           0       0.99      0.96      0.97    171455\n",
      "           1       0.96      0.99      0.97    172656\n",
      "\n",
      "    accuracy                           0.97    344111\n",
      "   macro avg       0.97      0.97      0.97    344111\n",
      "weighted avg       0.97      0.97      0.97    344111\n",
      "\n"
     ]
    },
    {
     "data": {
      "text/plain": [
       "Counter({'target': 1})"
      ]
     },
     "execution_count": 68,
     "metadata": {
      "tags": []
     },
     "output_type": "execute_result"
    }
   ],
   "source": [
    "mlpclf = MLPClassifier(hidden_layer_sizes=(206,128,128,128),random_state=1, max_iter=15,learning_rate='adaptive',alpha=0.0001,\n",
    "                       activation='relu',solver='adam')\n",
    "mlpclf.fit(X_train_res,y_train_res)\n",
    "y_pred=mlpclf.predict(X_test)\n",
    "print('ACCURACY=',accuracy_score(y_test,y_pred))\n",
    "print('BALANCED ACCURACY=',balanced_accuracy_score(y_test, y_pred))\n",
    "print(i,'','F1_SCORE=',f1_score(y_test, y_pred),'  ACCURACY=',accuracy_score(y_test,y_pred))\n",
    "print('CONFUSION MATRIX')\n",
    "print(confusion_matrix(y_test, y_pred))\n",
    "print(classification_report(y_test, y_pred))\n",
    "Counter(y_test)"
   ]
  },
  {
   "cell_type": "markdown",
   "metadata": {
    "colab_type": "text",
    "id": "C7yVYyOPKOnx"
   },
   "source": [
    "**After applying best parameters using RandomizedSearchCV in Sklearn MLPClassifier, the f1 score comes out to be 97%.**"
   ]
  },
  {
   "cell_type": "markdown",
   "metadata": {
    "colab_type": "text",
    "id": "A2TypauLL61t"
   },
   "source": [
    "### **KERAS MLPClassifier**"
   ]
  },
  {
   "cell_type": "code",
   "execution_count": 0,
   "metadata": {
    "colab": {},
    "colab_type": "code",
    "id": "bQ8l8iGrFPRp"
   },
   "outputs": [],
   "source": [
    "import keras\n",
    "from keras.models import Sequential\n",
    "from keras.layers import Dense, Dropout\n",
    "from keras.optimizers import RMSprop\n",
    "batch_size = 128\n",
    "num_classes = 2\n",
    "epochs = 3"
   ]
  },
  {
   "cell_type": "code",
   "execution_count": 0,
   "metadata": {
    "colab": {
     "base_uri": "https://localhost:8080/",
     "height": 34
    },
    "colab_type": "code",
    "id": "CZ_io-I3GZJD",
    "outputId": "68bf6bdb-6401-4044-d7d8-de8ff22c3a67"
   },
   "outputs": [
    {
     "data": {
      "text/plain": [
       "(1147036, 206)"
      ]
     },
     "execution_count": 265,
     "metadata": {
      "tags": []
     },
     "output_type": "execute_result"
    }
   ],
   "source": [
    "X_train_res.shape"
   ]
  },
  {
   "cell_type": "code",
   "execution_count": 0,
   "metadata": {
    "colab": {},
    "colab_type": "code",
    "id": "WLz48TLYGt7E"
   },
   "outputs": [],
   "source": [
    "X_train,X_test,y_train,y_test=train_test_split(X_train_res,y_train_res,test_size=0.30)"
   ]
  },
  {
   "cell_type": "code",
   "execution_count": 0,
   "metadata": {
    "colab": {},
    "colab_type": "code",
    "id": "sT3uK8tnPSQs"
   },
   "outputs": [],
   "source": [
    "input_shape=X_train.shape[1]"
   ]
  },
  {
   "cell_type": "code",
   "execution_count": 0,
   "metadata": {
    "colab": {},
    "colab_type": "code",
    "id": "AY7d2e9GZC0j"
   },
   "outputs": [],
   "source": [
    "y_train1=keras.utils.to_categorical(y_train)\n",
    "y_test1=keras.utils.to_categorical(y_test)"
   ]
  },
  {
   "cell_type": "code",
   "execution_count": 0,
   "metadata": {
    "colab": {
     "base_uri": "https://localhost:8080/",
     "height": 493
    },
    "colab_type": "code",
    "id": "hU_jmdaEG-dO",
    "outputId": "8c6f6d61-e6d3-459d-8442-b14ebccc808b"
   },
   "outputs": [
    {
     "name": "stdout",
     "output_type": "stream",
     "text": [
      "Model: \"sequential_17\"\n",
      "_________________________________________________________________\n",
      "Layer (type)                 Output Shape              Param #   \n",
      "=================================================================\n",
      "dense_106 (Dense)            (None, 128)               19328     \n",
      "_________________________________________________________________\n",
      "dense_107 (Dense)            (None, 128)               16512     \n",
      "_________________________________________________________________\n",
      "dense_108 (Dense)            (None, 128)               16512     \n",
      "_________________________________________________________________\n",
      "dense_109 (Dense)            (None, 128)               16512     \n",
      "_________________________________________________________________\n",
      "dense_110 (Dense)            (None, 128)               16512     \n",
      "_________________________________________________________________\n",
      "dropout_24 (Dropout)         (None, 128)               0         \n",
      "_________________________________________________________________\n",
      "dense_111 (Dense)            (None, 128)               16512     \n",
      "_________________________________________________________________\n",
      "dropout_25 (Dropout)         (None, 128)               0         \n",
      "_________________________________________________________________\n",
      "dense_112 (Dense)            (None, 128)               16512     \n",
      "_________________________________________________________________\n",
      "dense_113 (Dense)            (None, 2)                 258       \n",
      "=================================================================\n",
      "Total params: 118,658\n",
      "Trainable params: 118,658\n",
      "Non-trainable params: 0\n",
      "_________________________________________________________________\n"
     ]
    }
   ],
   "source": [
    "model = Sequential()\n",
    "model.add(Dense(128, activation='relu', input_shape=(input_shape,)))\n",
    "#model.add(Dropout(0.2))\n",
    "model.add(Dense(128, activation='relu'))\n",
    "#model.add(Dropout(0.2))\n",
    "model.add(Dense(128, activation='relu'))\n",
    "#model.add(Dropout(0.2))\n",
    "model.add(Dense(128, activation='relu'))\n",
    "#model.add(Dropout(0.2))\n",
    "model.add(Dense(128, activation='relu'))\n",
    "model.add(Dropout(0.2))\n",
    "model.add(Dense(128, activation='relu'))\n",
    "model.add(Dropout(0.2))\n",
    "model.add(Dense(128, activation='relu'))\n",
    "model.add(Dense(num_classes, activation='softmax'))\n",
    "model.summary()"
   ]
  },
  {
   "cell_type": "code",
   "execution_count": 0,
   "metadata": {
    "colab": {},
    "colab_type": "code",
    "id": "vSoLDD_pIGgO"
   },
   "outputs": [],
   "source": [
    "model.compile(loss='categorical_crossentropy',optimizer=RMSprop(),metrics=['accuracy'])"
   ]
  },
  {
   "cell_type": "code",
   "execution_count": 0,
   "metadata": {
    "colab": {
     "base_uri": "https://localhost:8080/",
     "height": 612
    },
    "colab_type": "code",
    "id": "lVnIUshoIIHj",
    "outputId": "ad5b5218-7bf6-4dde-c2f2-0ab23d1f3455"
   },
   "outputs": [
    {
     "name": "stdout",
     "output_type": "stream",
     "text": [
      "Train on 802925 samples, validate on 344111 samples\n",
      "Epoch 1/17\n",
      "802925/802925 [==============================] - 48s 60us/step - loss: 0.6559 - accuracy: 0.6097 - val_loss: 0.6375 - val_accuracy: 0.6356\n",
      "Epoch 2/17\n",
      "802925/802925 [==============================] - 47s 59us/step - loss: 0.6191 - accuracy: 0.6593 - val_loss: 0.5996 - val_accuracy: 0.6786\n",
      "Epoch 3/17\n",
      "802925/802925 [==============================] - 46s 58us/step - loss: 0.5813 - accuracy: 0.6936 - val_loss: 0.6073 - val_accuracy: 0.6933\n",
      "Epoch 4/17\n",
      "802925/802925 [==============================] - 46s 57us/step - loss: 0.5605 - accuracy: 0.7185 - val_loss: 0.5538 - val_accuracy: 0.7305\n",
      "Epoch 5/17\n",
      "802925/802925 [==============================] - 46s 58us/step - loss: 0.5393 - accuracy: 0.7336 - val_loss: 0.5368 - val_accuracy: 0.7295\n",
      "Epoch 6/17\n",
      "802925/802925 [==============================] - 46s 57us/step - loss: 0.5424 - accuracy: 0.7451 - val_loss: 0.5287 - val_accuracy: 0.7418\n",
      "Epoch 7/17\n",
      "802925/802925 [==============================] - 46s 57us/step - loss: 0.5227 - accuracy: 0.7522 - val_loss: 0.5294 - val_accuracy: 0.7436\n",
      "Epoch 8/17\n",
      "802925/802925 [==============================] - 46s 57us/step - loss: 0.5107 - accuracy: 0.7598 - val_loss: 0.5214 - val_accuracy: 0.7572\n",
      "Epoch 9/17\n",
      "802925/802925 [==============================] - 47s 58us/step - loss: 0.5038 - accuracy: 0.7665 - val_loss: 0.5032 - val_accuracy: 0.7569\n",
      "Epoch 10/17\n",
      "802925/802925 [==============================] - 46s 57us/step - loss: 0.5188 - accuracy: 0.7723 - val_loss: 0.5338 - val_accuracy: 0.7766\n",
      "Epoch 11/17\n",
      "802925/802925 [==============================] - 46s 57us/step - loss: 0.5153 - accuracy: 0.7759 - val_loss: 0.6432 - val_accuracy: 0.7775\n",
      "Epoch 12/17\n",
      "802925/802925 [==============================] - 47s 58us/step - loss: 0.5511 - accuracy: 0.7792 - val_loss: 0.4731 - val_accuracy: 0.7761\n",
      "Epoch 13/17\n",
      "802925/802925 [==============================] - 46s 57us/step - loss: 0.5264 - accuracy: 0.7827 - val_loss: 0.5976 - val_accuracy: 0.7892\n",
      "Epoch 14/17\n",
      "802925/802925 [==============================] - 46s 58us/step - loss: 0.6500 - accuracy: 0.7848 - val_loss: 0.5937 - val_accuracy: 0.7754\n",
      "Epoch 15/17\n",
      "802925/802925 [==============================] - 46s 58us/step - loss: 1.0819 - accuracy: 0.7884 - val_loss: 0.5920 - val_accuracy: 0.7097\n",
      "Epoch 16/17\n",
      "802925/802925 [==============================] - 47s 59us/step - loss: 0.4979 - accuracy: 0.7917 - val_loss: 0.4591 - val_accuracy: 0.7948\n",
      "Epoch 17/17\n",
      "802925/802925 [==============================] - 47s 58us/step - loss: 0.6061 - accuracy: 0.7947 - val_loss: 0.4571 - val_accuracy: 0.7855\n"
     ]
    }
   ],
   "source": [
    "history = model.fit(X_train, y_train1,batch_size=batch_size,epochs=epochs,verbose=1,validation_data=(X_test, y_test1))"
   ]
  },
  {
   "cell_type": "code",
   "execution_count": 0,
   "metadata": {
    "colab": {
     "base_uri": "https://localhost:8080/",
     "height": 51
    },
    "colab_type": "code",
    "id": "nS0h3RFePBts",
    "outputId": "7cf9d019-e092-4978-f190-5a7a2ae0429c"
   },
   "outputs": [
    {
     "name": "stdout",
     "output_type": "stream",
     "text": [
      "Test loss: 0.6467652388564016\n",
      "Test accuracy: 0.627480685710907\n"
     ]
    }
   ],
   "source": [
    "score = model.evaluate(X_test, y_test1, verbose=0)\n",
    "print('Test loss:', score[0])\n",
    "print('Test accuracy:', score[1])"
   ]
  },
  {
   "cell_type": "markdown",
   "metadata": {
    "colab_type": "text",
    "id": "vqlNJZG7KV-E"
   },
   "source": [
    "### **MODELLING SUMMARY**\n",
    "- **Finally after analyzing the various models, the XgBoost and Sklearn MLPClassifier model turned out to be best in classification with an accuracy and f1-score of 0.97-0.98.**\n",
    "- **The logistic model didn't performed well with both balanced and imbalanced dataset even after scaling and encoding categorical variables.The f1-score reached upto 0.58. It seems that the logistics regression is inefficient with dataset having large number of categorical feature**.\n",
    "- **Lastly, the Keras MLPClassifier need some hypertuning.** \n"
   ]
  }
 ],
 "metadata": {
  "accelerator": "GPU",
  "colab": {
   "collapsed_sections": [],
   "machine_shape": "hm",
   "name": "AUTO_INSURANCE_PROJECT (1).ipynb",
   "provenance": []
  },
  "kernelspec": {
   "display_name": "Python 3",
   "language": "python",
   "name": "python3"
  },
  "language_info": {
   "codemirror_mode": {
    "name": "ipython",
    "version": 3
   },
   "file_extension": ".py",
   "mimetype": "text/x-python",
   "name": "python",
   "nbconvert_exporter": "python",
   "pygments_lexer": "ipython3",
   "version": "3.8.5"
  }
 },
 "nbformat": 4,
 "nbformat_minor": 1
}
